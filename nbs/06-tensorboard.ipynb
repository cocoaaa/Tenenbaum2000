{
 "cells": [
  {
   "cell_type": "markdown",
   "metadata": {},
   "source": [
    "## Load libraries"
   ]
  },
  {
   "cell_type": "code",
   "execution_count": null,
   "metadata": {},
   "outputs": [],
   "source": [
    "%reload_ext autoreload\n",
    "%autoreload 2\n",
    "%matplotlib inline"
   ]
  },
  {
   "cell_type": "code",
   "execution_count": null,
   "metadata": {},
   "outputs": [],
   "source": [
    "import os,sys\n",
    "import re\n",
    "import math\n",
    "from datetime import datetime\n",
    "import time\n",
    "sys.dont_write_bytecode = True"
   ]
  },
  {
   "cell_type": "code",
   "execution_count": null,
   "metadata": {},
   "outputs": [],
   "source": [
    "import pandas as pd\n",
    "\n",
    "import numpy as np\n",
    "import matplotlib.pyplot as plt\n",
    "from skimage.color import rgb2gray\n",
    "from skimage.transform import resize\n",
    "\n",
    "from pathlib import Path\n",
    "from typing import List, Set, Dict, Tuple, Optional, Iterable, Mapping, Union, Callable\n",
    "\n",
    "from pprint import pprint\n",
    "from ipdb import set_trace as brpt"
   ]
  },
  {
   "cell_type": "code",
   "execution_count": null,
   "metadata": {},
   "outputs": [],
   "source": [
    "import torch \n",
    "import torch.nn as nn\n",
    "import torch.nn.functional as F\n",
    "import torch.optim as optim\n",
    "from  torch.linalg import norm as tnorm\n",
    "from torch.utils.data import Dataset, DataLoader, random_split\n",
    "\n",
    "from torchvision import datasets, transforms\n",
    "\n",
    "import pytorch_lightning as pl\n",
    "from pytorch_lightning.core.lightning import LightningModule\n",
    "from pytorch_lightning import loggers as pl_loggers\n",
    "\n",
    "# Select Visible GPU\n",
    "os.environ[\"CUDA_DEVICE_ORDER\"]=\"PCI_BUS_ID\"   # see issue #152\n",
    "os.environ[\"CUDA_VISIBLE_DEVICES\"]=\"1\""
   ]
  },
  {
   "cell_type": "markdown",
   "metadata": {},
   "source": [
    "## Set Path \n",
    "1. Add project root and src folders to `sys.path`\n",
    "2. Set DATA_ROOT to `maptile_v2` folder"
   ]
  },
  {
   "cell_type": "code",
   "execution_count": null,
   "metadata": {},
   "outputs": [],
   "source": [
    "this_nb_path = Path(os.getcwd())\n",
    "ROOT = this_nb_path.parent\n",
    "SRC = ROOT/'src'\n",
    "DATA_ROOT = Path(\"/data/hayley-old/maptiles_v2/\")\n",
    "paths2add = [this_nb_path, ROOT]\n",
    "\n",
    "print(\"Project root: \", str(ROOT))\n",
    "print('Src folder: ', str(SRC))\n",
    "print(\"This nb path: \", str(this_nb_path))\n",
    "\n",
    "\n",
    "for p in paths2add:\n",
    "    if str(p) not in sys.path:\n",
    "        sys.path.insert(0, str(p))\n",
    "        print(f\"\\n{str(p)} added to the path.\")\n",
    "        \n",
    "# print(sys.path)\n",
    "\n"
   ]
  },
  {
   "cell_type": "code",
   "execution_count": null,
   "metadata": {},
   "outputs": [],
   "source": [
    "# from src.data.datasets.maptiles import Maptiles, MapStyles\n",
    "from src.data.datamodules.maptiles_datamodule import MaptilesDataModule\n",
    "\n",
    "from src.data.transforms.transforms import Identity\n",
    "from src.models.plmodules.three_fcs import ThreeFCs\n",
    "\n",
    "from src.visualize.utils import show_timgs"
   ]
  },
  {
   "cell_type": "markdown",
   "metadata": {},
   "source": [
    "## Tensorboard playground"
   ]
  },
  {
   "cell_type": "code",
   "execution_count": null,
   "metadata": {},
   "outputs": [],
   "source": [
    "import datetime\n",
    "from torch.utils.tensorboard import SummaryWriter\n",
    "\n",
    "temp = SummaryWriter()\n",
    "SummaryWriter.mro()\n",
    "temp.__class__.mro()\n",
    "\n",
    "import inspect, ipdb\n",
    "def print_mro(x, print_fn:Callable=print):\n",
    "    \"\"\"\n",
    "    Get the MRO of either a class x or an instance x\n",
    "    \"\"\"\n",
    "    if inspect.isclass(x):\n",
    "        [print_fn(kls) for kls in x.mro()[::-1]]\n",
    "    else:\n",
    "        [print_fn(kls) for kls in x.__class__.mro()[::-1]]\n",
    "print_mro(temp)"
   ]
  },
  {
   "cell_type": "code",
   "execution_count": null,
   "metadata": {
    "jupyter": {
     "outputs_hidden": true
    }
   },
   "outputs": [],
   "source": [
    "n_experiments = 2\n",
    "for i in range(n_experiments):\n",
    "    log_dir = \"lightning_logs/play/\" + f\"exp{i}\" #datetime.datetime.now().strftime(\"%Y%m%d-%H%M%S\")\n",
    "    # Instantiating a SummaryWriter object is same as opening/creating \n",
    "    # a new file in the system under `log_dir` \n",
    "    writer = SummaryWriter(log_dir=log_dir ) # creates a new, empty file\n",
    "    \n",
    "    # `add_scalar` writes to the file using the file handle `writer`\n",
    "    ipdb.set_trace()\n",
    "    for j in range(3):\n",
    "        writer.add_scalar('loss/train', j, global_step=j)\n",
    "    for j in range(3):\n",
    "        writer.add_scalar('loss/val', j, global_step=j)\n",
    "    \n",
    "    # 'add_image\n",
    "    # Each call to add_hparams create a new directory under writer.log_dir\n",
    "    writer.add_hparams(\n",
    "        hparam_dict={'lr': 0.1*i, 'bs':32*i},\n",
    "        metric_dict={'hparam/acc': 10*i, 'hparam/loss':100*i},\n",
    "    )\n",
    "    writer.add_hparams(\n",
    "        hparam_dict={'lr': 0.1*i, 'bs':32*i},\n",
    "        metric_dict={'hparam/acc': 10*i, 'hparam/loss':100*i},\n",
    "    )\n",
    "    \n",
    "    \n",
    "    \n",
    "    "
   ]
  },
  {
   "cell_type": "markdown",
   "metadata": {},
   "source": [
    "## `pl.logger.TensorBoardLogger`"
   ]
  },
  {
   "cell_type": "code",
   "execution_count": null,
   "metadata": {},
   "outputs": [],
   "source": [
    "from src.utils.misc import now2str\n",
    "tmpdir = f'tmp/log/{now2str()}'\n",
    "logger = pl_loggers.TensorBoardLogger(tmpdir)\n",
    "hparams = {\n",
    "    \"float\": 0.3,\n",
    "    \"int\": 1,\n",
    "    \"string\": \"abc\",\n",
    "    \"bool\": True,\n",
    "    \"dict\": {\"a\": {\"b\": \"c\"}},\n",
    "    \"list\": [1, 2, 3],\n",
    "    \"layer\": torch.nn.BatchNorm1d,\n",
    "}\n",
    "logger.log_hyperparams(hparams)"
   ]
  },
  {
   "cell_type": "code",
   "execution_count": null,
   "metadata": {},
   "outputs": [],
   "source": [
    "src."
   ]
  },
  {
   "cell_type": "code",
   "execution_count": null,
   "metadata": {},
   "outputs": [],
   "source": [
    "logger.log_dir"
   ]
  },
  {
   "cell_type": "code",
   "execution_count": null,
   "metadata": {},
   "outputs": [],
   "source": [
    "# test 2\n",
    "tmpdir = f'tmp/log/{now2str()}'\n",
    "logger = pl_loggers.TensorBoardLogger(tmpdir, default_hp_metric=False)\n",
    "hparams = {\n",
    "    \"float\": 0.3,\n",
    "    \"int\": 1,\n",
    "    \"string\": \"abc\",\n",
    "    \"bool\": True,\n",
    "    \"dict\": {\"a\": {\"b\": \"c\"}},\n",
    "    \"list\": [1, 2, 3],\n",
    "    \"layer\": torch.nn.BatchNorm1d,\n",
    "}\n",
    "metrics = {\"acc\": torch.tensor([0.54])}\n",
    "logger.log_hyperparams(hparams, metrics)"
   ]
  },
  {
   "cell_type": "code",
   "execution_count": null,
   "metadata": {},
   "outputs": [],
   "source": []
  },
  {
   "cell_type": "code",
   "execution_count": null,
   "metadata": {},
   "outputs": [],
   "source": []
  },
  {
   "cell_type": "code",
   "execution_count": null,
   "metadata": {},
   "outputs": [],
   "source": []
  },
  {
   "cell_type": "code",
   "execution_count": null,
   "metadata": {},
   "outputs": [],
   "source": []
  },
  {
   "cell_type": "code",
   "execution_count": null,
   "metadata": {},
   "outputs": [],
   "source": []
  },
  {
   "cell_type": "code",
   "execution_count": null,
   "metadata": {},
   "outputs": [],
   "source": []
  },
  {
   "cell_type": "code",
   "execution_count": null,
   "metadata": {},
   "outputs": [],
   "source": []
  },
  {
   "cell_type": "code",
   "execution_count": null,
   "metadata": {},
   "outputs": [],
   "source": []
  },
  {
   "cell_type": "code",
   "execution_count": null,
   "metadata": {},
   "outputs": [],
   "source": []
  },
  {
   "cell_type": "code",
   "execution_count": null,
   "metadata": {},
   "outputs": [],
   "source": []
  },
  {
   "cell_type": "code",
   "execution_count": null,
   "metadata": {},
   "outputs": [],
   "source": []
  },
  {
   "cell_type": "code",
   "execution_count": null,
   "metadata": {},
   "outputs": [],
   "source": []
  },
  {
   "cell_type": "code",
   "execution_count": null,
   "metadata": {},
   "outputs": [],
   "source": []
  }
 ],
 "metadata": {
  "kernelspec": {
   "display_name": "Python [conda env:torch2]",
   "language": "python",
   "name": "conda-env-torch2-py"
  },
  "language_info": {
   "codemirror_mode": {
    "name": "ipython",
    "version": 3
   },
   "file_extension": ".py",
   "mimetype": "text/x-python",
   "name": "python",
   "nbconvert_exporter": "python",
   "pygments_lexer": "ipython3",
   "version": "3.7.8"
  }
 },
 "nbformat": 4,
 "nbformat_minor": 4
}
