{
 "cells": [
  {
   "cell_type": "markdown",
   "metadata": {},
   "source": [
    "## Test if Pytorch is using `cuda` and `cuDNN` \n"
   ]
  },
  {
   "cell_type": "code",
   "execution_count": null,
   "metadata": {},
   "outputs": [],
   "source": [
    "import os,sys\n",
    "import torch \n",
    "import torch.nn as nn"
   ]
  },
  {
   "cell_type": "code",
   "execution_count": null,
   "metadata": {},
   "outputs": [],
   "source": [
    "# Select Visible GPU\n",
    "os.environ[\"CUDA_DEVICE_ORDER\"]=\"PCI_BUS_ID\"   # see issue #152\n",
    "os.environ[\"CUDA_VISIBLE_DEVICES\"]=\"1\""
   ]
  },
  {
   "cell_type": "code",
   "execution_count": null,
   "metadata": {},
   "outputs": [],
   "source": [
    "[print(x) for x in [\n",
    "    torch.cuda.is_available(),\n",
    "    torch.cuda.is_initialized(),\n",
    "    torch.backends.cuda.is_built(),\n",
    "    torch.backends.cudnn.version(),\n",
    "    torch.backends.cudnn.is_available(),\n",
    "    torch.backends.cudnn.enabled,\n",
    "    torch.backends.cudnn.benchmark\n",
    "]];"
   ]
  },
  {
   "cell_type": "code",
   "execution_count": null,
   "metadata": {},
   "outputs": [],
   "source": [
    "print(torch.backends.cudnn.is_acceptable(torch.cuda.FloatTensor(1)))\n",
    "print(torch.cuda.is_available())\n",
    "print(torch.backends.cudnn.version())"
   ]
  },
  {
   "cell_type": "code",
   "execution_count": null,
   "metadata": {},
   "outputs": [],
   "source": [
    "in_shape = (1, 3,64,64)\n",
    "x = torch.zeros(in_shape)\n",
    "x = x.cuda();"
   ]
  },
  {
   "cell_type": "code",
   "execution_count": null,
   "metadata": {},
   "outputs": [],
   "source": [
    "for is_on in [True,False]:\n",
    "    for det in [True,False]:\n",
    "        for bench in [True, False]:\n",
    "            try:\n",
    "                with torch.backends.cudnn.flags(enabled=is_on, deterministic=det, benchmark=bench):\n",
    "                    model = nn.Conv2d(in_shape[1], 10, kernel_size=3, stride=1, padding=1)#conv_net(in_shape[1], [3,4,5])\n",
    "                    model.to('cuda')\n",
    "                    print(model(x).shape)\n",
    "            except RuntimeError as e:\n",
    "                print(e)\n",
    "                pass"
   ]
  },
  {
   "cell_type": "code",
   "execution_count": null,
   "metadata": {},
   "outputs": [],
   "source": [
    "# To disenable cudnn: (eg. for conda env:torch2)\n",
    "# torch.backends.cudnn.enabled = False \n",
    "model = nn.Conv2d(in_shape[1], 10, kernel_size=3, stride=1, padding=1)#conv_net(in_shape[1], [3,4,5])\n",
    "model.to('cuda')\n",
    "out = model(x.cuda())\n",
    "out.shape, out.device\n"
   ]
  },
  {
   "cell_type": "code",
   "execution_count": null,
   "metadata": {},
   "outputs": [],
   "source": [
    "m = nn.Conv2d(16, 33, 3, stride=2).to('cuda')\n",
    "input = torch.randn(20, 16, 50, 100)\n",
    "output = m(input.cuda())"
   ]
  },
  {
   "cell_type": "code",
   "execution_count": null,
   "metadata": {},
   "outputs": [],
   "source": [
    "bs = 10000\n",
    "x = torch.randn(bs,3, device='cuda')\n",
    "model = nn.Linear(3,1000).to('cuda')\n",
    "out = model(x)\n",
    "out.shape, out.device"
   ]
  },
  {
   "cell_type": "code",
   "execution_count": null,
   "metadata": {},
   "outputs": [],
   "source": []
  }
 ],
 "metadata": {
  "kernelspec": {
   "display_name": "Python [conda env:test]",
   "language": "python",
   "name": "conda-env-test-py"
  },
  "language_info": {
   "codemirror_mode": {
    "name": "ipython",
    "version": 3
   },
   "file_extension": ".py",
   "mimetype": "text/x-python",
   "name": "python",
   "nbconvert_exporter": "python",
   "pygments_lexer": "ipython3",
   "version": "3.8.6"
  }
 },
 "nbformat": 4,
 "nbformat_minor": 4
}
