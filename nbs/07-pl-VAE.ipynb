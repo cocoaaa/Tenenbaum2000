{
 "cells": [
  {
   "cell_type": "markdown",
   "metadata": {},
   "source": [
    "## Load libraries"
   ]
  },
  {
   "cell_type": "code",
   "execution_count": null,
   "metadata": {},
   "outputs": [],
   "source": [
    "%reload_ext autoreload\n",
    "%autoreload 2\n",
    "%matplotlib inline"
   ]
  },
  {
   "cell_type": "code",
   "execution_count": null,
   "metadata": {},
   "outputs": [],
   "source": [
    "import os,sys\n",
    "import re\n",
    "import math\n",
    "from datetime import datetime\n",
    "import time\n",
    "sys.dont_write_bytecode = True"
   ]
  },
  {
   "cell_type": "code",
   "execution_count": null,
   "metadata": {},
   "outputs": [],
   "source": [
    "import pandas as pd\n",
    "\n",
    "import numpy as np\n",
    "import matplotlib\n",
    "import matplotlib.pyplot as plt\n",
    "\n",
    "from pathlib import Path\n",
    "from typing import List, Set, Dict, Tuple, Optional, Iterable, Mapping, Union, Callable, TypeVar\n",
    "import warnings\n",
    "from pprint import pprint\n",
    "from ipdb import set_trace as brpt"
   ]
  },
  {
   "cell_type": "code",
   "execution_count": null,
   "metadata": {},
   "outputs": [],
   "source": [
    "import torch \n",
    "import torch.nn as nn\n",
    "import torch.nn.functional as F\n",
    "import torch.optim as optim\n",
    "from  torch.linalg import norm as tnorm\n",
    "from torch.utils.data import Dataset, DataLoader, random_split\n",
    "\n",
    "import torchvision\n",
    "\n",
    "import pytorch_lightning as pl\n",
    "from pytorch_lightning.core.lightning import LightningModule\n",
    "from pytorch_lightning import loggers as pl_loggers\n",
    "from pytorch_lightning.tuner.tuning import Tuner\n",
    "\n",
    "# Select Visible GPU\n",
    "os.environ[\"CUDA_DEVICE_ORDER\"]=\"PCI_BUS_ID\"   # see issue #152\n",
    "os.environ[\"CUDA_VISIBLE_DEVICES\"]=\"1\""
   ]
  },
  {
   "cell_type": "markdown",
   "metadata": {},
   "source": [
    "## Set Path \n",
    "1. Add project root and src folders to `sys.path`\n",
    "2. Set DATA_ROOT to `maptile_v2` folder"
   ]
  },
  {
   "cell_type": "code",
   "execution_count": null,
   "metadata": {},
   "outputs": [],
   "source": [
    "this_nb_path = Path(os.getcwd())\n",
    "ROOT = this_nb_path.parent\n",
    "SRC = ROOT/'src'\n",
    "DATA_ROOT = Path(\"/data/hayley-old/maptiles_v2/\")\n",
    "paths2add = [this_nb_path, ROOT]\n",
    "\n",
    "print(\"Project root: \", str(ROOT))\n",
    "print('Src folder: ', str(SRC))\n",
    "print(\"This nb path: \", str(this_nb_path))\n",
    "\n",
    "\n",
    "for p in paths2add:\n",
    "    if str(p) not in sys.path:\n",
    "        sys.path.insert(0, str(p))\n",
    "        print(f\"\\n{str(p)} added to the path.\")\n",
    "        \n",
    "print(sys.path)"
   ]
  },
  {
   "cell_type": "code",
   "execution_count": null,
   "metadata": {},
   "outputs": [],
   "source": [
    "from src.data.datasets.maptiles import MaptilesDataset, MapStyles\n",
    "from src.data.datamodules.maptiles_datamodule import MaptilesDataModule\n",
    "\n",
    "from src.data.transforms.transforms import Identity, Unnormalizer, LinearRescaler\n",
    "from src.data.transforms.functional import unnormalize\n",
    "from src.models.plmodules.three_fcs import ThreeFCs\n",
    "\n",
    "from src.visualize.utils import show_timgs, show_batch\n",
    "from src.utils.misc import info\n",
    "from src.models.model_wrapper import ModelWrapper\n",
    "\n",
    "\n",
    "from collections import OrderedDict\n"
   ]
  },
  {
   "cell_type": "code",
   "execution_count": null,
   "metadata": {},
   "outputs": [],
   "source": [
    "def show_batch(dm: MaptilesDataModule, n_show: int=16, **kwargs):\n",
    "    \"\"\"\n",
    "    -kwargs will be passed into `show_timgs` function\n",
    "        - titles: a list of titles for axes; must be the same length as the number of npimgs\n",
    "        - nrows\n",
    "        - factor\n",
    "        - cmap (str): eg. \"gray\"\n",
    "        - title (for the main figure's suptitle)\n",
    "    \"\"\"\n",
    "    with warnings.catch_warnings():\n",
    "        warnings.filterwarnings(\"ignore\", module=\"matplotlib*\")\n",
    "        # Show a batch of train data\n",
    "        # - before/after channelwise normalization\n",
    "        x,y = next(iter(dm.train_dataloader()))\n",
    "        train_mean, train_std = dm.train_mean, dm.train_std\n",
    "\n",
    "        # Undo normalization\n",
    "        x_unnormed = unnormalize(x, train_mean, train_std)\n",
    "        \n",
    "        info(x, \"batch x\")\n",
    "        info(x_unnormed, \"unnormalized x\")\n",
    "        show_timgs(x_unnormed[:n_show], **kwargs)"
   ]
  },
  {
   "cell_type": "code",
   "execution_count": null,
   "metadata": {},
   "outputs": [],
   "source": [
    "class MyTrainer(pl.Trainer):\n",
    "    def __init__(self, *args, **kwargs):\n",
    "        super().__init__(*args, **kwargs) #check if this sets train/val dataloaders\n",
    "        self.num_data = len(self.train_dataloader().dataset)\n",
    "\n",
    "    def get_dl(mode: str, dl_idx:int=0):\n",
    "        if mode == 'train':\n",
    "            dl = getattr(self, \"train_dataloader\")\n",
    "        else:\n",
    "            dl = getattr(self, f\"{mode}_dataloaders\")[dl_idx]\n",
    "        print(dl)\n",
    "        print(dl.dataset)\n",
    "        return dl\n",
    "    \n",
    "    def get_next_batch(mode: str, dl_idx):\n",
    "        dl = self.get_dl(mode, dl_idx)\n",
    "        return next(iter(dl))\n",
    "    "
   ]
  },
  {
   "cell_type": "code",
   "execution_count": null,
   "metadata": {},
   "outputs": [],
   "source": [
    "def test_maptiles_dataset():\n",
    "    cities = ['paris']\n",
    "    styles = ['CartoVoyagerNoLabels', 'StamenTonerBackground']\n",
    "    zooms = ['15']\n",
    "    n_channels = 3\n",
    "    dset = MaptilesDataset(\n",
    "        data_root=DATA_ROOT,\n",
    "        cities=cities, \n",
    "        styles=styles, \n",
    "        zooms=zooms, \n",
    "        n_channels=in_channels\n",
    "    )\n",
    "    train_dset, val_dset = MaptilesDataset.random_split(dset, 0.9)\n",
    "    train_channel_mean, train_channel_std = train_dset.channel_mean, train_dset.channel_std\n",
    "\n",
    "    [print(len(x)) for x in [dset, train_dset, val_dset]];\n",
    "    [print(x.channel_mean, x.channel_std) for x in [dset, train_dset, val_dset]];\n",
    "    \n",
    "def test_maptiles_datamodule_factory():\n",
    "    cities = ['paris']\n",
    "    styles = ['CartoVoyagerNoLabels', 'StamenTonerBackground']\n",
    "    zooms = ['15']\n",
    "    n_channels = 3\n",
    "    dset = MaptilesDataset(\n",
    "        data_root=DATA_ROOT,\n",
    "        cities=cities, \n",
    "        styles=styles, \n",
    "        zooms=zooms, \n",
    "        n_channels=in_channels\n",
    "    )\n",
    "    \n",
    "    in_shape = (n_channels, 64,64)\n",
    "    dm = MaptilesDataModule.from_maptiles_dataset(dset, in_shape=in_shape )\n",
    "    dm.setup('test')\n",
    "    print(dm.train_ds.channel_mean, dm.train_ds.channel_std)\n",
    "    print(dm.train_ds.transform)\n",
    "    print(dm.val_ds.transform)\n",
    "    print(dm.test_ds.transform)"
   ]
  },
  {
   "cell_type": "markdown",
   "metadata": {},
   "source": [
    "## Start experiment \n",
    "Given a maptile, predict its style as one of OSM, CartoVoyager"
   ]
  },
  {
   "cell_type": "code",
   "execution_count": null,
   "metadata": {},
   "outputs": [],
   "source": [
    "from src.models.plmodules.vanilla_vae import VanillaVAE\n",
    "from src.data.datamodules.maptiles_datamodule import MaptilesDataModule\n",
    "from src.data.datamodules.mnist_datamodule import MNISTDataModule"
   ]
  },
  {
   "cell_type": "markdown",
   "metadata": {},
   "source": [
    "- Instantiate data module"
   ]
  },
  {
   "cell_type": "code",
   "execution_count": null,
   "metadata": {},
   "outputs": [],
   "source": [
    "cities = ['berlin']#['paris'] #\n",
    "# styles = ['OSMDefault', 'CartoVoyagerNoLabels', 'StamenTonerBackground']\n",
    "styles = ['StamenTonerBackground']#['CartoVoyagerNoLabels']#, 'StamenTonerBackground']\n",
    "\n",
    "zooms = ['15']\n",
    "n_channels = 1\n",
    "dset = MaptilesDataset(\n",
    "        data_root=DATA_ROOT,\n",
    "        cities=cities, \n",
    "        styles=styles, \n",
    "        zooms=zooms, \n",
    "        n_channels=n_channels\n",
    "    )"
   ]
  },
  {
   "cell_type": "code",
   "execution_count": null,
   "metadata": {},
   "outputs": [],
   "source": [
    "in_shape = (n_channels, 32,32)\n",
    "bs = 128\n",
    "dm = MaptilesDataModule.from_maptiles_dataset(dset, in_shape=in_shape, batch_size=bs )\n",
    "dm.setup('fit')\n",
    "print(dm.train_ds.channel_mean, dm.train_ds.channel_std)\n",
    "print(dm.train_ds.transform)\n",
    "print(dm.val_ds.transform)\n",
    "# print(dm.test_ds.transform)"
   ]
  },
  {
   "cell_type": "code",
   "execution_count": null,
   "metadata": {},
   "outputs": [],
   "source": [
    "# dm.train_ds.show_samples(order='chw')\n",
    "# show_batch(dm, cmap='gray')"
   ]
  },
  {
   "cell_type": "markdown",
   "metadata": {},
   "source": [
    "- Instantiate the pl Module"
   ]
  },
  {
   "cell_type": "code",
   "execution_count": null,
   "metadata": {},
   "outputs": [],
   "source": [
    "latent_dim = 10\n",
    "hidden_dims = [32,64,128,256]#,512]\n",
    "act_fn = nn.ReLU()\n",
    "lr = 1e-3\n",
    "size_average = False\n",
    "model = VanillaVAE(in_shape=dm.size(), #dm.in_shape, \n",
    "                    latent_dim=latent_dim,\n",
    "                    hidden_dims=hidden_dims,\n",
    "                    act_fn=act_fn,\n",
    "                  learning_rate=lr,\n",
    "                  size_average=size_average)\n",
    "pprint(dm.hparams)\n",
    "pprint(model.hparams)"
   ]
  },
  {
   "cell_type": "markdown",
   "metadata": {},
   "source": [
    "- Instantiate a PL `Trainer` object\n",
    "    - most basic trainer: uses good defaults, eg: auto-tensorboard logging, checkpoints, logs, etc.\n",
    "    - Pass the data module along with a pl module\n",
    "    - Ref: https://www.learnopencv.com/tensorboard-with-pytorch-lightning/"
   ]
  },
  {
   "cell_type": "code",
   "execution_count": null,
   "metadata": {},
   "outputs": [],
   "source": [
    "# Add Callbacks\n",
    "from pytorch_lightning.callbacks.early_stopping import EarlyStopping\n",
    "callbacks = [\n",
    "        HistogramLogger(hist_epoch_interval=1),\n",
    "        ReconLogger(recon_epoch_interval=1),\n",
    "#         EarlyStopping('val_loss', patience=10),\n",
    "]\n",
    "\n",
    "# Start the experiment\n",
    "exp_name = f'{model.name}_{dm.train_ds}'\n",
    "tb_logger = pl_loggers.TensorBoardLogger(save_dir=f'{ROOT}/temp-logs', \n",
    "                                         name=exp_name,\n",
    "                                         log_graph=False,\n",
    "                                        default_hp_metric=False)\n",
    "print(tb_logger.log_dir)\n",
    "\n",
    "# Log computational graph\n",
    "model_wrapper = ModelWrapper(model)\n",
    "tb_logger.experiment.add_graph(model_wrapper, model.example_input_array.to(model.device))\n",
    "# tb_logger.log_graph(model)\n",
    "\n",
    "trainer_config = {\n",
    "    'gpus':1,\n",
    "    'max_epochs': 3,\n",
    "    'progress_bar_refresh_rate':20,\n",
    "#     'auto_lr_find': True,\n",
    "    'terminate_on_nan':True,\n",
    "#     'num_sanity_val_steps':0.25,\n",
    "    'check_val_every_n_epoch':10,\n",
    "    'logger':tb_logger,\n",
    "    'callbacks':callbacks,\n",
    "}\n",
    "\n",
    "\n",
    "# trainer = pl.Trainer(fast_dev_run=3)\n",
    "trainer = pl.Trainer(**trainer_config)\n",
    "# trainer.tune(model=model, datamodule=dm)"
   ]
  },
  {
   "cell_type": "code",
   "execution_count": null,
   "metadata": {},
   "outputs": [],
   "source": [
    "# Fit model\n",
    "trainer.fit(model, dm)\n",
    "print(f\"Finished at ep {trainer.current_epoch, trainer.batch_idx}\")"
   ]
  },
  {
   "cell_type": "code",
   "execution_count": null,
   "metadata": {},
   "outputs": [],
   "source": []
  },
  {
   "cell_type": "code",
   "execution_count": null,
   "metadata": {},
   "outputs": [],
   "source": []
  },
  {
   "cell_type": "code",
   "execution_count": null,
   "metadata": {},
   "outputs": [],
   "source": []
  },
  {
   "cell_type": "code",
   "execution_count": null,
   "metadata": {},
   "outputs": [],
   "source": []
  },
  {
   "cell_type": "code",
   "execution_count": null,
   "metadata": {},
   "outputs": [],
   "source": []
  },
  {
   "cell_type": "markdown",
   "metadata": {},
   "source": [
    "---"
   ]
  },
  {
   "cell_type": "markdown",
   "metadata": {},
   "source": [
    "## Log  hparmeters and `best_score` to tensorboard"
   ]
  },
  {
   "cell_type": "code",
   "execution_count": null,
   "metadata": {},
   "outputs": [],
   "source": [
    "hparams = model.hparams.copy()\n",
    "hparams.update(dm.hparams)\n",
    "best_score = trainer.checkpoint_callback.best_model_score.item()\n",
    "metrics = {'hparam/best_score': best_score} #todo: define a metric and use it here\n",
    "print(hparams)\n",
    "print(\"=\")\n",
    "print(metrics)"
   ]
  },
  {
   "cell_type": "code",
   "execution_count": null,
   "metadata": {},
   "outputs": [],
   "source": [
    "# Use pl.Logger's method \"log_hyperparameters\" which handles the \n",
    "# hparams' element's formats to be suitable for Tensorboard logging\n",
    "# See: \n",
    "# https://sourcegraph.com/github.com/PyTorchLightning/pytorch-lightning@be3e8701cebfc59bec97d0c7717bb5e52afc665e/-/blob/pytorch_lightning/loggers/tensorboard.py#explorer:~:text=def%20log_hyperparams\n",
    "best_score = trainer.checkpoint_callback.best_model_score.item()\n",
    "metrics = {'hparam/best_score': best_score} #todo: define a metric and use it here\n",
    "trainer.logger.log_hyperparams(hparams, metrics)"
   ]
  },
  {
   "cell_type": "markdown",
   "metadata": {},
   "source": [
    "## Evaluation\n",
    "1. Reconstructions\n",
    "    - Given x from train/val/test dataset, show N (eg. 16) number of possible reconstruction\n",
    "    - Workflow: \n",
    "        - x --> model.encoder(x) --> theta_z --> sample N latent codes from the Pr(z; theta_z) --> model.decoder(z) for each sampled z's \n",
    "2. Inspect the topology/landscape of the learned latent space\n",
    "    - Latent traversal: Pick a dimension of the latent space. Keep all other dimensions' values constant. Vary the chosen dimenion's values (eg. linearly, spherically) and decode the latent codes. Show the outputs of the decoder.\n",
    "    \n",
    "3. Mutual information\n",
    "    - Between x and x_sample for N number of x_samples.\n",
    "    - Between each dimensions of a latent code\n",
    "    "
   ]
  },
  {
   "attachments": {
    "6eb9ebcd-08de-4913-9ea4-65f74df5f466.png": {
     "image/png": "[encoded data removed]"
    }
   },
   "cell_type": "markdown",
   "metadata": {},
   "source": [
    "## (estimate) Marginal Loglikelihood of train/val/test dataset\n",
    "- Option1: $ELBO_{VAE}$\n",
    "\n",
    "Steps:\n",
    "1. Sample a bunch of z's from the chosen prior. Note **not!** from the learned q dist.\n",
    "2. mu_x = model.decoder(sampled_z)\n",
    "3. Compute (avg) likelihood of input batch x under Gaussian(mu_x, Identity cov)\n",
    "4. Return the log of the avged likelihood. Note: log cannot be moved inside the averaging/expectation.\n",
    "\n",
    "See [reddit](https://www.reddit.com/r/MachineLearning/comments/5qm6ag/d_how_to_calculate_variational_autoencoder_log/dd0xt0o?utm_source=share&utm_medium=web2x&context=3)\n",
    "\n",
    "- Option2: $\\mathcal{L}_{lwae}$ (better) \n",
    "\n",
    "![image.png](attachment:6eb9ebcd-08de-4913-9ea4-65f74df5f466.png)"
   ]
  },
  {
   "cell_type": "code",
   "execution_count": null,
   "metadata": {},
   "outputs": [],
   "source": [
    "d = Normal(torch.tensor(0.),1.)\n",
    "d = d.expand([10,2])\n",
    "d.sample()\n",
    "# x = torch.tensor("
   ]
  },
  {
   "cell_type": "markdown",
   "metadata": {},
   "source": [
    "# todo:\n",
    "- [ ] test this function\n",
    "- [ ] make into a functino \n",
    "- [ ] loop over dl; compute for each single batch x\n",
    "- Use log-exp-sum?\n",
    "- do it in cpu?\n",
    "- see https://github.com/tonywu95/eval_gen"
   ]
  },
  {
   "cell_type": "code",
   "execution_count": null,
   "metadata": {},
   "outputs": [],
   "source": [
    "# Compute log marginal likelihood via IWAE\n",
    "# x is a single batch: (BS=1, c, h,w)\n",
    "model.eval()\n",
    "with torch.no_grad():\n",
    "    mu, log_var = model.encode(x[[0]]) #mu: (1, latent_dim), log_var: (1, latent_dim)\n",
    "    breakpoint()\n",
    "\n",
    "    q_z = Normal(mu.squeeze(), log_var.exp().squeeze())\n",
    "    # Collect z's sampled from q(.|mu, log_var)\n",
    "    n_samples = 5\n",
    "    z_samples = model.reparameterize(\n",
    "        mu.repeat(n_samples,1), \n",
    "        log_var.repeat(n_samples,1)\n",
    "    ) # (n_samples, latent_dim)\n",
    "\n",
    "    log_probs_q = q_z.log_prob(z_samples).sum(dim=1) #(n_samples)\n",
    "    probs_q = log_probs.exp()\n",
    "    # ---denom\n",
    "\n",
    "    #--- top\n",
    "    # p(x,z) = p(x|z)*p(z)\n",
    "    # First compute logp(x,z) = logp(x|z) + log p(z)\n",
    "    # Then exp.\n",
    "    prior = Normal(0, 1)\n",
    "    log_probs_prior = prior.log_prob(z_samples).sum(dim=1) #(n_samples,)\n",
    "\n",
    "    mu_x = model.generate(z_samples) #(n_samples,c,h,w)\n",
    "    p_xgz = Normal(mu_x,1)\n",
    "    print(p_xgz.batch_shape, p_xgz.event_shape)\n",
    "    # vs. x is a single batch (1, chw); we want each mu_x[i]\n",
    "    # to be used to compute (n_sample) number of (chw) sized log_probs -> sum over (chw)\n",
    "    # -> end up with (n_sample,) for (a part of ) numerator\n",
    "    log_probs_p_xgz = p_xgz.log_prob(x.repeat((n_samples, *x.shape))).sum(dim=(1,2,3))\n",
    "    log_top = log_probs_p_xgz + log_probs_prior\n",
    "    top = log_top.exp()\n",
    "\n",
    "    #log-exp-sum?\n",
    "    les = logexpsum(log_top - log_probs_q)\n",
    "    lwse = (les.exp()/n_samples).log()\n",
    "\n",
    "\n",
    "    inside = torch.mean(top/probs_q)\n",
    "\n",
    "    lwae = inside.log()"
   ]
  },
  {
   "cell_type": "code",
   "execution_count": null,
   "metadata": {},
   "outputs": [],
   "source": [
    "from torch.distributions import MultivariateNormal, Normal"
   ]
  },
  {
   "cell_type": "code",
   "execution_count": null,
   "metadata": {},
   "outputs": [],
   "source": [
    "#Given mu_x (shape: (nC, H, W)) and x = (bs=1, C,H,W), compute its loglikelihood\n",
    "# N(x; mu_x, Identity)\n",
    "logp = torch.tensor(0.)\n",
    "x = torch.tensor([-2., 0., 1.])\n",
    "d = Normal(torch.tensor(0.), torch.tensor(1.0))\n",
    "d.log_prob(x).exp()"
   ]
  },
  {
   "cell_type": "code",
   "execution_count": null,
   "metadata": {},
   "outputs": [],
   "source": [
    "gaussian = lambda x: (-.5*(x)**2).exp() / np.sqrt(2*np.pi)\n",
    "gaussian(x)"
   ]
  },
  {
   "cell_type": "code",
   "execution_count": null,
   "metadata": {},
   "outputs": [],
   "source": [
    "bs = mu_x.shape[0] \n",
    "assert bs == 1\n",
    "mu_x = mu_x[0]\n",
    "d = Normal(mu_x, torch.ones(mu_x.shape))\n",
    "d.log_prob(x)"
   ]
  },
  {
   "cell_type": "code",
   "execution_count": null,
   "metadata": {},
   "outputs": [],
   "source": [
    "llhs = {}\n",
    "with torch.no_grad():\n",
    "    for mode in ['train', 'val']:\n",
    "        prob_sum = torch.tensor(0.)\n",
    "        n_imgs = 0\n",
    "        dl = getattr(dm, f\"{mode}_dataloader\")()\n",
    "        for (x,y) in dl:           \n",
    "            bs = x.shape[0]\n",
    "            \n",
    "            # sample z -> decoder -> mu_x\n",
    "            z_sample = torch.randn((bs, model.latent_dim), device=model.device)\n",
    "            mu_x = model.decode(z_sample)\n",
    "            \n",
    "            dist = Normal(mu_x, torch.ones(mu_x.shape))\n",
    "            log_prob = torch.sum(dist.log_prob(x), dim=(1,2,3)) # (bs,1)\n",
    "            prob = log_prob#.exp()\n",
    "            \n",
    "            # Accumulate the sum over this batch\n",
    "            prob_sum += torch.sum(prob)\n",
    "            n_imgs += bs\n",
    "\n",
    "        # Log of average likelihood of an image\n",
    "        llhs[mode] = (prob_sum/n_imgs).item()\n",
    "        \n",
    "        \n",
    "        "
   ]
  },
  {
   "cell_type": "code",
   "execution_count": null,
   "metadata": {},
   "outputs": [],
   "source": [
    "                       \n",
    "        x,y = next(iter(dl))\n",
    "        x = x.to(model.device)\n",
    "        x_recon = model.generate(x)    \n",
    "sum_px = torch.tensor(0.0)\n",
    "\n",
    "for x in batch_x:\n",
    "    z_sampled = torch.distribution.Normal\n",
    "    d = MultivariateNormal(mu[i], torch.diagflat(log_var[i].exp()))\n",
    "assert d.batch_shape == ()\n",
    "assert d.event_shape == (latent_dim,)\n",
    "x = d.sample()\n",
    "assert x.shape == (latent_dim,)            # == batch_shape + event_shape\n",
    "assert d.log_prob(x[i]).shape == ()  # == batch_shape\n",
    "print(d.log_prob(x[i]).exp())"
   ]
  },
  {
   "cell_type": "code",
   "execution_count": null,
   "metadata": {},
   "outputs": [],
   "source": [
    "model.eval()\n",
    "\n",
    "n_samples = 36\n",
    "with torch.no_grad():\n",
    "    sampled_recons = model.sample(n_samples, model.device)\n",
    "    show_timgs(sampled_recons.detach())"
   ]
  },
  {
   "cell_type": "code",
   "execution_count": null,
   "metadata": {},
   "outputs": [],
   "source": [
    "z_samples = "
   ]
  },
  {
   "cell_type": "markdown",
   "metadata": {},
   "source": [
    "### Recons of inputs from training data"
   ]
  },
  {
   "cell_type": "code",
   "execution_count": null,
   "metadata": {},
   "outputs": [],
   "source": [
    "model.eval();\n",
    "\n",
    "# Method1: Use a trainer to load a best checkpt.\n",
    "# trainer.test(model, test_dataloaders=dm.test_dataloader())"
   ]
  },
  {
   "cell_type": "code",
   "execution_count": null,
   "metadata": {},
   "outputs": [],
   "source": [
    "# Method2: Manually get the checkpoint path to the best model's weight\n",
    "# -- See https://pytorch-lightning.readthedocs.io/en/stable/_modules/pytorch_lightning/trainer/trainer.html#Trainer.test\n",
    "from pytorch_lightning.utilities.cloud_io import load as pl_load\n",
    "\n",
    "ckpt_path = trainer.checkpoint_callback.best_model_path\n",
    "ckpt = pl_load(ckpt_path, map_location=lambda storage, loc: storage) #dict object\n",
    "model.load_state_dict(ckpt['state_dict'])\n",
    "\n",
    "for k,v in ckpt.items():c\n",
    "    if 'state' in k:\n",
    "        continue\n",
    "    pprint(f\"{k}:{v}\")"
   ]
  },
  {
   "cell_type": "code",
   "execution_count": null,
   "metadata": {},
   "outputs": [],
   "source": [
    "# Method3: Get the last model"
   ]
  },
  {
   "cell_type": "code",
   "execution_count": null,
   "metadata": {},
   "outputs": [],
   "source": [
    "def make_grid_from_tensors(tensors: List[torch.Tensor], dim: int=-1):\n",
    "    \"\"\"\n",
    "    Args:\n",
    "    - dim (int): \n",
    "        - use -1 to put the tensors side-by-side\n",
    "        - use -2 to put them one below another\n",
    "        \n",
    "    Example:\n",
    "    grid = make_grid_from_tensors([grid_input, grid_recon], dim=-1)\n",
    "    tb_writer.add_image(\"input-recon\", grid, global_step=0)\n",
    "    \"\"\"\n",
    "    grids = [torchvision.utils.make_grid(t) for t in tensor] # each element has size, eg.(C, gridh, gridw)\n",
    "    combined = torch.cat(grids, dim=dim)\n",
    "    return combined\n",
    "\n",
    "def log_recon(trainer, model, **kwargs):\n",
    "    \"\"\"\n",
    "    Run it after train/val epoch\n",
    "    kwargs:\n",
    "    - dim (int): \n",
    "        - Use -1 for side-by-side stacking of x and x_recon.\n",
    "        - Use -2 for up-down stacking of x and x_recon\n",
    "    \"\"\" \n",
    "#     model.eval()\n",
    "    train_mean, train_std = trainer.datamodule.train_mean, trainer.datamodule.train_std\n",
    "    with torch.no_grad():\n",
    "        for mode in ['train', 'val']:\n",
    "            print(\"mode: \", mode, \"\\t\\t is training: \", model.training)\n",
    "            dl = getattr(model, f\"{mode}_dataloader\")()\n",
    "            x,y = next(iter(dl))\n",
    "            x = x.to(model.device)\n",
    "            x_recon = model.generate(x)\n",
    "\n",
    "            # unnormalize for visualization\n",
    "            x = x.cpu()\n",
    "            x_recon = x_recon.cpu()\n",
    "            x_unnormed = unnormalize(x, train_mean, train_std)\n",
    "            x_recon_unnormed = unnormalize(x_recon, train_mean, train_std)\n",
    "\n",
    "            # Log input-recon grid to TB\n",
    "            input_grid = torchvision.utils.make_grid(x_unnormed) # (C, gridh, gridw)\n",
    "            recon_grid = torchvision.utils.make_grid(x_recon_unnormed) # (C, gridh, gridw)\n",
    "            grid = torch.cat([input_grid, recon_grid], dim=-1) #inputs | recons\n",
    "            trainer.logger.experiment.add_image(f\"{mode}/recons\", grid, global_step=model.current_epoch)\n",
    "            \n",
    "            \n",
    "# log_recon(trainer, model)\n",
    "        \n",
    "            "
   ]
  },
  {
   "cell_type": "code",
   "execution_count": null,
   "metadata": {},
   "outputs": [],
   "source": [
    "def log_hist_img_of_muz_varz(trainer, model, **kwargs):\n",
    "    \"\"\"\n",
    "\n",
    "    \"\"\" \n",
    "    is_training = model.training\n",
    "    model.eval()\n",
    "    with torch.no_grad():\n",
    "        mu,log_var = model.encode(x)\n",
    "        f, ax = plt.subplots(1,2)\n",
    "        ax = ax.flatten()\n",
    "        ax[0].hist(mu, label='mu')\n",
    "        ax[0].set_title('mu')\n",
    "        ax[1].hist(log_var.exp(), label='var')\n",
    "        ax[1].set_title('var')\n",
    "            \n",
    "        min_var = kwargs.get('min_var', None) or 1e-3\n",
    "        n_tiny_vars = (log_var.exp() < min_var).sum()\n",
    "        p_tiny = n_tiny_vars/log_var.numel()\n",
    "        f.title(f\"%tiny: {p_tiny}\")\n",
    "        \n",
    "        # Log the figure to tensorboard\n",
    "#         trainer.logger.experiment.add_img(f\"{mode}/mu-and-var_z\", f\n",
    "    model.train(is_training)\n",
    "    \n",
    "def log_hist_of_params_of_q(trainer, model, **kwargs):\n",
    "    \"\"\"\n",
    "\n",
    "    \"\"\" \n",
    "    is_training = model.training\n",
    "    model.eval()\n",
    "    with torch.no_grad():\n",
    "        mu,log_var = model.encode(x)\n",
    "        var_thresh = kwargs.get('var_thresh', None) or 1e-3\n",
    "        n_tiny_vars = (log_var.exp() < var_thresh).sum()\n",
    "        p_tiny = n_tiny_vars/log_var.numel()\n",
    "        \n",
    "        # Log the histograms to tensorboard\n",
    "        trainer.logger.experiment.add_img(f\"{mode}/centers of q\", mu, global_step=model.current_epoch)\n",
    "        trainer.logger.experiment.add_img(f\"{mode}/vars of q\", var, global_step=model.current_epoch)\n",
    "        trainer.logger.experiment.add_scalar(f\"{mode}/p_tiny_var\", p_tiny, gloval_step=model.current_epoch)\n",
    "    model.train(is_training)\n",
    "    \n"
   ]
  },
  {
   "cell_type": "code",
   "execution_count": null,
   "metadata": {},
   "outputs": [],
   "source": [
    "train_mean, train_std = dm.train_mean, dm.train_std\n",
    "model.eval()\n",
    "with torch.no_grad():\n",
    "    for mode in ['train', 'val']:\n",
    "        dl = getattr(model, f\"{mode}_dataloader\")()\n",
    "        x,y = next(iter(dl))\n",
    "        x = x.to(model.device)\n",
    "        x_recon = model.generate(x)\n",
    "        \n",
    "        # unnormalize for visualization\n",
    "        x = x.cpu()\n",
    "        x_recon = x_recon.cpu()\n",
    "        x_unnormed = unnormalize(x, train_mean, train_std)\n",
    "        x_recon_unnormed = unnormalize(x_recon, train_mean, train_std)\n",
    "        show_timgs(x_unnormed, title=f\"{mode} dataset\", cmap='gray')\n",
    "        show_timgs(x_recon_unnormed, title=f\"{mode}: recon\", cmap='gray')\n",
    "        show_timgs(LinearRescaler()(x_recon_unnormed), title=f\"{mode}: recon\", cmap='gray')\n",
    "        \n",
    "        # Print out\n",
    "        info(x, f\"{mode}_x\")\n",
    "        info(x_recon, f\"{mode}_x_recon\")\n",
    "        print(\"===\")\n",
    "        info(x_unnormed, f\"{mode}_x_unnormed\")\n",
    "        info(x_recon_unnormed, f\"{mode}_x_recon_unnormed\")\n",
    "        \n",
    "        # Log input-recon grid to TB\n",
    "        input_grid = torchvision.utils.make_grid(x_unnormed) # (C, gridh, gridw)\n",
    "        recon_grid = torchvision.utils.make_grid(x_recon_unnormed) # (C, gridh, gridw)\n",
    "#         normed_recon_grid = torchvision.utils.make_grid(LinearRescaler()(x_recon_unnormed))\n",
    "        grid = torch.cat([input_grid, recon_grid], dim=-1) #inputs | recons\n",
    "        tb_logger.experiment.add_image(f\"{mode}/recons\", grid, global_step=0)\n",
    "                            \n"
   ]
  },
  {
   "cell_type": "markdown",
   "metadata": {},
   "source": [
    "todo:\n",
    "- [ ] log recons at certain interval of train or val steps\n",
    "- [ ] at the same time, log the below histogram of mu and var of latent space\n",
    "    "
   ]
  },
  {
   "cell_type": "code",
   "execution_count": null,
   "metadata": {},
   "outputs": [],
   "source": [
    "with torch.no_grad():\n",
    "    mu,log_var = model.encode(x)\n",
    "    f, ax = plt.subplots(1,2)\n",
    "    ax = ax.flatten()\n",
    "    ax[0].hist(mu, label='mu')\n",
    "    ax[0].set_title('mu')\n",
    "    ax[1].hist(log_var.exp(), label='var')\n",
    "    ax[1].set_title('var')\n",
    "    \n"
   ]
  },
  {
   "cell_type": "code",
   "execution_count": null,
   "metadata": {},
   "outputs": [],
   "source": [
    "min_var = 1e-3\n",
    "n_tiny_vars = (log_var.exp() < min_var).sum()\n",
    "n_tiny_vars/log_var.numel()"
   ]
  },
  {
   "cell_type": "code",
   "execution_count": null,
   "metadata": {},
   "outputs": [],
   "source": [
    "def sample_from_diag_gaussian(n_samples: int, mu: torch.Tensor, logvar: torch.Tensor)-> torch.Tensor:\n",
    "    \"\"\"\n",
    "    Returns a tensor of shape (n_samples x dimension)\n",
    "    from a gaussian with diagonal covariance and mean=mu.\n",
    "    \n",
    "    - mu: mini-batch of mu vectors; (bs, d)\n",
    "    - logvar: mini-batch of logvar vectors; (bs, d)\n",
    "    \n",
    "    Note: logvar = torch.zeros((bs,d)) --> var = torch.ones((bs,d))\n",
    "    Note: Preserves the gradient flow from the output to the input argument mu and logvar\n",
    "    \"\"\"\n",
    "\n",
    "    std = (0.5*logvar).exp()\n",
    "    eps = torch.randn_like(std)\n",
    "    return mu + eps * std\n",
    "\n",
    "\n",
    "    \n",
    "    "
   ]
  },
  {
   "cell_type": "code",
   "execution_count": null,
   "metadata": {},
   "outputs": [],
   "source": []
  },
  {
   "cell_type": "markdown",
   "metadata": {},
   "source": [
    "### Recons of samples from learned latent space"
   ]
  },
  {
   "cell_type": "code",
   "execution_count": null,
   "metadata": {},
   "outputs": [],
   "source": [
    "n_samples = 36\n",
    "with torch.no_grad():\n",
    "    sampled_recons = model.sample(n_samples, model.device)\n",
    "    show_timgs(sampled_recons.detach(), cmap='gray')"
   ]
  },
  {
   "cell_type": "markdown",
   "metadata": {},
   "source": [
    "## Visualize embeddings\n",
    "- collect a batch of inputs -> encoder -> [mu, log_var] -> sample -> a batch of z's (embeddings)\n",
    "- use tb logger\n"
   ]
  },
  {
   "cell_type": "code",
   "execution_count": null,
   "metadata": {},
   "outputs": [],
   "source": [
    "model.eval()\n",
    "with torch.no_grad():\n",
    "    x, y = next(iter(trainer.train_dataloader))\n",
    "    mu, log_var = model.encode(x)\n",
    "    z = model.reparameterize(mu, log_var)\n",
    "#     out = model.get_embeddings(x) # dict of mu, log_var, z\n",
    "#     z = out['z']\n",
    "    \n",
    "    # log embedding to tensorboard \n",
    "    writer = model.logger.experiment\n",
    "    writer.add_embedding(z,\n",
    "                         label_img=LinearRescaler()(x), \n",
    "                         metadata=y.tolist(),\n",
    "                         global_step=trainer.global_step, #todo\n",
    "                        )\n",
    "    \n",
    "    \n",
    "\n"
   ]
  },
  {
   "cell_type": "markdown",
   "metadata": {},
   "source": [
    "## Visualize original images of the close neighbors in the latent space\n",
    "- Compute pairwise distance using cosine similarity\n",
    "- For each row (ie. a latent code), get the index of the smallest values. \n",
    "- Select the images in the batch x and visualize (can do this all in show_timgs)\n",
    "\n"
   ]
  },
  {
   "cell_type": "code",
   "execution_count": null,
   "metadata": {},
   "outputs": [],
   "source": [
    "from sklearn.metrics import pairwise_distances"
   ]
  },
  {
   "cell_type": "code",
   "execution_count": null,
   "metadata": {},
   "outputs": [],
   "source": [
    "model.eval()\n",
    "with torch.no_grad():\n",
    "    x, y = next(iter(trainer.train_dataloader))\n",
    "    mu, log_var = model.encode(x)\n",
    "    z = model.reparameterize(mu, log_var)\n",
    "    #     out = model.get_embeddings(x) # dict of mu, log_var, z\n",
    "    #     z = out['z']metric = 'cosine'\n",
    "    pdists = pairwise_distances(z.numpy(), metric=metric)\n",
    "    plt.imshow(pdists, cmap='gray')\n",
    "    plt.title(\"Pairwise dists of z's\")\n",
    "    plt.axis('off')\n",
    "    plt.show()\n",
    "    \n",
    "    # smaller values means closer in distance\n",
    "    n_ngbrs = 5\n",
    "    n_rows = 100\n",
    "    \n",
    "    selected_rows = np.random.choice(len(x), size=n_rows)\n",
    "    for idx in selected_rows:\n",
    "        args = np.argsort(pdists[idx])[:n_ngbrs]\n",
    "#         print(args)\n",
    "        show_timgs(LinearRescaler()(x[args]), cmap='gray', factor=2, \n",
    "                   nrows=1, title=f'Nearest of img {idx}')"
   ]
  },
  {
   "cell_type": "code",
   "execution_count": null,
   "metadata": {},
   "outputs": [],
   "source": [
    "# smaller values means closer in distance\n",
    "n_ngbrs = 5\n",
    "n_rows = 10\n",
    "selected_rows = np.random.choice(len(x), size=n_rows)\n",
    "for idx in selected_rows:\n",
    "    args = np.argsort(pdists[idx])[:n_ngbrs]\n",
    "    print(args)\n",
    "    show_timgs(LinearRescaler()(x[args]), cmap='gray', factor=2, \n",
    "               nrows=1, title=f'Nearest of img {idx}')"
   ]
  },
  {
   "cell_type": "code",
   "execution_count": null,
   "metadata": {},
   "outputs": [],
   "source": [
    "np.argsort(pdists[1])[:n_ngbrs]"
   ]
  },
  {
   "cell_type": "code",
   "execution_count": null,
   "metadata": {},
   "outputs": [],
   "source": [
    "n_ngbrs = 5\n",
    "args = np.argsort(pdists, axis=1)[:n_ngbrs]\n",
    "print(args.shape)\n",
    "# show_timgs(LinearRescaler()(x[args]), cmap='gray', factor=2, nrows=1)"
   ]
  },
  {
   "cell_type": "markdown",
   "metadata": {},
   "source": [
    "## Latent Space Traversal\n",
    "1. Linear traversal in a single dimension"
   ]
  },
  {
   "cell_type": "code",
   "execution_count": null,
   "metadata": {},
   "outputs": [],
   "source": [
    "chosen_dim = 0 # must be in range(latent_dim)\n",
    "fixed_vec = torch.randn((1, model.latent_dim-1))\n",
    "fixed_values = fixed_vec.repeat((n_samples,1))\n",
    "n_samples = 16\n",
    "zi_min, zi_max = -2,2\n",
    "varying = torch.linspace(zi_min, zi_max, n_samples).view((-1,1))\n",
    "\n",
    "varying.shape,fixed_values.shape\n",
    "\n",
    "\n",
    "\n"
   ]
  },
  {
   "cell_type": "code",
   "execution_count": null,
   "metadata": {},
   "outputs": [],
   "source": [
    "def construct_from(a_col:torch.Tensor, other_cols:torch.Tensor, ind):\n",
    "    \"\"\"\n",
    "    Make a tensor from a column vector and a matrx containing all the other columns\n",
    "    by inserting the `onc_column` at the final matrix's `ind`th column.\n",
    "    \"\"\"\n",
    "    assert a_\n",
    "    n_cols = 1 + \n",
    "    out = a_col.new_zeros(("
   ]
  },
  {
   "cell_type": "code",
   "execution_count": null,
   "metadata": {},
   "outputs": [],
   "source": []
  },
  {
   "cell_type": "code",
   "execution_count": null,
   "metadata": {},
   "outputs": [],
   "source": []
  },
  {
   "cell_type": "markdown",
   "metadata": {},
   "source": [
    "## Implement an evaluation function"
   ]
  },
  {
   "cell_type": "code",
   "execution_count": null,
   "metadata": {},
   "outputs": [],
   "source": [
    "from src.models.plmodules.utils import get_best_ckpt, load_model, load_best_model\n",
    "from pytorch_lightning.utilities.cloud_io import load as pl_load\n"
   ]
  },
  {
   "cell_type": "code",
   "execution_count": null,
   "metadata": {},
   "outputs": [],
   "source": [
    "def evaluate(model, \n",
    "             ckpt_path:str=None,\n",
    "            tb_writer=None):\n",
    "    if ckpt_path is None:\n",
    "        load_best_model(model) #inplace\n",
    "    else:\n",
    "        load_model(model, ckpt_path) #inplace\n",
    "    \n",
    "    # ------------------------------------------------------------------------\n",
    "    # Reconstruction \n",
    "    # ------------------------------------------------------------------------\n",
    "    eval_recon(model, tb_writer=tb_writer)\n",
    "    \n",
    "    \n",
    "                  \n",
    "    "
   ]
  },
  {
   "cell_type": "code",
   "execution_count": null,
   "metadata": {},
   "outputs": [],
   "source": [
    "def show_recon(model, unnormalize:bool=True, to_show:bool=False, verbose:bool=False):\n",
    "    model.eval()\n",
    "    dm = model.trainer.datamodule\n",
    "    cmap = 'gray' if dm.in_shape[\n",
    "    train_mean, train_std = dm.train_mean, dm.train_std\n",
    "    with torch.no_grad():\n",
    "        for mode in ['train', 'val']:\n",
    "            dl = getattr(model, f\"{mode}_dataloader\")()\n",
    "            x,y = next(iter(dl))\n",
    "            x = x.to(model.device)\n",
    "            x_recon = model.generate(x)\n",
    "\n",
    "            x = x.cpu()\n",
    "            x_recon = x_recon.cpu()\n",
    "            \n",
    "            if unnormalize:\n",
    "                x_unnormed = unnormalize(x, train_mean, train_std)\n",
    "                x_recon_unnormed = unnormalize(x_recon, train_mean, train_std)\n",
    "            show_timgs(x_unnormed, title=f\"{mode} dataset\", cmap='gray')\n",
    "            show_timgs(x_recon_unnormed, title=f\"{mode}: recon\", cmap='gray')\n",
    "            show_timgs(LinearRescaler()(x_recon_unnormed), title=f\"{mode}: recon\", cmap='gray')\n",
    "\n",
    "            if verbose:\n",
    "                info(x, f\"{mode}_x\")\n",
    "                info(x_recon, f\"{mode}_x_recon\")\n",
    "                print(\"===\")\n",
    "                info(x_unnormed, f\"{mode}_x_unnormed\")\n",
    "                info(x_recon_unnormed, f\"{mode}_x_recon_unnormed\")\n",
    "\n",
    "            # Log input-recon grid to TB\n",
    "            input_grid = torchvision.utils.make_grid(x_unnormed) # (C, gridh, gridw)\n",
    "            recon_grid = torchvision.utils.make_grid(x_recon_unnormed) # (C, gridh, gridw)\n",
    "    #         normed_recon_grid = torchvision.utils.make_grid(LinearRescaler()(x_recon_unnormed))\n",
    "            grid = torch.cat([input_grid, recon_grid], dim=-1) #inputs | recons\n",
    "            tb_logger.experiment.add_image(f\"{mode}/recons\", grid, global_step=0)\n"
   ]
  },
  {
   "cell_type": "code",
   "execution_count": null,
   "metadata": {},
   "outputs": [],
   "source": []
  },
  {
   "cell_type": "code",
   "execution_count": null,
   "metadata": {},
   "outputs": [],
   "source": []
  },
  {
   "cell_type": "code",
   "execution_count": null,
   "metadata": {},
   "outputs": [],
   "source": []
  },
  {
   "cell_type": "code",
   "execution_count": null,
   "metadata": {},
   "outputs": [],
   "source": []
  },
  {
   "cell_type": "code",
   "execution_count": null,
   "metadata": {},
   "outputs": [],
   "source": []
  },
  {
   "cell_type": "code",
   "execution_count": null,
   "metadata": {},
   "outputs": [],
   "source": []
  },
  {
   "cell_type": "markdown",
   "metadata": {},
   "source": [
    "---\n",
    "## Callbacks\n"
   ]
  },
  {
   "cell_type": "code",
   "execution_count": null,
   "metadata": {},
   "outputs": [],
   "source": [
    "class ReconLogger(pl.Callback):\n",
    "    def __init__(\n",
    "        self, \n",
    "        recon_epoch_interval: int = 20,\n",
    "        normalize: bool=False\n",
    "    ):\n",
    "        super().__init__()\n",
    "        self.recon_epoch_interval = recon_epoch_interval\n",
    "        self.normalize = normalize\n",
    "    \n",
    "    def on_fit_start(self, *args, **kwargs):\n",
    "        print(f\"{self.__class__.__name__} is called\")\n",
    "    \n",
    "    def on_epoch_end(self, trainer, pl_module):\n",
    "        if (trainer.current_epoch + 1) % self.recon_epoch_interval == 0:\n",
    "            self.log_recon(trainer, pl_module)\n",
    "               \n",
    "    @classmethod\n",
    "    def log_recon(cls, trainer, model, **kwargs):\n",
    "        \"\"\"\n",
    "        Run it after train/val epoch\n",
    "        kwargs:\n",
    "        - dim (int): \n",
    "            - Use -1 for side-by-side stacking of x and x_recon.\n",
    "            - Use -2 for up-down stacking of x and x_recon\n",
    "        \"\"\" \n",
    "        is_training = model.training\n",
    "        model.eval()\n",
    "        train_mean, train_std = trainer.datamodule.train_mean, trainer.datamodule.train_std\n",
    "        with torch.no_grad():\n",
    "            for mode in ['train', 'val']:\n",
    "                dl = getattr(model, f\"{mode}_dataloader\")()\n",
    "                x,y = next(iter(dl))\n",
    "                x = x.to(model.device)\n",
    "                x_recon = model.generate(x)\n",
    "\n",
    "                # unnormalize for visualization\n",
    "                x = x.cpu()\n",
    "                x_recon = x_recon.cpu()\n",
    "                x_unnormed = unnormalize(x, train_mean, train_std)\n",
    "                x_recon_unnormed = unnormalize(x_recon, train_mean, train_std)\n",
    "\n",
    "                # Log input-recon grid to TB\n",
    "                input_grid = torchvision.utils.make_grid(x_unnormed) # (C, gridh, gridw)\n",
    "                recon_grid = torchvision.utils.make_grid(x_recon_unnormed) # (C, gridh, gridw)\n",
    "                grid = torch.cat([input_grid, recon_grid], dim=-1) #inputs | recons\n",
    "                trainer.logger.experiment.add_image(f\"{mode}/recons\", grid, global_step=model.current_epoch)\n",
    "        model.train(is_training)\n",
    "\n"
   ]
  },
  {
   "cell_type": "code",
   "execution_count": null,
   "metadata": {},
   "outputs": [],
   "source": [
    "def test_recon_logger():\n",
    "    ReconLogger().log_recon(trainer, model)\n",
    "    "
   ]
  },
  {
   "cell_type": "code",
   "execution_count": null,
   "metadata": {},
   "outputs": [],
   "source": [
    "class HistogramLogger(pl.Callback):\n",
    "    \"\"\"\n",
    "    Distribution of the outputs of the encoder, upon the input of a mini-batch x\n",
    "    - eg. \n",
    "    \n",
    "    [batch_mu_z, batch_logvar_z] = model.encoder(x)\n",
    "    Then, plot all elements of batch_mu_z as a historgram. Same for batch_logvar_z\n",
    "    \n",
    "    \"\"\"\n",
    "    def __init__(\n",
    "        self, \n",
    "        hist_epoch_interval: int = 20,\n",
    "    ):\n",
    "        super().__init__()\n",
    "        self.hist_epoch_interval = hist_epoch_interval\n",
    "    \n",
    "    def on_fit_start(self, *args, **kwargs):\n",
    "        print(f\"{self.__class__.__name__} is called\")\n",
    "    \n",
    "    def on_epoch_end(self, trainer, pl_module):\n",
    "        if (trainer.current_epoch + 1) % self.hist_epoch_interval == 0:\n",
    "            self.log_hist_of_params_of_q(trainer, pl_module)\n",
    "    \n",
    "    @classmethod\n",
    "    def log_hist_of_params_of_q(cls, trainer, model, **kwargs):\n",
    "        is_training = model.training\n",
    "        model.eval()\n",
    "        with torch.no_grad():\n",
    "            for mode in ['train', 'val']:\n",
    "                dl = getattr(model, f\"{mode}_dataloader\")()\n",
    "                x,y = next(iter(dl))\n",
    "                x = x.to(model.device)\n",
    "\n",
    "                mu,log_var = model.encode(x)\n",
    "                var = log_var.exp()\n",
    "                var_thresh = kwargs.get('var_thresh', None) or 1e-3\n",
    "                n_tiny_vars = (var < var_thresh).sum()\n",
    "                p_tiny = n_tiny_vars/log_var.numel()\n",
    "\n",
    "                # Log the histograms to tensorboard\n",
    "                trainer.logger.experiment.add_histogram(f\"{mode}/centers of q\", mu, global_step=model.current_epoch)\n",
    "                trainer.logger.experiment.add_histogram(f\"{mode}/vars of q\", var, global_step=model.current_epoch)\n",
    "                trainer.logger.experiment.add_scalar(f\"{mode}/p_tiny_var\", p_tiny, global_step=model.current_epoch)\n",
    "        model.train(is_training)\n",
    "\n",
    "\n",
    "    "
   ]
  },
  {
   "cell_type": "code",
   "execution_count": null,
   "metadata": {},
   "outputs": [],
   "source": [
    "HistogramLogger.log_hist_of_params_of_q(trainer,model)"
   ]
  },
  {
   "cell_type": "markdown",
   "metadata": {},
   "source": [
    "---\n",
    "## Misc experiments\n"
   ]
  },
  {
   "cell_type": "markdown",
   "metadata": {},
   "source": [
    "### Q: Does `torch`'s `dtype` conversion (eg. my_tensor.to(torch.float64)) keeps the new tensor attached to the original tensor's computational graph?\n",
    "Related:\n",
    "- `is_leaf`\n",
    "- `requires_grad`\n",
    "- `retain_grad`: See [doc](https://pytorch.org/docs/stable/autograd.html#torch.Tensor.is_leaf:~:text=Only%20leaf%20Tensors%20will%20have%20their,non%2Dleaf%20Tensors%2C%20you%20can%20use%20retain_grad().)"
   ]
  },
  {
   "cell_type": "code",
   "execution_count": null,
   "metadata": {},
   "outputs": [],
   "source": [
    "t = torch.ones(1, dtype=torch.float32, requires_grad=True)\n",
    "t2 = t.to(torch.float64)\n",
    "# t2.retain_grad()\n",
    "print(t.requires_grad, t2.requires_grad)\n",
    "print(t.is_leaf, t2.is_leaf)"
   ]
  },
  {
   "cell_type": "code",
   "execution_count": null,
   "metadata": {},
   "outputs": [],
   "source": [
    "t2"
   ]
  },
  {
   "cell_type": "code",
   "execution_count": null,
   "metadata": {},
   "outputs": [],
   "source": [
    "out = 2*t2**3\n",
    "out.backward()\n"
   ]
  },
  {
   "cell_type": "code",
   "execution_count": null,
   "metadata": {},
   "outputs": [],
   "source": [
    "t2.grad, t.grad"
   ]
  },
  {
   "cell_type": "markdown",
   "metadata": {},
   "source": [
    "So, yes, the gradient flows via the tensor generated from the original tensor (`t`) with `.to` operation. Therefore, we conclude the tensor generated from `.to` method remains attached to the orignal tensor's computational graph and acts as a medium (ie. a non-leaf node) through which downstream operation's gradient can flow through to be accumulated at the original tensor `t`'s `.grad` attribute. \n",
    "\n",
    "Unless I want to look at the `.grad` of the derived tensor (`t2`), I don't need to call `.retain_grad()` method on `t2`."
   ]
  },
  {
   "cell_type": "code",
   "execution_count": null,
   "metadata": {},
   "outputs": [],
   "source": []
  }
 ],
 "metadata": {
  "kernelspec": {
   "display_name": "Python [conda env:test]",
   "language": "python",
   "name": "conda-env-test-py"
  },
  "language_info": {
   "codemirror_mode": {
    "name": "ipython",
    "version": 3
   },
   "file_extension": ".py",
   "mimetype": "text/x-python",
   "name": "python",
   "nbconvert_exporter": "python",
   "pygments_lexer": "ipython3",
   "version": "3.8.6"
  }
 },
 "nbformat": 4,
 "nbformat_minor": 4
}
