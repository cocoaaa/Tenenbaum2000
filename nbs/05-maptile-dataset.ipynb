{
 "cells": [
  {
   "cell_type": "markdown",
   "metadata": {},
   "source": [
    "## Load libraries"
   ]
  },
  {
   "cell_type": "code",
   "execution_count": null,
   "metadata": {},
   "outputs": [],
   "source": [
    "%reload_ext autoreload\n",
    "%autoreload 2\n",
    "%matplotlib inline"
   ]
  },
  {
   "cell_type": "code",
   "execution_count": null,
   "metadata": {},
   "outputs": [],
   "source": [
    "import os,sys\n",
    "import re\n",
    "import math\n",
    "from datetime import datetime\n",
    "import time\n",
    "sys.dont_write_bytecode = True"
   ]
  },
  {
   "cell_type": "code",
   "execution_count": null,
   "metadata": {},
   "outputs": [],
   "source": [
    "import pandas as pd\n",
    "import joblib\n",
    "\n",
    "import numpy as np\n",
    "import matplotlib.pyplot as plt\n",
    "import scipy as sp\n",
    "from skimage.color import rgb2gray\n",
    "from skimage.transform import resize\n",
    "\n",
    "from pathlib import Path\n",
    "from typing import List, Set, Dict, Tuple, Optional, Iterable, Mapping, Union, Callable\n",
    "\n",
    "from pprint import pprint\n",
    "from ipdb import set_trace as brpt"
   ]
  },
  {
   "cell_type": "code",
   "execution_count": null,
   "metadata": {},
   "outputs": [],
   "source": [
    "# import holoviews as hv\n",
    "# from holoviews import opts\n",
    "# hv.extension('bokeh')"
   ]
  },
  {
   "cell_type": "code",
   "execution_count": null,
   "metadata": {},
   "outputs": [],
   "source": [
    "import torch \n",
    "import torch.nn as nn\n",
    "import torch.nn.functional as F\n",
    "import torch.optim as optim\n",
    "from  torch.linalg import norm as tnorm\n",
    "from torch.utils.data import Dataset, DataLoader, random_split\n",
    "\n",
    "from torchvision import datasets, transforms\n",
    "\n",
    "import pytorch_lightning as pl\n",
    "from pytorch_lightning.core.lightning import LightningModule\n",
    "\n",
    "# Select Visible GPU\n",
    "os.environ[\"CUDA_DEVICE_ORDER\"]=\"PCI_BUS_ID\"   # see issue #152\n",
    "os.environ[\"CUDA_VISIBLE_DEVICES\"]=\"1\""
   ]
  },
  {
   "cell_type": "markdown",
   "metadata": {},
   "source": [
    "## Set Path \n",
    "1. Add project root and src folders to `sys.path`\n",
    "2. Set DATA_ROOT to `maptile_v2` folder"
   ]
  },
  {
   "cell_type": "code",
   "execution_count": null,
   "metadata": {},
   "outputs": [],
   "source": [
    "this_nb_path = Path(os.getcwd())\n",
    "ROOT = this_nb_path.parent\n",
    "SRC = ROOT/'src'\n",
    "DATA_ROOT = Path(\"/data/hayley-old/maptiles_v2/\")\n",
    "paths2add = [this_nb_path, ROOT, SRC]\n",
    "\n",
    "print(\"Project root: \", str(ROOT))\n",
    "print('Src folder: ', str(SRC))\n",
    "print(\"This nb path: \", str(this_nb_path))\n",
    "\n",
    "\n",
    "for p in paths2add:\n",
    "    if str(p) not in sys.path:\n",
    "        sys.path.insert(0, str(p))\n",
    "        print(f\"\\n{str(p)} added to the path.\")\n",
    "        \n",
    "# print(sys.path)\n",
    "\n"
   ]
  },
  {
   "cell_type": "markdown",
   "metadata": {},
   "source": [
    "## Basic stats of the Maptile dataset \n",
    "DATA_ROOT structure\n",
    "```\n",
    "Maptiles\n",
    "|- city\n",
    "    |- style1\n",
    "        |- zoom\n",
    "            |- x_y_z.png\n",
    "            |- ...\n",
    "            |- lnglat \n",
    "                |- x_y_z.txt\n",
    "                |- ...\n",
    "```\n",
    "Ex:\n",
    "```\n",
    "Maptiles\n",
    "|- paris\n",
    "    |- OSMDefault\n",
    "        |- 15\n",
    "            |- 16603_11278_15.png\n",
    "```\n",
    "Note: for style watercolor images, the images are in fact in `.jpg` even though the suffix is `png`. \n",
    "So, when reading watercolor images, explicitly specify the format as a keyword argument to `imread` function.\n",
    "\n",
    "- cities: "
   ]
  },
  {
   "cell_type": "code",
   "execution_count": null,
   "metadata": {},
   "outputs": [],
   "source": [
    "from collections import defaultdict\n",
    "\n",
    "class NestedDefaultDict(defaultdict):\n",
    "    \"src: https://stackoverflow.com/a/56338725\"\n",
    "    def __init__(self, *args, **kwargs):\n",
    "        super().__init__(NestedDefaultDict, *args, **kwargs)\n",
    "\n",
    "    def __repr__(self):\n",
    "        return repr(dict(self))\n",
    "    \n",
    "    "
   ]
  },
  {
   "cell_type": "code",
   "execution_count": null,
   "metadata": {},
   "outputs": [],
   "source": [
    "zoom = 15\n",
    "n_show = 4\n",
    "debug = True\n",
    "\n",
    "def collect_fns(data_root: Path, \n",
    "                cities: Iterable[str]=None,\n",
    "                styles: Iterable[str]=None,\n",
    "                zooms: Iterable[str]=None,\n",
    "                verbose: bool=False,\n",
    "                debug: bool=False, \n",
    "                n_show: int=4) -> pd.DataFrame:\n",
    "    \"\"\"\n",
    "    Collect all Count the number of maptiles from `cities`, for each style in `styles` \n",
    "    and at each zoom level in `zooms`\n",
    "    \n",
    "    Args:\n",
    "    - data_root (Path): Path object to the root folder for data\n",
    "\n",
    "        \n",
    "    - debug (bool)\n",
    "    - n_show (int): number of images to sample and show for each city/style/zoom\n",
    "    \n",
    "    Note: If debug is false, n_show is ignored\n",
    "    \n",
    "    Returns:\n",
    "    - fns (pd.DataFrame): with columns = ['city', 'style', 'zoom', 'fn']\n",
    "    \n",
    "    TODO: the `fn` column stores Path objects (rather than the string)? \n",
    "    -- or better to store str object?\n",
    "    \"\"\" \n",
    "    # Collect as a record/row = Tuple[str, str, str, int] for a dataframe\n",
    "    rows = [] \n",
    "    for city_dir in data_root.iterdir():\n",
    "        if city_dir.is_dir():\n",
    "            city = city_dir.stem\n",
    "            if verbose: print(f\"\\n{city}\")\n",
    "            if city not in cities:\n",
    "                if verbose: print(f\"Skipping... {city}\")\n",
    "                continue\n",
    "            for style_dir in city_dir.iterdir():\n",
    "                if style_dir.is_dir():\n",
    "                    style = style_dir.stem\n",
    "                    if verbose: print(f\"\\n\\t{style}\")\n",
    "                    if style not in styles:\n",
    "                        if verbose: print(f\"Skipping... {style}\")\n",
    "                        continue\n",
    "                    for zoom_dir in style_dir.iterdir():\n",
    "                        if zoom_dir.is_dir():\n",
    "                            z = zoom_dir.stem\n",
    "                            if verbose: print(f\"\\n\\t\\t{z}\")\n",
    "                            if z not in zooms:\n",
    "                                if verbose: print(f\"Skipping... {z}\")\n",
    "                                continue\n",
    "                            for fpath in zoom_dir.iterdir():\n",
    "                                if fpath.is_file():\n",
    "                                    rows.append([city, style, z, fpath])\n",
    "                            \n",
    "                                        \n",
    "                            # Debug\n",
    "                            if debug:\n",
    "                                print(f\"{city}/{style}/{z}: {count}\")\n",
    "                                \n",
    "                                #show samples\n",
    "                                img_fns = [p for p in zoom_dir.iterdir() if p.is_file()][:n_show]\n",
    "                                inds = np.random.choice(len(img_fns), size=n_show, replace=False)\n",
    "                                \n",
    "                                f, ax = plt.subplots(nrows=1, ncols=n_show)\n",
    "                                f.suptitle(f\"{city}/{style}/{z}\")\n",
    "                                ax = ax.flatten()\n",
    "                                for i in range(n_show):\n",
    "                                    ind = inds[i]\n",
    "                                    try:\n",
    "                                        img = plt.imread(img_fns[ind])\n",
    "                                    except SyntaxError: # suffix is deceptive (ie. not PNG, but jpg)\n",
    "                                        img = plt.imread(img_fns[ind], format='jpg')\n",
    "                                    ax[i].imshow(img)\n",
    "                                    print(img.min(), img.max(), img.dtype, img.shape)\n",
    "                                brpt()\n",
    "                                \n",
    "        # Construct a dataframe\n",
    "        df_counts = pd.DataFrame(rows, columns=['city', 'style', 'zoom', 'fpath'])\n",
    "\n",
    "    return df_counts"
   ]
  },
  {
   "cell_type": "code",
   "execution_count": null,
   "metadata": {},
   "outputs": [],
   "source": [
    "def test_collect_fns():\n",
    "    cities = ['paris']\n",
    "    styles = ['StamenTerrainLines']\n",
    "    zooms = ['11']\n",
    "    df_fns = collect_fns(DATA_ROOT, cities, styles, zooms)\n",
    "    print(len(df_fns))\n",
    "    print(df_fns)\n",
    "test_collect_fns()"
   ]
  },
  {
   "cell_type": "code",
   "execution_count": null,
   "metadata": {},
   "outputs": [],
   "source": [
    "def count_imgs(data_root: Path, \n",
    "              return_type: str='dataframe',\n",
    "              debug: bool=False, n_show: int=4) -> Union[pd.DataFrame,Dict[str, Dict[str, Dict[str, int]]]]:\n",
    "    \"\"\"\n",
    "    Count the number of maptiles for each city,\n",
    "    for each style, at each zoom level.\n",
    "    \n",
    "    Args:\n",
    "    - data_root (Path): Path object to the root folder for data\n",
    "    - return_type (str): 'dataframe' or 'dict'\n",
    "        - If 'dataframe': returns pd.Dataframe (flat)\n",
    "        - If 'dict': returns dictionary (nested), similar to json\n",
    "        \n",
    "    - debug (bool)\n",
    "    - n_show (int): number of images to sample and show for each city/style/zoom\n",
    "    \n",
    "    Note: If debug is false, n_show is ignored\n",
    "    \n",
    "    Returns:\n",
    "    - counts (dict): counts[city(str)][style(str)][zoom(str)] stores \n",
    "    the number of maptiles at zoom, of style, from city.\n",
    "    \n",
    "    \"\"\" \n",
    "    # Collect as a record/row = Tuple[str, str, str, int] for a dataframe\n",
    "    rows = [] \n",
    "    \n",
    "    # Or, as a nested dictionary\n",
    "    counts = NestedDefaultDict()\n",
    "    for city_dir in data_root.iterdir():\n",
    "        if city_dir.is_dir():\n",
    "            city = city_dir.stem\n",
    "            cities.append(city)\n",
    "            for style_dir in city_dir.iterdir():\n",
    "                if style_dir.is_dir():\n",
    "                    style = style_dir.stem\n",
    "                    for zoom_dir in style_dir.iterdir():\n",
    "                        if zoom_dir.is_dir():\n",
    "                            z = zoom_dir.stem\n",
    "                            count = len([p for p in zoom_dir.iterdir() if p.is_file()])\n",
    "                            \n",
    "                            # Collect the count\n",
    "                            counts[city][style][z] = count\n",
    "                            rows.append([city, style, z, count])\n",
    "                                        \n",
    "                            # Debug\n",
    "                            if debug:\n",
    "                                print(f\"{city}/{style}/{z}: {count}\")\n",
    "                                \n",
    "                                #show samples\n",
    "                                img_fns = [p for p in zoom_dir.iterdir() if p.is_file()][:n_show]\n",
    "                                inds = np.random.choice(len(img_fns), size=n_show, replace=False)\n",
    "                                \n",
    "                                f, ax = plt.subplots(nrows=1, ncols=n_show)\n",
    "                                f.suptitle(f\"{city}/{style}/{z}\")\n",
    "                                ax = ax.flatten()\n",
    "                                for i in range(n_show):\n",
    "                                    ind = inds[i]\n",
    "                                    try:\n",
    "                                        img = plt.imread(img_fns[ind])\n",
    "                                    except SyntaxError: # suffix is deceptive (ie. not PNG, but jpg)\n",
    "                                        img = plt.imread(img_fns[ind], format='jpg')\n",
    "                                    ax[i].imshow(img)\n",
    "                                    print(img.min(), img.max(), img.dtype, img.shape)\n",
    "                                brpt()\n",
    "                                \n",
    "        # Construct a dataframe\n",
    "        df_counts = pd.DataFrame(rows, columns=['city', 'style', 'zoom', 'count'])\n",
    "\n",
    "\n",
    "                                \n",
    "    return df_counts if return_type == 'dataframe' else counts\n",
    "                                "
   ]
  },
  {
   "cell_type": "code",
   "execution_count": null,
   "metadata": {},
   "outputs": [],
   "source": [
    "df_counts = count_imgs(DATA_ROOT)\n"
   ]
  },
  {
   "cell_type": "code",
   "execution_count": null,
   "metadata": {},
   "outputs": [],
   "source": [
    "df_counts[ (df_counts.city=='paris')];"
   ]
  },
  {
   "cell_type": "code",
   "execution_count": null,
   "metadata": {},
   "outputs": [],
   "source": [
    "from pretty_html_table import build_table"
   ]
  },
  {
   "cell_type": "code",
   "execution_count": null,
   "metadata": {},
   "outputs": [],
   "source": [
    "html_counts = build_table(df_counts, 'blue_dark')"
   ]
  },
  {
   "cell_type": "code",
   "execution_count": null,
   "metadata": {},
   "outputs": [],
   "source": [
    "with open('/data/hayley-old/maptiles_v2/counts.html','w') as f:\n",
    "    f.write(html_counts)\n",
    "    "
   ]
  },
  {
   "cell_type": "markdown",
   "metadata": {},
   "source": [
    "## Maptile style shortnames\n"
   ]
  },
  {
   "cell_type": "code",
   "execution_count": null,
   "metadata": {},
   "outputs": [],
   "source": [
    "shortnames = {}\n",
    "styles = df_counts[\"style\"].unique()\n",
    "pprint(styles)"
   ]
  },
  {
   "cell_type": "code",
   "execution_count": null,
   "metadata": {},
   "outputs": [],
   "source": [
    "class MapStyles():\n",
    "    \n",
    "    _long2short = {\n",
    "        \"EsriImagery\": \"Esri\",\n",
    "        \"EsriWorldTopo\": \"EsriTopo\",\n",
    "        \"CartoLightNoLabels\": \"CartoLight\",\n",
    "        \"CartoVoyagerNoLabels\": \"CartoVoyager\",\n",
    "        \"StamenTonerLines\": \"StamenTonerL\",\n",
    "        \"StamenTonerBackground\": \"StamenTonerBg\",\n",
    "        \"StamenTerrainLines\": \"StamenTerrainL\",\n",
    "        \"StamenTerrainBackground\": \"StamenTerrainBg\",\n",
    "        \"StamenWatercolor\": \"StamenWc\",\n",
    "        \"OSMDefault\": \"OSM\",\n",
    "        \"MtbmapDefault\":\" Mtb\"\n",
    "    }\n",
    "    @classmethod\n",
    "    def _short2long(cls):\n",
    "        return {short:long for long,short in cls._long2short.items()}\n",
    "    \n",
    "    @classmethod\n",
    "    def shortname(cls, style:str):\n",
    "        return cls._long2short[style]\n",
    "    \n",
    "    @classmethod\n",
    "    def longname(cls, short:str):\n",
    "        return cls._short2long()[short]\n",
    "    \n",
    "    # TODO: Implement as delegation; Add \"remove\" method    \n",
    "    @classmethod\n",
    "    def update(cls, style:str, shortname:str) -> None:\n",
    "        cls._long2short[style] = shortname\n",
    "    \n",
    "    def __init__(self):\n",
    "        pass\n",
    "    \n",
    "    \n",
    "def test_mapstyles_long2short():\n",
    "    for s in styles:\n",
    "        print(f\"{s}: {MapStyles.shortname(s)}\")\n",
    "def test_mapstyles_short2long():\n",
    "    d = MapStyles._long2short\n",
    "    for long,short in d.items():\n",
    "        print(f\"{short}: {MapStyles.longname(short)}\")\n",
    "test_mapstyles_short2long()\n"
   ]
  },
  {
   "cell_type": "code",
   "execution_count": null,
   "metadata": {},
   "outputs": [],
   "source": [
    "[print(c.upper()) for c in cities];"
   ]
  },
  {
   "cell_type": "markdown",
   "metadata": {},
   "source": [
    "## Pie chart to show  style proportions for each city"
   ]
  },
  {
   "cell_type": "code",
   "execution_count": null,
   "metadata": {},
   "outputs": [],
   "source": [
    "from src.visualize.utils import get_fig\n",
    "\n",
    "def show_pie_chart(df_counts: pd.DataFrame, zoom: int, *, \n",
    "                   cities: Iterable[str]=None, styles: Iterable[str]=None)-> None:\n",
    "    \"\"\"\n",
    "    Show style proportions of all maptiles at the specified zoom.\n",
    "    Optionally, filter data to given cities and  styles.\n",
    "    \"\"\"\n",
    "    zoom = str(zoom)\n",
    "    df = df_counts[df_counts[\"zoom\"]==zoom].drop('zoom', axis=1)\n",
    "    \n",
    "    if cities is not None:\n",
    "        df = df[df[\"city\"].isin(cities)]\n",
    "    n_cities = len(df[\"city\"].unique())\n",
    "    if styles is not None:\n",
    "        df = df[df[\"style\"].isin(styles)]\n",
    "\n",
    "    f, axes = get_fig(n_cities, factor=5.)\n",
    "    f.suptitle(f\"Zoom: {zoom}\")\n",
    "    # per-city pie chart to show each style's proportion\n",
    "    g_iter = iter(df.groupby(['city']))\n",
    "    for i, ax in enumerate(axes):\n",
    "        if i < n_cities:\n",
    "            name, g = next(g_iter)\n",
    "            labels = g[\"style\"].apply(MapStyles.shortname)\n",
    "            ax.pie(g[\"count\"], labels=labels, autopct='%1.1f%%');\n",
    "            ax.set_title(name)\n",
    "        else:\n",
    "            f.delaxes(ax)\n",
    "            "
   ]
  },
  {
   "cell_type": "markdown",
   "metadata": {},
   "source": [
    "Train cities:\n",
    "- berlin\n",
    "- la\n",
    "- montreal\n",
    "- paris\n",
    "- rome\n",
    "- seoul\n",
    "- chicago"
   ]
  },
  {
   "cell_type": "code",
   "execution_count": null,
   "metadata": {},
   "outputs": [],
   "source": [
    "# Show a pie chart for each of the specified zooms\n",
    "zooms = df_counts['zoom'].unique()\n",
    "train_cities = [\"paris\", \"la\", \"manhattan\", \"boston\", \"berlin\", \"montreal\"]\n",
    "\n",
    "train_styles = [MapStyles.longname(shortname) for shortname in sorted([\"CartoLight\", \"CartoVoyager\", \"Esri\", \"OSM\", \"StamenTonerL\", \"StamenWc\"])]\n",
    "for zoom in [15]: #zooms:\n",
    "    show_pie_chart(df_counts, zoom=zoom, cities=train_cities, styles=train_styles)"
   ]
  },
  {
   "cell_type": "code",
   "execution_count": null,
   "metadata": {},
   "outputs": [],
   "source": [
    "show_pie_chart(df_counts, zoom=12)"
   ]
  },
  {
   "cell_type": "markdown",
   "metadata": {},
   "source": [
    "## Count stat per city "
   ]
  },
  {
   "cell_type": "code",
   "execution_count": null,
   "metadata": {},
   "outputs": [],
   "source": [
    "zoom = str(15)\n",
    "condition = (df_counts[\"style\"].isin(train_styles)) & (df_counts[\"zoom\"] == zoom)\n",
    "df = df_counts[condition].drop(\"zoom\", axis=1).reset_index(drop=True)\n",
    "\n",
    "# Make the dataframe into html table and save as a file\n",
    "html = build_table(df, 'blue_dark')\n",
    "with open(f'/data/hayley-old/maptiles_v2/train-styles_zoom:{zoom}_counts.html','w') as f:\n",
    "    f.write(html)\n",
    "    "
   ]
  },
  {
   "cell_type": "code",
   "execution_count": null,
   "metadata": {},
   "outputs": [],
   "source": [
    "# show entire dataframe\n",
    "with pd.option_context('display.max_rows', None, 'display.max_columns', None): \n",
    "#     pprint(df_counts.groupby([\"city\", \"zoom\"]).sum(\"count\"))\n",
    "    pprint(df.groupby([\"city\"]).sum(\"count\"))\n"
   ]
  },
  {
   "cell_type": "markdown",
   "metadata": {},
   "source": [
    "## Organize maptiles into a structure that is standard for pytorch's `Dataset` class\n",
    "- Ref: \n",
    "1. Finish the implementation v1\n",
    "2. Test with vae"
   ]
  },
  {
   "cell_type": "code",
   "execution_count": null,
   "metadata": {},
   "outputs": [],
   "source": [
    "# How do I want to use this dataset object/ dataloader?\n",
    "class MAPNIST(Dataset):\n",
    "    \n",
    "    def __init__(self, data_root: Path, \n",
    "                 cities: Iterable, \n",
    "                 styles: Iterable, \n",
    "                 zooms: Iterable[str], \n",
    "                 transform: Optional[Callable]=None,\n",
    "                 target_transform: Optional[Callable]=None,\n",
    "                verbose: bool=False):\n",
    "        self.data_root = data_root\n",
    "        self.cities = cities\n",
    "        self.styles = styles\n",
    "        self.zooms = zooms\n",
    "        self.xform =transform\n",
    "        self.target_xform = target_transform\n",
    "        self.df_fns = collect_fns(self.data_root, self.cities, self.styles, self.zooms,\n",
    "                                 verbose=verbose)\n",
    "        self.df_counts = self.df_fns.groupby(['city', 'style', 'zoom']).sum('fpath')\n",
    "        \n",
    "        \n",
    "    def __getitem__(self, idx: int) -> Tuple[np.ndarray, str]:\n",
    "        \"\"\"\n",
    "        Return `idx`th sample from the dataset\n",
    "        \n",
    "        -x: (np.ndarray) of 3dim H=256,W=256,C=3. Values are in range [0.,1.]\n",
    "        -y (str): style name (long/original name)\n",
    "        \n",
    "        \"\"\"\n",
    "        fpath = self.df_fns.iloc[idx]['fpath']\n",
    "        try: \n",
    "            x = plt.imread(fpath)[...,:3]\n",
    "        except SyntaxError: #read as jpg\n",
    "            x = plt.imread(fpath, format='jpg')[...,:3]\n",
    "            \n",
    "        y = self.df_fns.iloc[idx][\"style\"]\n",
    "\n",
    "        return (x,y)\n",
    "    \n",
    "    def __len__(self):\n",
    "        \"Return the number of samples in the dataset\"\n",
    "        return len(self.df_fns)\n",
    "    \n",
    "    def __repr__(self):\n",
    "        return f\"MAPNIST_{'-'.join(self.cities)}_{'-'.join(self.styles)}_{self.zoom}\"\n",
    "        \n",
    "    def get_summary(self) -> pd.DataFrame:\n",
    "        \"Returns a dataframe of the counts of the maptiles for this object's cities and styles at zoom\"\n",
    "        df_counts = count_imgs(DATA_ROOT)\n",
    "        condition = (df_counts[\"city\"].isin(self.cities)) & (df_counts[\"style\"].isin(self.styles)) & (df_counts[\"zoom\"] == self.zoom)\n",
    "        df_summary = df_counts[condition].drop(\"zoom\", axis=1).reset_index(drop=True)\n",
    "        return df_summary\n",
    "\n",
    "                                  "
   ]
  },
  {
   "cell_type": "code",
   "execution_count": null,
   "metadata": {},
   "outputs": [],
   "source": [
    "def test_MAPNIST():\n",
    "    cities = ['la']\n",
    "    styles = ['OSMDefault']\n",
    "    zooms = ['14']\n",
    "    dset = MAPNIST(DATA_ROOT, cities, styles, zooms)\n",
    "    for i in range(10):\n",
    "        idx = np.random.randint(0,len(dset))\n",
    "        print(len(dset))\n",
    "        x,y = dset[idx]\n",
    "        plt.imshow(x)\n",
    "        plt.title(f\"{idx}, {y}\")\n",
    "        plt.show()\n",
    "test_MAPNIST()\n"
   ]
  },
  {
   "cell_type": "markdown",
   "metadata": {},
   "source": [
    "todo:\n",
    "- transform to smaller image size? eg. 64,64,3\n",
    "- train with pl in the playground - just swap mnist with maptiles\n",
    "--> Dec 7, 2020 3:56pm\n"
   ]
  },
  {
   "cell_type": "code",
   "execution_count": null,
   "metadata": {},
   "outputs": [],
   "source": [
    "ALFAFOLD?"
   ]
  }
 ],
 "metadata": {
  "kernelspec": {
   "display_name": "Python [conda env:torch2]",
   "language": "python",
   "name": "conda-env-torch2-py"
  },
  "language_info": {
   "codemirror_mode": {
    "name": "ipython",
    "version": 3
   },
   "file_extension": ".py",
   "mimetype": "text/x-python",
   "name": "python",
   "nbconvert_exporter": "python",
   "pygments_lexer": "ipython3",
   "version": "3.7.8"
  }
 },
 "nbformat": 4,
 "nbformat_minor": 4
}
