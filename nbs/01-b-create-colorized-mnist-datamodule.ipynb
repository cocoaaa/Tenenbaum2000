{
 "cells": [
  {
   "cell_type": "markdown",
   "metadata": {},
   "source": [
    "# Create a monochrome version of MNIST \n",
    "by spliting the MNIST into 4 subsets\n",
    "\n",
    "Change the background (or digit's whitespace?) color to \n",
    "- keep as is (Black)\n",
    "- Red\n",
    "- Green\n",
    "- Blue\n",
    "\n",
    "The resulting dataset will consists of 4 subdatasets each of which has its own \"style\" (ie. the color of the background).\n"
   ]
  },
  {
   "cell_type": "markdown",
   "metadata": {},
   "source": [
    "## Load libraries"
   ]
  },
  {
   "cell_type": "code",
   "execution_count": null,
   "metadata": {},
   "outputs": [],
   "source": [
    "%reload_ext autoreload\n",
    "%autoreload 2\n",
    "%matplotlib inline"
   ]
  },
  {
   "cell_type": "code",
   "execution_count": null,
   "metadata": {},
   "outputs": [],
   "source": [
    "import os,sys\n",
    "import re\n",
    "import math\n",
    "from datetime import datetime\n",
    "import time\n",
    "sys.dont_write_bytecode = True"
   ]
  },
  {
   "cell_type": "code",
   "execution_count": null,
   "metadata": {},
   "outputs": [],
   "source": [
    "import pandas as pd\n",
    "\n",
    "import numpy as np\n",
    "import joblib\n",
    "import matplotlib.pyplot as plt\n",
    "\n",
    "from pathlib import Path\n",
    "from typing import Any, List, Set, Dict, Tuple, Optional, Iterable, Mapping, Union, Callable, TypeVar\n",
    "\n",
    "from pprint import pprint\n",
    "from ipdb import set_trace as brpt"
   ]
  },
  {
   "cell_type": "code",
   "execution_count": null,
   "metadata": {},
   "outputs": [],
   "source": [
    "import torch \n",
    "import torch.nn as nn\n",
    "import torch.nn.functional as F\n",
    "import torch.optim as optim\n",
    "from  torch.linalg import norm as tnorm\n",
    "from torch.utils.data import Dataset, DataLoader, random_split\n",
    "\n",
    "from torchvision import datasets, transforms\n",
    "\n",
    "import pytorch_lightning as pl\n",
    "from pytorch_lightning.core.lightning import LightningModule\n",
    "from pytorch_lightning import loggers as pl_loggers\n",
    "from pytorch_lightning.tuner.tuning import Tuner\n",
    "\n",
    "\n",
    "# Select Visible GPU\n",
    "os.environ[\"CUDA_DEVICE_ORDER\"]=\"PCI_BUS_ID\" \n",
    "os.environ[\"CUDA_VISIBLE_DEVICES\"]=\"1\""
   ]
  },
  {
   "cell_type": "markdown",
   "metadata": {},
   "source": [
    "## Set Path \n",
    "1. Add project root and src folders to `sys.path`\n",
    "2. Set DATA_ROOT to `maptile_v2` folder"
   ]
  },
  {
   "cell_type": "code",
   "execution_count": null,
   "metadata": {},
   "outputs": [],
   "source": [
    "this_nb_path = Path(os.getcwd())\n",
    "ROOT = this_nb_path.parent\n",
    "SRC = ROOT/'src'\n",
    "DATA_ROOT = Path(\"/data/hayley-old/maptiles_v2/\")\n",
    "paths2add = [this_nb_path, ROOT]\n",
    "\n",
    "print(\"Project root: \", str(ROOT))\n",
    "print('Src folder: ', str(SRC))\n",
    "print(\"This nb path: \", str(this_nb_path))\n",
    "\n",
    "\n",
    "for p in paths2add:\n",
    "    if str(p) not in sys.path:\n",
    "        sys.path.insert(0, str(p))\n",
    "        print(f\"\\n{str(p)} added to the path.\")\n",
    "# print(sys.path)"
   ]
  },
  {
   "cell_type": "code",
   "execution_count": null,
   "metadata": {},
   "outputs": [],
   "source": [
    "from src.data.datamodules.maptiles_datamodule import MaptilesDataModule\n",
    "\n",
    "from src.data.transforms.transforms import Identity, Unnormalizer, LinearRescaler, Monochromizer\n",
    "from src.data.transforms.functional import unnormalize, to_monochrome\n",
    "\n",
    "from src.visualize.utils import show_timg, show_timgs, show_batch, make_grid_from_tensors\n",
    "from src.utils.misc import info\n",
    "from collections import OrderedDict, defaultdict\n",
    "from PIL import Image"
   ]
  },
  {
   "cell_type": "code",
   "execution_count": null,
   "metadata": {
    "jupyter": {
     "source_hidden": true
    }
   },
   "outputs": [],
   "source": [
    "def to_monochrome(x: torch.Tensor,\n",
    "                  color: str) -> torch.Tensor:\n",
    "    \"\"\"\n",
    "    Transfrom a grayscale (3dim, (1,h,w) tensor) to a mono-chrome 3channel tensor (3,h,w) \n",
    "    x: a single 3dim torch.Tensor a single channel; (1, h, w)\n",
    "    color: str - one of ['red', 'green', 'blue']\n",
    "    \n",
    "    returns:\n",
    "    - a single (3dim) torch.Tensor with 3 channels: (3, h, w)\n",
    "    \n",
    "    \"\"\"\n",
    "    color2dim = {\"red\": 0, \"green\": 1, \"blue\": 2}\n",
    "    \n",
    "    color = color.lower()\n",
    "    color_dim = color2dim[color]\n",
    "    \n",
    "    out = torch.zeros_like(x).repeat((3,1,1))\n",
    "    print(out.shape)\n",
    "    out[color_dim] = x\n",
    "    return out\n",
    "\n",
    "def test_to_monochrome(x: torch.Tensor):\n",
    "    \"\"\"\n",
    "    x: a single 1-channel tensor (1, h, w)\n",
    "    \"\"\"\n",
    "    timg = transforms.ToTensor()(x)\n",
    "    timg.shape\n",
    "    timg_r = to_monochrome(timg, 'red')\n",
    "    timg_r.shape\n",
    "    show_timg(timg_r)\n",
    "    \n",
    "def test_monochromizer(x: torch.Tensor):\n",
    "    \"\"\"\n",
    "    x: a single 1-channel tensor (1, h, w)\n",
    "    \"\"\"\n",
    "    timg = transforms.ToTensor()(x)\n",
    "    timg_red = Monochromizer(\"red\")(timg)\n",
    "    show_timg(timg_red)\n"
   ]
  },
  {
   "cell_type": "code",
   "execution_count": null,
   "metadata": {},
   "outputs": [],
   "source": [
    "def color_grayscale_arr(nparr: np.ndarray, color: str) -> np.ndarray:\n",
    "    \"\"\"\n",
    "    - nparr: unit8 in range [0,255]; shape (28,28); 2dim\n",
    "    \n",
    "    Returns: np.ndarray of (h,w,3); float32; range (0., 1.0)\n",
    "    \"\"\"\n",
    "    color = color.lower()\n",
    "    assert color in ['r', 'g','b'], \"color must be one of 'r', 'g','b'\"\n",
    "    assert nparr.ndim == 2\n",
    "    h,w = nparr.shape\n",
    "    nparr = nparr[...,None] # (h,w,1)\n",
    "    \n",
    "    if color == 'r':\n",
    "        nparr = np.concatenate([nparr, np.zeros((h,w,2))],\n",
    "                               axis=-1)\n",
    "    elif color == 'g':\n",
    "        nparr = np.concatenate([np.zeros((h,w,1)), nparr, np.zeros((h,w,1))],\n",
    "                                axis=-1)\n",
    "    else: #blue\n",
    "        nparr = np.concatenate([np.zeros((h,w,2)), nparr],\n",
    "                               axis=-1)\n",
    "    return nparr #(h,w,3)\n",
    "\n",
    "def test_color_grayscale_arr(img: Image):\n",
    "    arr = np.array(img)\n",
    "    r_img = color_grayscale_arr(arr, 'r')\n",
    "    g_img = color_grayscale_arr(arr, 'g')\n",
    "    b_img = color_grayscale_arr(arr, 'b')\n",
    "\n",
    "    f,ax = plt.subplots(1,4)\n",
    "    ax = ax.flatten()\n",
    "    ax[0].imshow(arr, cmap='gray')\n",
    "    ax[1].imshow(r_img)\n",
    "    ax[2].imshow(g_img)\n",
    "    ax[3].imshow(b_img)\n",
    "    \n",
    "    info(r_img)\n",
    "test_color_grayscale_arr(X_r[0])"
   ]
  },
  {
   "attachments": {
    "ac95dd99-9dbd-4b09-bfe2-f1f8085623c6.png": {
     "image/png": "[encoded data removed]"
    }
   },
   "cell_type": "markdown",
   "metadata": {},
   "source": [
    "![image.png](attachment:ac95dd99-9dbd-4b09-bfe2-f1f8085623c6.png)\n"
   ]
  },
  {
   "cell_type": "code",
   "execution_count": null,
   "metadata": {
    "jupyter": {
     "source_hidden": true
    }
   },
   "outputs": [],
   "source": [
    "MNIST_DATA_DIR = Path('/data/hayley-old/digits/')/'mnist'\n",
    "ds = datasets.MNIST('/data/hayley-old/Tenanbaum2000/data/', train=True)\n",
    "digits = defaultdict(list)\n",
    "for i in range(len(ds)):\n",
    "    x,y = ds[i] #PIL.Image of mode 'L' (ie. grayscale); y is int\n",
    "    digits[y].append(x)\n",
    "for k,v in digits.items():\n",
    "    print(k, len(v))\n",
    "    "
   ]
  },
  {
   "cell_type": "markdown",
   "metadata": {},
   "source": [
    "For each digit class's collection of images (eg. all images of digit id = 0),\n",
    "- random_spilt into number of colors/styles \n"
   ]
  },
  {
   "cell_type": "code",
   "execution_count": null,
   "metadata": {
    "jupyter": {
     "source_hidden": true
    }
   },
   "outputs": [],
   "source": [
    "seed = 123\n",
    "dict_bw = defaultdict(list)\n",
    "dict_r = defaultdict(list)\n",
    "dict_g = defaultdict(dict)\n",
    "dict_b = defaultdict(dict)\n",
    "\n",
    "for digit, imgs in digits.items():\n",
    "    \n",
    "    n = len(imgs)\n",
    "    n_color = n//4\n",
    "    n_bw = n - 3*n_color\n",
    "    bw_imgs, r_imgs, g_imgs, b_imgs = random_split(imgs,\n",
    "                                                   [n_bw, n_color, n_color, n_color], \n",
    "                                                   generator=torch.Generator().manual_seed(seed))\n",
    "    # bw/r/g/b: list of pil images -- each dataset has same digit id; different styles (either grayscale, red, green, blue)\n",
    "\n",
    "    print(\"Digit id: \", digit)\n",
    "    print(\"\\t\", [len(i) for i in [bw_imgs, r_imgs, g_imgs, b_imgs]])\n",
    "    \n",
    "    dict_bw[digit] = bw_imgs\n",
    "    dict_r[digit] = r_imgs\n",
    "    dict_g[digit] = g_imgs\n",
    "    dict_b[digit] = b_imgs\n",
    "    \n",
    "    \n",
    "\n"
   ]
  },
  {
   "cell_type": "markdown",
   "metadata": {},
   "source": [
    "Create each style's digit dataset from the dict of bw/r/g/b imgs\n",
    "- Returns: bw_ds, r_ds, g_ds, b_ds"
   ]
  },
  {
   "cell_type": "code",
   "execution_count": null,
   "metadata": {
    "jupyter": {
     "source_hidden": true
    }
   },
   "outputs": [],
   "source": [
    "def dict_imgs2tuple_xy(dict_imgs: Dict[int, List],\n",
    "                      verbose=False) -> Tuple[Iterable, Iterable]:\n",
    "    pil_imgs = []\n",
    "    ys = []\n",
    "    for k,v in dict_imgs.items():\n",
    "        n_imgs = len(v)\n",
    "        pil_imgs.extend(v)\n",
    "        ys.extend([k]*n_imgs)\n",
    "        \n",
    "        if verbose:\n",
    "            print(\"\\n\", k)\n",
    "            print(len(pil_imgs), len(ys))\n",
    "        \n",
    "    return (pil_imgs, ys)\n",
    "              \n",
    "        "
   ]
  },
  {
   "cell_type": "code",
   "execution_count": null,
   "metadata": {
    "jupyter": {
     "source_hidden": true
    }
   },
   "outputs": [],
   "source": [
    "X_bw,Y_bw = dict_imgs2tuple_xy(dict_bw)\n",
    "X_r,Y_r = dict_imgs2tuple_xy(dict_r)\n",
    "X_g,Y_g = dict_imgs2tuple_xy(dict_g)\n",
    "X_b,Y_b = dict_imgs2tuple_xy(dict_b)"
   ]
  },
  {
   "cell_type": "code",
   "execution_count": null,
   "metadata": {
    "jupyter": {
     "source_hidden": true
    }
   },
   "outputs": [],
   "source": [
    "def XY(name):\n",
    "    return {\n",
    "        \"bw\": (X_bw,Y_bw),\n",
    "        \"red\": (X_r,Y_r),\n",
    "        \"green\": (X_g,Y_g),\n",
    "        \"blue\": (X_b,Y_b)\n",
    "    }[name]"
   ]
  },
  {
   "cell_type": "code",
   "execution_count": null,
   "metadata": {
    "jupyter": {
     "source_hidden": true
    }
   },
   "outputs": [],
   "source": [
    "out_root = Path('/data/hayley-old/Tenanbaum2000/data/Mono-MNIST/')\n",
    "for name in ['bw', 'red', 'green', 'blue']:\n",
    "    out_fn = out_root/f\"mnist_{name}.pkl\"\n",
    "    joblib.dump(XY(name), out_fn)"
   ]
  },
  {
   "cell_type": "code",
   "execution_count": null,
   "metadata": {
    "jupyter": {
     "source_hidden": true
    }
   },
   "outputs": [],
   "source": [
    "name = 'red'\n",
    "ds = joblib.load(out_root/f\"mnist_{name}.pkl\")\n",
    "ds[0]\n",
    "                 "
   ]
  },
  {
   "cell_type": "code",
   "execution_count": null,
   "metadata": {
    "jupyter": {
     "source_hidden": true
    }
   },
   "outputs": [],
   "source": [
    "def make_mnist_color_dataset(data_root: Union[Path, str], \n",
    "                             color: str):\n",
    "    # Load preprocessed pickle\n",
    "    pil_imgs, ys = joblib.load(data_root/f\"mnist_{color}.pkl\")\n",
    "    print(len(pil_imgs), len(ys))\n",
    "    breakpoint()\n",
    "    \n",
    "    # Make a dataset object\n",
    "    Dataset("
   ]
  },
  {
   "cell_type": "code",
   "execution_count": null,
   "metadata": {
    "jupyter": {
     "source_hidden": true
    }
   },
   "outputs": [],
   "source": [
    "class MonoMNIST(Dataset):\n",
    "    \"\"\"\n",
    "    - data_root: root dir that contains \"mnist_{color}.pkl\" files\n",
    "    - color: str; one of \"red\", \"green\", \"blue\" \n",
    "    \"\"\"\n",
    "    def __init__(\n",
    "        self,\n",
    "        data_root: Union[Path,str],\n",
    "        color: str,\n",
    "        transform: Optional[Callable] = None,\n",
    "        target_transform: Optional[Callable] = None,                 \n",
    "    ):\n",
    "        super().__init__()\n",
    "        self.color = color.lower()\n",
    "        assert self.color in [\"red\", \"green\", \"blue\"], \"color must be one of red, green, blue\"\n",
    "        \n",
    "        if transform is None:\n",
    "            self.transform = transforms.Compose([transforms.ToTensor(), Monochromizer(self.color)])\n",
    "        else:\n",
    "            self.transform = transform\n",
    "        self.target_transform = target_transform\n",
    "        \n",
    "        fn = Path(data_root)/f\"mnist_{self.color}.pkl\"\n",
    "        self.data, self.targets = joblib.load(fn)\n",
    "        \n",
    "        \n",
    "    def __getitem__(self, index: int) -> Tuple[Any, Any]:\n",
    "        \"\"\"\n",
    "        Args:\n",
    "            index (int): Index\n",
    "\n",
    "        Returns:\n",
    "            tuple: (pil_image, target) where target is index of the target class.\n",
    "        \"\"\"\n",
    "        img, target = self.data[index], int(self.targets[index]) \n",
    "        #img is a PIL Image of mode ('L'); unit8 in [0,...,255]; shape (28,28)\n",
    "\n",
    "        if self.transform is not None: #always perform the required basic transforms (ie. to Tensor and monochromizer)\n",
    "            img = self.transform(img)\n",
    "\n",
    "        if self.target_transform is not None:\n",
    "            target = self.target_transform(target)\n",
    "\n",
    "        return img, target\n",
    "    \n",
    "    \n",
    "    def __len__(self) -> int:\n",
    "        return len(self.data)\n",
    "    \n",
    "    def name(self) -> str:\n",
    "        return f\"MNIST-{self.color}\"\n",
    "    "
   ]
  },
  {
   "cell_type": "code",
   "execution_count": null,
   "metadata": {},
   "outputs": [],
   "source": []
  },
  {
   "cell_type": "code",
   "execution_count": null,
   "metadata": {},
   "outputs": [],
   "source": []
  },
  {
   "cell_type": "code",
   "execution_count": null,
   "metadata": {},
   "outputs": [],
   "source": []
  },
  {
   "cell_type": "code",
   "execution_count": null,
   "metadata": {},
   "outputs": [],
   "source": []
  },
  {
   "cell_type": "code",
   "execution_count": null,
   "metadata": {},
   "outputs": [],
   "source": []
  },
  {
   "cell_type": "markdown",
   "metadata": {},
   "source": [
    "---\n",
    "## Test MonoMNIST dataset\n",
    "Jan 5, 2021"
   ]
  },
  {
   "cell_type": "code",
   "execution_count": null,
   "metadata": {},
   "outputs": [],
   "source": [
    "from src.data.datasets.mono_mnist import MonoMNIST"
   ]
  },
  {
   "cell_type": "code",
   "execution_count": null,
   "metadata": {},
   "outputs": [],
   "source": [
    "GrayMNIST = MonoMNIST(data_root=ROOT/'data/Mono-MNIST',\n",
    "                      color='gray',\n",
    "                      train=True)\n",
    "\n",
    "RedMNIST = MonoMNIST(data_root=ROOT/'data/Mono-MNIST',\n",
    "                    color='red',\n",
    "                    train=True)\n",
    "GreenMNIST = MonoMNIST(data_root=ROOT/'data/Mono-MNIST',\n",
    "                    color='green',\n",
    "                      train=True)\n",
    "BlueMNIST = MonoMNIST(data_root=ROOT/'data/Mono-MNIST',\n",
    "                    color='blue',\n",
    "                     train=True)"
   ]
  },
  {
   "cell_type": "code",
   "execution_count": null,
   "metadata": {
    "collapsed": true,
    "jupyter": {
     "outputs_hidden": true
    }
   },
   "outputs": [],
   "source": [
    "for ds in [GrayMNIST, RedMNIST, GreenMNIST, BlueMNIST]:\n",
    "    print(ds.name(), len(ds))\n",
    "    for i in range(3):\n",
    "        x,y = ds[i]\n",
    "        show_timg(x)\n",
    "        plt.title(y)\n",
    "        plt.show()"
   ]
  },
  {
   "cell_type": "code",
   "execution_count": null,
   "metadata": {
    "collapsed": true,
    "jupyter": {
     "outputs_hidden": true
    }
   },
   "outputs": [],
   "source": []
  },
  {
   "cell_type": "markdown",
   "metadata": {},
   "source": [
    "---"
   ]
  },
  {
   "cell_type": "markdown",
   "metadata": {},
   "source": [
    "## Test MonoDatamodule for each color"
   ]
  },
  {
   "cell_type": "code",
   "execution_count": null,
   "metadata": {},
   "outputs": [],
   "source": [
    "from src.data.datamodules import MonoMNISTDataModule\n",
    "in_shape = (3,32,32)\n",
    "batch_size=16\n",
    "color = 'red'\n",
    "\n",
    "dm = MonoMNISTDataModule(\n",
    "    data_root=Path('/data/hayley-old/Tenanbaum2000/data/Mono-MNIST/'),\n",
    "    color=color,\n",
    "    seed=123,\n",
    "    in_shape=in_shape,\n",
    "    batch_size=batch_size\n",
    ")"
   ]
  },
  {
   "cell_type": "code",
   "execution_count": null,
   "metadata": {},
   "outputs": [],
   "source": [
    "dm.setup('fit')\n"
   ]
  },
  {
   "cell_type": "code",
   "execution_count": null,
   "metadata": {},
   "outputs": [],
   "source": [
    "dm.n_train, dm.n_val\n"
   ]
  },
  {
   "cell_type": "code",
   "execution_count": null,
   "metadata": {
    "collapsed": true,
    "jupyter": {
     "outputs_hidden": true
    }
   },
   "outputs": [],
   "source": [
    "ds =dm.val_ds\n",
    "for i in range(3):\n",
    "    x,y = ds[i]\n",
    "    show_timg(x)\n",
    "    plt.title(y)\n",
    "    plt.show()"
   ]
  },
  {
   "cell_type": "code",
   "execution_count": null,
   "metadata": {},
   "outputs": [],
   "source": [
    "x,y = next(iter(dm.train_dataloader()))\n",
    "x.shape, y.shape"
   ]
  },
  {
   "cell_type": "code",
   "execution_count": null,
   "metadata": {},
   "outputs": [],
   "source": []
  },
  {
   "cell_type": "code",
   "execution_count": null,
   "metadata": {},
   "outputs": [],
   "source": []
  },
  {
   "cell_type": "code",
   "execution_count": null,
   "metadata": {},
   "outputs": [],
   "source": [
    "a"
   ]
  },
  {
   "cell_type": "code",
   "execution_count": null,
   "metadata": {},
   "outputs": [],
   "source": [
    "show_timgs(x)"
   ]
  },
  {
   "cell_type": "code",
   "execution_count": null,
   "metadata": {},
   "outputs": [],
   "source": [
    "for color in ['red']:#['gray', 'red', 'green', 'blue']:\n",
    "    dm = MonoMNISTDataModule(\n",
    "        data_root=Path('/data/hayley-old/Tenanbaum2000/data/Mono-MNIST/'),\n",
    "        color=color,\n",
    "        seed=123,\n",
    "        in_shape=in_shape,\n",
    "        batch_size=batch_size\n",
    "    )\n",
    "    dm.setup('fit')\n",
    "    show_batch(dm) \n",
    "    plt.show()"
   ]
  },
  {
   "cell_type": "code",
   "execution_count": null,
   "metadata": {},
   "outputs": [],
   "source": []
  },
  {
   "cell_type": "code",
   "execution_count": null,
   "metadata": {},
   "outputs": [],
   "source": []
  },
  {
   "cell_type": "code",
   "execution_count": null,
   "metadata": {},
   "outputs": [],
   "source": []
  },
  {
   "cell_type": "code",
   "execution_count": null,
   "metadata": {},
   "outputs": [],
   "source": []
  },
  {
   "cell_type": "code",
   "execution_count": null,
   "metadata": {},
   "outputs": [],
   "source": []
  },
  {
   "cell_type": "markdown",
   "metadata": {},
   "source": [
    "---\n",
    "- Can I append a new `transform` (Callable) to a list of `transform`s wrapped in `transform.Compose`?\n",
    "  - Yes: use `transforms.Compose` again and pass in the composed transform as one\n",
    "  of the inputs to the function\n"
   ]
  },
  {
   "cell_type": "code",
   "execution_count": null,
   "metadata": {},
   "outputs": [],
   "source": [
    "xform = transforms.Compose([\n",
    "transforms.ToTensor()])\n"
   ]
  },
  {
   "cell_type": "code",
   "execution_count": null,
   "metadata": {
    "collapsed": true,
    "jupyter": {
     "outputs_hidden": true
    }
   },
   "outputs": [],
   "source": [
    "# xform.append(transforms.CenterCrop(10))"
   ]
  },
  {
   "cell_type": "code",
   "execution_count": null,
   "metadata": {},
   "outputs": [],
   "source": [
    "xform = transforms.Compose([transforms.ToTensor()])\n"
   ]
  },
  {
   "cell_type": "code",
   "execution_count": null,
   "metadata": {},
   "outputs": [],
   "source": [
    "xform2 = transforms.Compose([\n",
    "    xform,\n",
    "    transforms.CenterCrop(10)\n",
    "])"
   ]
  },
  {
   "cell_type": "code",
   "execution_count": null,
   "metadata": {},
   "outputs": [],
   "source": [
    "xform2\n"
   ]
  },
  {
   "cell_type": "code",
   "execution_count": null,
   "metadata": {},
   "outputs": [],
   "source": [
    "datasets = []\n",
    "for i in range(3):\n",
    "    datasets.append(TensorDataset(torch.arange(i*10, (i+1)*10)))\n",
    "\n",
    "dataset = ConcatDataset(datasets)\n",
    "loader = DataLoader(\n",
    "    dataset,\n",
    "    shuffle=False,\n",
    "    num_workers=0,\n",
    "    batch_size=2\n",
    ")\n",
    "\n",
    "for data in loader:\n",
    "    print(data)"
   ]
  },
  {
   "cell_type": "code",
   "execution_count": null,
   "metadata": {},
   "outputs": [],
   "source": []
  }
 ],
 "metadata": {
  "kernelspec": {
   "display_name": "Python 3",
   "language": "python",
   "name": "python3"
  },
  "language_info": {
   "codemirror_mode": {
    "name": "ipython",
    "version": 3
   },
   "file_extension": ".py",
   "mimetype": "text/x-python",
   "name": "python",
   "nbconvert_exporter": "python",
   "pygments_lexer": "ipython3",
   "version": "3.8.6"
  }
 },
 "nbformat": 4,
 "nbformat_minor": 4
}
