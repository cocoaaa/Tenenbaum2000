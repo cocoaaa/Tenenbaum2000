{
 "cells": [
  {
   "cell_type": "markdown",
   "metadata": {},
   "source": [
    "# Compute the ground coverage of a maptile \n",
    "Given a maptile at (lng, lat, zoom) of size (w_pixel x h_pixel), compute the distance\n",
    "on earth's surface covered by a pixel of the maptile.\n",
    "\n",
    "Use this relation:  \n",
    "- metersPerPx = 156543.03392 * Math.cos(latLng.lat() * Math.PI / 180) / Math.pow(2, zoom)\n"
   ]
  },
  {
   "cell_type": "code",
   "execution_count": null,
   "metadata": {},
   "outputs": [],
   "source": [
    "import math\n",
    "import numpy as np\n",
    "\n",
    "def m_per_pixel(lat, zoom, constant=156543.03392):\n",
    "    return constant * np.cos(lat * np.pi / 180.) / 2**zoom"
   ]
  },
  {
   "cell_type": "code",
   "execution_count": null,
   "metadata": {},
   "outputs": [],
   "source": [
    "lat = 34.0522342\n",
    "zoom = 15\n",
    "mpp = m_per_pixel(lat,zoom)\n",
    "coverage = mpp * 256\n",
    "print(coverage / 2, \" meters is the radius of a tile\")\n"
   ]
  },
  {
   "cell_type": "code",
   "execution_count": null,
   "metadata": {},
   "outputs": [],
   "source": []
  }
 ],
 "metadata": {
  "kernelspec": {
   "display_name": "Python [conda env:test]",
   "language": "python",
   "name": "conda-env-test-py"
  },
  "language_info": {
   "codemirror_mode": {
    "name": "ipython",
    "version": 3
   },
   "file_extension": ".py",
   "mimetype": "text/x-python",
   "name": "python",
   "nbconvert_exporter": "python",
   "pygments_lexer": "ipython3",
   "version": "3.8.6"
  }
 },
 "nbformat": 4,
 "nbformat_minor": 4
}
