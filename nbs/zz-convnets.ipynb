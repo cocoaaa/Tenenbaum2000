{
 "cells": [
  {
   "cell_type": "markdown",
   "metadata": {},
   "source": [
    "## Basics of ConvNet\n",
    "- Define a function that builds a `nn.Module` of a single conv block\n",
    "- Defind a model (`nn.Module`) with user-defined number of specified conv layers\n"
   ]
  },
  {
   "cell_type": "markdown",
   "metadata": {},
   "source": [
    "## Load libraries"
   ]
  },
  {
   "cell_type": "code",
   "execution_count": null,
   "metadata": {},
   "outputs": [],
   "source": [
    "%reload_ext autoreload\n",
    "%autoreload 2\n",
    "%matplotlib inline"
   ]
  },
  {
   "cell_type": "code",
   "execution_count": null,
   "metadata": {},
   "outputs": [],
   "source": [
    "import os,sys\n",
    "import re\n",
    "import math\n",
    "from datetime import datetime\n",
    "import time\n",
    "sys.dont_write_bytecode = True"
   ]
  },
  {
   "cell_type": "code",
   "execution_count": null,
   "metadata": {},
   "outputs": [],
   "source": [
    "import pandas as pd\n",
    "\n",
    "import numpy as np\n",
    "import matplotlib.pyplot as plt\n",
    "\n",
    "from pathlib import Path\n",
    "from typing import List, Set, Dict, Tuple, Optional, Iterable, Mapping, Union, Callable, TypeVar\n",
    "\n",
    "from pprint import pprint\n",
    "from ipdb import set_trace as brpt"
   ]
  },
  {
   "cell_type": "code",
   "execution_count": null,
   "metadata": {},
   "outputs": [],
   "source": [
    "import torch \n",
    "import torch.nn as nn\n",
    "import torch.nn.functional as F\n",
    "import torch.optim as optim\n",
    "from  torch.linalg import norm as tnorm\n",
    "from torch.utils.data import Dataset, DataLoader, random_split\n",
    "\n",
    "from torchvision import datasets, transforms\n",
    "\n",
    "import pytorch_lightning as pl\n",
    "from pytorch_lightning.core.lightning import LightningModule\n",
    "from pytorch_lightning import loggers as pl_loggers\n",
    "\n",
    "# Select Visible GPU\n",
    "os.environ[\"CUDA_DEVICE_ORDER\"]=\"PCI_BUS_ID\"   # see issue #152\n",
    "os.environ[\"CUDA_VISIBLE_DEVICES\"]=\"1\""
   ]
  },
  {
   "cell_type": "markdown",
   "metadata": {},
   "source": [
    "## Set Path \n",
    "1. Add project root and src folders to `sys.path`\n",
    "2. Set DATA_ROOT to `maptile_v2` folder"
   ]
  },
  {
   "cell_type": "code",
   "execution_count": null,
   "metadata": {},
   "outputs": [],
   "source": [
    "this_nb_path = Path(os.getcwd())\n",
    "ROOT = this_nb_path.parent\n",
    "SRC = ROOT/'src'\n",
    "DATA_ROOT = Path(\"/data/hayley-old/maptiles_v2/\")\n",
    "paths2add = [this_nb_path, ROOT]\n",
    "\n",
    "print(\"Project root: \", str(ROOT))\n",
    "print('Src folder: ', str(SRC))\n",
    "print(\"This nb path: \", str(this_nb_path))\n",
    "\n",
    "\n",
    "for p in paths2add:\n",
    "    if str(p) not in sys.path:\n",
    "        sys.path.insert(0, str(p))\n",
    "        print(f\"\\n{str(p)} added to the path.\")\n",
    "        \n",
    "print(sys.path)"
   ]
  },
  {
   "cell_type": "code",
   "execution_count": null,
   "metadata": {},
   "outputs": [],
   "source": [
    "from collections import OrderedDict"
   ]
  },
  {
   "cell_type": "code",
   "execution_count": null,
   "metadata": {},
   "outputs": [],
   "source": [
    "def conv_block(\n",
    "    in_channels:int ,\n",
    "    out_channels:int ,\n",
    "    has_bn: bool=True,\n",
    "    act_fn: Callable=None,\n",
    "    **kwargs) -> nn.Sequential:\n",
    "    \"\"\"\n",
    "    Returns a conv block of Conv2d -> (BN2d) -> act_fn\n",
    "    \n",
    "    kwargs: (will be passed to nn.Conv2d)\n",
    "    - kernel_size:int\n",
    "    - stride: int\n",
    "    - padding\n",
    "    - dilation\n",
    "    - groups\n",
    "    - bias\n",
    "    - padding_mode\n",
    "    \"\"\"\n",
    "    # Default conv_kwargs is overwritten by input kwargs\n",
    "    conv_kwargs = {'kernel_size': 3, 'stride': 2, 'padding': 1} \n",
    "    conv_kwargs.update(kwargs)\n",
    "    \n",
    "    if act_fn is None:\n",
    "        act_fn = nn.LeakyReLU()\n",
    "    return nn.Sequential(OrderedDict([\n",
    "        ('conv', nn.Conv2d(in_channels, out_channels, **conv_kwargs)),\n",
    "        ('bn', nn.BatchNorm2d(out_channels) if has_bn else nn.Identity()),\n",
    "        ('act', act_fn)\n",
    "    ]))\n",
    "\n",
    "def conv_blocks( \n",
    "    in_channels:int, \n",
    "    nf_list: List[int], \n",
    "    has_bn=True, \n",
    "    act_fn=None, \n",
    "    **kwargs)-> nn.Sequential:\n",
    "    \"\"\"\n",
    "    Returns a nn.Sequential of conv_blocks, each of which is itself a nn.Sequential\n",
    "    of Conv2d, (BN2d) and activation function (eg. ReLU(), LeakyReLU())\n",
    "    \"\"\"\n",
    "\n",
    "    blocks = []\n",
    "    nf_list.insert(0, in_channels) #in-place\n",
    "    # alternatively,\n",
    "    # nf_list = [in_channels, *nf_list]\n",
    "    for i, (in_c, out_c) in enumerate(zip(nf_list, nf_list[1:])):\n",
    "        name = f'cb{i}'\n",
    "        blocks.append(\n",
    "            (name, conv_block(in_c, out_c, has_bn=has_bn, act_fn=act_fn, **kwargs))\n",
    "        )\n",
    "        \n",
    "    return nn.Sequential(OrderedDict(blocks))\n",
    "                      \n",
    "conv_net = conv_blocks\n",
    "\n",
    "def test_conv_block():            \n",
    "    conv_kwargs = {'kernel_size': 3, 'stride': 2, 'padding': 2}\n",
    "    b1 = conv_block(3, 10, **conv_kwargs)\n",
    "    print(b1)\n",
    "    for name, p in b1.named_parameters():\n",
    "        print(name, p.shape)\n",
    "def test_conv_blocks():\n",
    "    cbs = conv_blocks(3, nf_list=[5,6,7])\n",
    "    for name, p in cbs.named_parameters():\n",
    "        print(name, p.shape)"
   ]
  },
  {
   "cell_type": "code",
   "execution_count": null,
   "metadata": {},
   "outputs": [],
   "source": [
    "test_conv_block();"
   ]
  },
  {
   "cell_type": "code",
   "execution_count": null,
   "metadata": {},
   "outputs": [],
   "source": [
    "test_conv_blocks()"
   ]
  },
  {
   "cell_type": "code",
   "execution_count": null,
   "metadata": {},
   "outputs": [],
   "source": [
    "conv_blocks(3, nf_list=[5,6,7])"
   ]
  }
 ],
 "metadata": {
  "kernelspec": {
   "display_name": "Python [conda env:test]",
   "language": "python",
   "name": "conda-env-test-py"
  },
  "language_info": {
   "codemirror_mode": {
    "name": "ipython",
    "version": 3
   },
   "file_extension": ".py",
   "mimetype": "text/x-python",
   "name": "python",
   "nbconvert_exporter": "python",
   "pygments_lexer": "ipython3",
   "version": "3.8.6"
  }
 },
 "nbformat": 4,
 "nbformat_minor": 4
}
