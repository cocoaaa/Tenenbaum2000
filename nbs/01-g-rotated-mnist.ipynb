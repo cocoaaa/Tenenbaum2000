{
 "cells": [
  {
   "cell_type": "code",
   "execution_count": 1,
   "id": "antique-vermont",
   "metadata": {},
   "outputs": [],
   "source": [
    "%reload_ext autoreload\n",
    "%autoreload 2\n",
    "%matplotlib inline"
   ]
  },
  {
   "cell_type": "code",
   "execution_count": 2,
   "id": "respected-current",
   "metadata": {},
   "outputs": [],
   "source": [
    "import os,sys\n",
    "import re\n",
    "import math\n",
    "from datetime import datetime\n",
    "import time\n",
    "sys.dont_write_bytecode = True"
   ]
  },
  {
   "cell_type": "code",
   "execution_count": 3,
   "id": "specialized-universe",
   "metadata": {},
   "outputs": [],
   "source": [
    "import pandas as pd\n",
    "\n",
    "import numpy as np\n",
    "import joblib\n",
    "import matplotlib.pyplot as plt\n",
    "\n",
    "from pathlib import Path\n",
    "from typing import Any, List, Set, Dict, Tuple, Optional, Iterable, Mapping, Union, Callable, TypeVar\n",
    "\n",
    "from pprint import pprint\n",
    "from ipdb import set_trace as brpt"
   ]
  },
  {
   "cell_type": "code",
   "execution_count": 4,
   "id": "polyphonic-electric",
   "metadata": {},
   "outputs": [],
   "source": [
    "import torch \n",
    "import torch.nn as nn\n",
    "import torch.nn.functional as F\n",
    "import torch.optim as optim\n",
    "from  torch.linalg import norm as tnorm\n",
    "from torch.utils.data import Dataset, DataLoader, random_split\n",
    "\n",
    "from torchvision import datasets, transforms\n",
    "\n",
    "import pytorch_lightning as pl\n",
    "from pytorch_lightning.core.lightning import LightningModule\n",
    "from pytorch_lightning import loggers as pl_loggers\n",
    "from pytorch_lightning.tuner.tuning import Tuner\n",
    "\n",
    "\n",
    "# Select Visible GPU\n",
    "os.environ[\"CUDA_DEVICE_ORDER\"]=\"PCI_BUS_ID\" \n",
    "os.environ[\"CUDA_VISIBLE_DEVICES\"]=\"1\""
   ]
  },
  {
   "cell_type": "markdown",
   "id": "accessory-happiness",
   "metadata": {},
   "source": [
    "## Set Path \n",
    "1. Add project root and src folders to `sys.path`\n",
    "2. Set DATA_ROOT to `maptile_v2` folder"
   ]
  },
  {
   "cell_type": "code",
   "execution_count": 5,
   "id": "solved-treatment",
   "metadata": {},
   "outputs": [
    {
     "name": "stdout",
     "output_type": "stream",
     "text": [
      "Project root:  /data/hayley-old/Tenanbaum2000\n",
      "Src folder:  /data/hayley-old/Tenanbaum2000/src\n",
      "This nb path:  /data/hayley-old/Tenanbaum2000/nbs\n",
      "\n",
      "/data/hayley-old/Tenanbaum2000 added to the path.\n"
     ]
    }
   ],
   "source": [
    "this_nb_path = Path(os.getcwd())\n",
    "ROOT = this_nb_path.parent\n",
    "SRC = ROOT/'src'\n",
    "DATA_ROOT = Path(\"/data/hayley-old/maptiles_v2/\")\n",
    "paths2add = [this_nb_path, ROOT]\n",
    "\n",
    "print(\"Project root: \", str(ROOT))\n",
    "print('Src folder: ', str(SRC))\n",
    "print(\"This nb path: \", str(this_nb_path))\n",
    "\n",
    "\n",
    "for p in paths2add:\n",
    "    if str(p) not in sys.path:\n",
    "        sys.path.insert(0, str(p))\n",
    "        print(f\"\\n{str(p)} added to the path.\")\n",
    "# print(sys.path)"
   ]
  },
  {
   "cell_type": "code",
   "execution_count": 6,
   "id": "sudden-occasions",
   "metadata": {},
   "outputs": [],
   "source": [
    "from src.data.datamodules.maptiles_datamodule import MaptilesDataModule\n",
    "\n",
    "from src.data.transforms.transforms import Identity, Unnormalizer, LinearRescaler, Monochromizer\n",
    "from src.data.transforms.functional import unnormalize, to_monochrome\n",
    "\n",
    "from src.visualize.utils import show_timg, show_timgs, show_batch, make_grid_from_tensors\n",
    "from src.utils.misc import info\n",
    "from collections import OrderedDict, defaultdict\n",
    "from PIL import Image"
   ]
  },
  {
   "cell_type": "markdown",
   "id": "current-architect",
   "metadata": {},
   "source": [
    "# Rotated MNIST dataset\n",
    "Jan 22, 2021\n",
    "\n",
    "Equivalent to MonoMNIST, but with rotation angle as the \"domain\" / style.\n"
   ]
  },
  {
   "cell_type": "code",
   "execution_count": 21,
   "id": "intensive-continuity",
   "metadata": {},
   "outputs": [],
   "source": [
    "class RotatedMNIST(Dataset):\n",
    "    \n",
    "    _fn_formatspec = \"{mode}_mnist_{angle}\"\n",
    "    _keys = ['img', 'digit', 'angle']\n",
    "    \n",
    "    \n",
    "    def __init__(\n",
    "        self,\n",
    "        data_root: Path,\n",
    "        angle: float, #counter-clockwise\n",
    "        transform: Optional[Callable] = None,\n",
    "        digit_label_transform: Optional[Callable] = None, \n",
    "        angle_label_transform: Optional[Callable] = None,\n",
    "        download: bool = True,\n",
    "        train: bool = True\n",
    "    ):\n",
    "        super().__init__()\n",
    "        self.data_root = Path(data_root)\n",
    "        self.angle = angle\n",
    "        \n",
    "        self.transform = transforms.Compose([transforms.ToTensor(),\n",
    "                                             TF.rotate(self.angle)])\n",
    "        # If transform is given, append it to the base transform above\n",
    "        if transform is not None:\n",
    "            self.transform = transforms.Compose([self.transform, transform])\n",
    "        self.digit_label_transform = digit_label_transform #input is int\n",
    "        self.angle_label_transform = angle_label_transform # input is float\n",
    "        \n",
    "        self.download = download\n",
    "        self.train = train\n",
    "        self.mode = 'train' if self.train else 'test'\n",
    "\n",
    "        self.data, self.digit_labels = get_mnist_data(self.train, self.download)\n",
    "        \n",
    "    def __getitem__(self, index: int) -> Dict[str, Union[torch.Tensor, int, float]]:\n",
    "        \"\"\"Returns a sample of type Dict with keys:\n",
    "        sample['img'] : torch.Tensor of a single image\n",
    "        sample['digit'] : int in [0, ..., 9]\n",
    "        sample['angle'] : float \n",
    "            self.angle for any item\n",
    "        \"\"\"\n",
    "        img, digit_label = self.data[index], int(self.digit_labels[index])\n",
    "        angle_label = self.angle\n",
    "        # img is a PIL image of mode L, shape (28,28)\n",
    "        \n",
    "        if self.transform is not None:\n",
    "            img = self.transform(img)\n",
    "        if self.digit_label_transform is not None:\n",
    "            digit_label = self.digit_label_transform(digit_label)\n",
    "        if self.angle_label_transform is not None:\n",
    "            angle_label = self.angle_label_transform(angle_label) # may be used for encoding domain label when used with other angles dataset\n",
    "        \n",
    "        return {\"img\": img,\n",
    "               \"digit\": digit_label,\n",
    "               \"angle\": angle_label}\n",
    "    \n",
    "    \n",
    "    def __len__(self) -> int:\n",
    "        return len(self.data)\n",
    "            \n",
    "    @property\n",
    "    def name(self) -> str:\n",
    "        return self._fn_formatspec.format(mode=self.mode, angle=self.angle)\n",
    "    \n",
    "    "
   ]
  },
  {
   "cell_type": "code",
   "execution_count": 38,
   "id": "spectacular-reminder",
   "metadata": {},
   "outputs": [],
   "source": [
    "from PIL.Image import Image"
   ]
  },
  {
   "cell_type": "code",
   "execution_count": 39,
   "id": "overhead-figure",
   "metadata": {},
   "outputs": [],
   "source": [
    "def get_mnist_data(use_train_dataset: bool=True, \n",
    "                   download=True\n",
    "                  ) -> Tuple[List[Image], List[int]]:\n",
    "    # Get all imgs and digits in MNIST dataset\n",
    "    ds = datasets.MNIST(mnist_data_root, train=use_train_dataset, download=download)\n",
    "\n",
    "    pil_imgs = []\n",
    "    digit_labels = []\n",
    "    for i in range(len(ds)):\n",
    "        x,y = ds[i]\n",
    "        pil_imgs.append(x)\n",
    "        digit_labels.append(y)\n",
    "    return pil_imgs, digit_labels\n",
    "\n",
    "        "
   ]
  },
  {
   "cell_type": "code",
   "execution_count": 47,
   "id": "weird-priority",
   "metadata": {},
   "outputs": [
    {
     "data": {
      "image/png": "[encoded data removed]",
      "text/plain": [
       "<Figure size 432x288 with 1 Axes>"
      ]
     },
     "metadata": {
      "needs_background": "light"
     },
     "output_type": "display_data"
    }
   ],
   "source": [
    "def test_get_mnist_data():\n",
    "    mnist_data_root = Path('/data/hayley-old/Tenanbaum2000/data')\n",
    "    pils, digits = get_mnist_data(True, True)\n",
    "    plt.imshow(pils[0])\n",
    "    plt.title(digits[0])\n",
    "    plt.axis('off')\n",
    "# test_get_mnist_data()\n"
   ]
  },
  {
   "cell_type": "code",
   "execution_count": 40,
   "id": "hidden-circumstances",
   "metadata": {},
   "outputs": [],
   "source": []
  },
  {
   "cell_type": "code",
   "execution_count": 41,
   "id": "powered-heading",
   "metadata": {},
   "outputs": [
    {
     "data": {
      "text/plain": [
       "60000"
      ]
     },
     "execution_count": 41,
     "metadata": {},
     "output_type": "execute_result"
    }
   ],
   "source": [
    "len(pil_imgs)"
   ]
  },
  {
   "cell_type": "code",
   "execution_count": 42,
   "id": "silent-seventh",
   "metadata": {},
   "outputs": [
    {
     "data": {
      "text/plain": [
       "60000"
      ]
     },
     "execution_count": 42,
     "metadata": {},
     "output_type": "execute_result"
    }
   ],
   "source": [
    "len(digit_labels)"
   ]
  },
  {
   "cell_type": "code",
   "execution_count": 43,
   "id": "forced-house",
   "metadata": {},
   "outputs": [
    {
     "data": {
      "text/plain": [
       "5"
      ]
     },
     "execution_count": 43,
     "metadata": {},
     "output_type": "execute_result"
    }
   ],
   "source": [
    "digit_labels[0]"
   ]
  },
  {
   "cell_type": "code",
   "execution_count": 44,
   "id": "further-heath",
   "metadata": {},
   "outputs": [
    {
     "data": {
      "image/png": "[encoded data removed]",
      "text/plain": [
       "<PIL.Image.Image image mode=L size=28x28 at 0x7FB57C18DFD0>"
      ]
     },
     "execution_count": 44,
     "metadata": {},
     "output_type": "execute_result"
    }
   ],
   "source": [
    "pil_imgs[0]"
   ]
  },
  {
   "cell_type": "code",
   "execution_count": null,
   "id": "automatic-visit",
   "metadata": {},
   "outputs": [],
   "source": []
  },
  {
   "cell_type": "code",
   "execution_count": 10,
   "id": "boring-tactics",
   "metadata": {},
   "outputs": [
    {
     "data": {
      "text/plain": [
       "(28, 28)"
      ]
     },
     "execution_count": 10,
     "metadata": {},
     "output_type": "execute_result"
    }
   ],
   "source": [
    "x.width, x.height"
   ]
  },
  {
   "cell_type": "code",
   "execution_count": 11,
   "id": "legislative-issue",
   "metadata": {},
   "outputs": [],
   "source": [
    "import torchvision.transforms.functional as TF\n"
   ]
  },
  {
   "cell_type": "code",
   "execution_count": 14,
   "id": "duplicate-simple",
   "metadata": {},
   "outputs": [
    {
     "name": "stdout",
     "output_type": "stream",
     "text": [
      "==============================\n",
      "shape:  torch.Size([1, 28, 28])\n",
      "dtype:  torch.float32\n",
      "min, max:  0.0 1.0\n"
     ]
    }
   ],
   "source": [
    "t = transforms.ToTensor()(x)\n",
    "info(t)"
   ]
  },
  {
   "cell_type": "code",
   "execution_count": 15,
   "id": "excess-occasion",
   "metadata": {},
   "outputs": [
    {
     "data": {
      "image/png": "[encoded data removed]",
      "text/plain": [
       "<Figure size 432x288 with 1 Axes>"
      ]
     },
     "metadata": {
      "needs_background": "light"
     },
     "output_type": "display_data"
    }
   ],
   "source": [
    "show_timg(t)"
   ]
  },
  {
   "cell_type": "code",
   "execution_count": 22,
   "id": "military-deployment",
   "metadata": {},
   "outputs": [
    {
     "name": "stdout",
     "output_type": "stream",
     "text": [
      "==============================\n",
      "shape:  torch.Size([1, 28, 28])\n",
      "dtype:  torch.float32\n",
      "min, max:  0.0 1.0\n"
     ]
    },
    {
     "data": {
      "image/png": "[encoded data removed]",
      "text/plain": [
       "<Figure size 432x288 with 1 Axes>"
      ]
     },
     "metadata": {
      "needs_background": "light"
     },
     "output_type": "display_data"
    }
   ],
   "source": [
    "t_rotated = TF.rotate(t, -30)\n",
    "show_timg(t_rotated)\n",
    "info(t_rotated)"
   ]
  },
  {
   "cell_type": "markdown",
   "id": "finite-boring",
   "metadata": {},
   "source": [
    "## Test rotated mnist dataset class"
   ]
  },
  {
   "cell_type": "code",
   "execution_count": 57,
   "id": "activated-creator",
   "metadata": {},
   "outputs": [],
   "source": [
    "from src.data.datasets.rotated_mnist import RotatedMNIST"
   ]
  },
  {
   "cell_type": "code",
   "execution_count": 64,
   "id": "atomic-female",
   "metadata": {},
   "outputs": [],
   "source": [
    "ds_30 = RotatedMNIST(mnist_data_root, 30)\n",
    "ds_45 = RotatedMNIST(mnist_data_root, 45)\n",
    "ds_0 = RotatedMNIST(mnist_data_root, 0)\n",
    "ds_n30 = RotatedMNIST(mnist_data_root, -30)\n",
    "ds_n45 = RotatedMNIST(mnist_data_root, -45)"
   ]
  },
  {
   "cell_type": "code",
   "execution_count": 66,
   "id": "textile-catalyst",
   "metadata": {},
   "outputs": [
    {
     "name": "stdout",
     "output_type": "stream",
     "text": [
      "angle:  0\n"
     ]
    },
    {
     "data": {
      "image/png": "[encoded data removed]",
      "text/plain": [
       "<Figure size 432x288 with 1 Axes>"
      ]
     },
     "metadata": {
      "needs_background": "light"
     },
     "output_type": "display_data"
    },
    {
     "data": {
      "image/png": "[encoded data removed]",
      "text/plain": [
       "<Figure size 432x288 with 1 Axes>"
      ]
     },
     "metadata": {
      "needs_background": "light"
     },
     "output_type": "display_data"
    },
    {
     "data": {
      "image/png": "[encoded data removed]",
      "text/plain": [
       "<Figure size 432x288 with 1 Axes>"
      ]
     },
     "metadata": {
      "needs_background": "light"
     },
     "output_type": "display_data"
    },
    {
     "data": {
      "image/png": "[encoded data removed]",
      "text/plain": [
       "<Figure size 432x288 with 1 Axes>"
      ]
     },
     "metadata": {
      "needs_background": "light"
     },
     "output_type": "display_data"
    },
    {
     "data": {
      "image/png": "[encoded data removed]",
      "text/plain": [
       "<Figure size 432x288 with 1 Axes>"
      ]
     },
     "metadata": {
      "needs_background": "light"
     },
     "output_type": "display_data"
    },
    {
     "data": {
      "image/png": "[encoded data removed]",
      "text/plain": [
       "<Figure size 432x288 with 1 Axes>"
      ]
     },
     "metadata": {
      "needs_background": "light"
     },
     "output_type": "display_data"
    },
    {
     "data": {
      "image/png": "[encoded data removed]",
      "text/plain": [
       "<Figure size 432x288 with 1 Axes>"
      ]
     },
     "metadata": {
      "needs_background": "light"
     },
     "output_type": "display_data"
    },
    {
     "data": {
      "image/png": "[encoded data removed]",
      "text/plain": [
       "<Figure size 432x288 with 1 Axes>"
      ]
     },
     "metadata": {
      "needs_background": "light"
     },
     "output_type": "display_data"
    },
    {
     "data": {
      "image/png": "[encoded data removed]",
      "text/plain": [
       "<Figure size 432x288 with 1 Axes>"
      ]
     },
     "metadata": {
      "needs_background": "light"
     },
     "output_type": "display_data"
    },
    {
     "data": {
      "image/png": "[encoded data removed]",
      "text/plain": [
       "<Figure size 432x288 with 1 Axes>"
      ]
     },
     "metadata": {
      "needs_background": "light"
     },
     "output_type": "display_data"
    }
   ],
   "source": [
    "ds = ds_0\n",
    "print(\"angle: \", ds_0.angle)\n",
    "\n",
    "for i in range(10):\n",
    "    ind = np.random.choice(len(ds))\n",
    "    sample = ds[ind]\n",
    "    x, y, d = ds.unpack(sample)\n",
    "    show_timg(x)\n",
    "    plt.title(f\"Digit: {y}, Angle: {d}\")\n"
   ]
  },
  {
   "cell_type": "code",
   "execution_count": null,
   "id": "selective-concern",
   "metadata": {},
   "outputs": [],
   "source": []
  },
  {
   "cell_type": "code",
   "execution_count": null,
   "id": "civilian-visit",
   "metadata": {},
   "outputs": [],
   "source": []
  },
  {
   "cell_type": "code",
   "execution_count": null,
   "id": "romantic-shell",
   "metadata": {},
   "outputs": [],
   "source": []
  },
  {
   "cell_type": "code",
   "execution_count": null,
   "id": "endangered-jacket",
   "metadata": {},
   "outputs": [],
   "source": []
  },
  {
   "cell_type": "code",
   "execution_count": null,
   "id": "aging-concept",
   "metadata": {},
   "outputs": [],
   "source": []
  },
  {
   "cell_type": "code",
   "execution_count": null,
   "id": "subject-stack",
   "metadata": {},
   "outputs": [],
   "source": [
    "angles = [45, 30, 0, -30, -45]\n",
    "dsets = {}\n",
    "for angle in angles:\n",
    "    dsets[str(angle)] = RotatedMNIST(mnist_data_root, angle)\n",
    "    "
   ]
  },
  {
   "cell_type": "code",
   "execution_count": 68,
   "id": "composite-fraud",
   "metadata": {},
   "outputs": [
    {
     "name": "stdout",
     "output_type": "stream",
     "text": [
      "angle:  45 45\n",
      "angle:  30 30\n",
      "angle:  0 0\n",
      "angle:  -30 -30\n",
      "angle:  -45 -45\n"
     ]
    },
    {
     "data": {
      "image/png": "[encoded data removed]",
      "text/plain": [
       "<Figure size 432x288 with 1 Axes>"
      ]
     },
     "metadata": {
      "needs_background": "light"
     },
     "output_type": "display_data"
    },
    {
     "data": {
      "image/png": "[encoded data removed]",
      "text/plain": [
       "<Figure size 432x288 with 1 Axes>"
      ]
     },
     "metadata": {
      "needs_background": "light"
     },
     "output_type": "display_data"
    },
    {
     "data": {
      "image/png": "[encoded data removed]",
      "text/plain": [
       "<Figure size 432x288 with 1 Axes>"
      ]
     },
     "metadata": {
      "needs_background": "light"
     },
     "output_type": "display_data"
    },
    {
     "data": {
      "image/png": "[encoded data removed]",
      "text/plain": [
       "<Figure size 432x288 with 1 Axes>"
      ]
     },
     "metadata": {
      "needs_background": "light"
     },
     "output_type": "display_data"
    },
    {
     "data": {
      "image/png": "[encoded data removed]",
      "text/plain": [
       "<Figure size 432x288 with 1 Axes>"
      ]
     },
     "metadata": {
      "needs_background": "light"
     },
     "output_type": "display_data"
    }
   ],
   "source": [
    "for angle_str, dset in dsets.items():\n",
    "    print(\"angle: \", angle_str, dset.angle)\n",
    "    ind = np.random.choice(len(dset))\n",
    "    sample = dset[ind]\n",
    "    x, y, d = dset.unpack(sample)\n",
    "    show_timg(x)\n",
    "    plt.title(f\"Digit: {y}, Angle: {d}\")\n",
    "    "
   ]
  },
  {
   "cell_type": "code",
   "execution_count": null,
   "id": "accessible-prefix",
   "metadata": {},
   "outputs": [],
   "source": []
  }
 ],
 "metadata": {
  "kernelspec": {
   "display_name": "Python [conda env:test]",
   "language": "python",
   "name": "conda-env-test-py"
  },
  "language_info": {
   "codemirror_mode": {
    "name": "ipython",
    "version": 3
   },
   "file_extension": ".py",
   "mimetype": "text/x-python",
   "name": "python",
   "nbconvert_exporter": "python",
   "pygments_lexer": "ipython3",
   "version": "3.8.6"
  }
 },
 "nbformat": 4,
 "nbformat_minor": 5
}
