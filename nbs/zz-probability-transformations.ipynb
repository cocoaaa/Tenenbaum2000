{
 "cells": [
  {
   "cell_type": "markdown",
   "metadata": {},
   "source": [
    "## Load libraries"
   ]
  },
  {
   "cell_type": "code",
   "execution_count": null,
   "metadata": {},
   "outputs": [],
   "source": [
    "%reload_ext autoreload\n",
    "%autoreload 2\n",
    "%matplotlib inline"
   ]
  },
  {
   "cell_type": "code",
   "execution_count": null,
   "metadata": {},
   "outputs": [],
   "source": [
    "import os,sys\n",
    "import re\n",
    "import math\n",
    "from datetime import datetime\n",
    "import time\n",
    "sys.dont_write_bytecode = True"
   ]
  },
  {
   "cell_type": "code",
   "execution_count": null,
   "metadata": {},
   "outputs": [],
   "source": [
    "import pandas as pd\n",
    "\n",
    "import numpy as np\n",
    "import matplotlib.pyplot as plt\n",
    "\n",
    "from pathlib import Path\n",
    "from typing import List, Set, Dict, Tuple, Optional, Iterable, Mapping, Union, Callable, TypeVar\n",
    "\n",
    "from pprint import pprint\n",
    "from ipdb import set_trace as brpt"
   ]
  },
  {
   "cell_type": "code",
   "execution_count": null,
   "metadata": {},
   "outputs": [],
   "source": [
    "import torch \n",
    "import torch.nn as nn\n",
    "import torch.nn.functional as F\n",
    "import torch.optim as optim\n",
    "from  torch.linalg import norm as tnorm\n",
    "from torch.utils.data import Dataset, DataLoader, random_split\n",
    "\n",
    "from torchvision import datasets, transforms\n",
    "\n",
    "import pytorch_lightning as pl\n",
    "from pytorch_lightning.core.lightning import LightningModule\n",
    "from pytorch_lightning import loggers as pl_loggers\n",
    "from pytorch_lightning.tuner.tuning import Tuner\n",
    "\n",
    "\n",
    "# Select Visible GPU\n",
    "os.environ[\"CUDA_DEVICE_ORDER\"]=\"PCI_BUS_ID\"   # see issue #152\n",
    "os.environ[\"CUDA_VISIBLE_DEVICES\"]=\"1\""
   ]
  },
  {
   "cell_type": "markdown",
   "metadata": {},
   "source": [
    "## Set Path \n",
    "1. Add project root and src folders to `sys.path`\n",
    "2. Set DATA_ROOT to `maptile_v2` folder"
   ]
  },
  {
   "cell_type": "code",
   "execution_count": null,
   "metadata": {},
   "outputs": [],
   "source": [
    "this_nb_path = Path(os.getcwd())\n",
    "ROOT = this_nb_path.parent\n",
    "SRC = ROOT/'src'\n",
    "DATA_ROOT = Path(\"/data/hayley-old/maptiles_v2/\")\n",
    "paths2add = [this_nb_path, ROOT]\n",
    "\n",
    "print(\"Project root: \", str(ROOT))\n",
    "print('Src folder: ', str(SRC))\n",
    "print(\"This nb path: \", str(this_nb_path))\n",
    "\n",
    "\n",
    "for p in paths2add:\n",
    "    if str(p) not in sys.path:\n",
    "        sys.path.insert(0, str(p))\n",
    "        print(f\"\\n{str(p)} added to the path.\")\n",
    "        \n",
    "print(sys.path)"
   ]
  },
  {
   "cell_type": "markdown",
   "metadata": {},
   "source": [
    "## Probability Transformations\n"
   ]
  },
  {
   "attachments": {
    "04089957-1c2c-4334-bbf4-30d7e3ebab0d.png": {
     "image/png": "[encoded data removed]"
    }
   },
   "cell_type": "markdown",
   "metadata": {},
   "source": [
    "Let $X$ be a random variable whose pdf is a normal distribution with $\\mu$ and $\\sigma^2$. \n",
    "$Y$ is a transformed random variable s.t. $Y = g(X)$ where $g(x) = - \\ln(x)$. What is the pdf of $Y$?\n",
    "<!--\n",
    "$f_{X}(x) = \\frac{1}{\\sqrt{2\\pi\\sigma^2}} \\text{exp}( -\\frac{1}{2} (\\frac{x-\\mu}{\\sigma})^2)$\n",
    "\n",
    "$$\n",
    "\\begin{equation} \\label{eqn:fy}\n",
    "\\begin{split}\n",
    "    f_{Y}(y) &= f_{X}(g^{-1}(y)) \\Vert \\dv{g^{-1}(y)}{y} \\Vert \\\\\n",
    "             &= \\frac{e^{-y}}{\\sqrt{2\\pi\\sigma^2}} \\exp{ -\\frac{1}{2} (\\frac{e^{-y} -\\mu}{\\sigma})^2}\n",
    "\\end{split}\n",
    "\\end{equation}\n",
    "$$\n",
    "-->\n",
    "\n",
    "\n",
    "![image.png](attachment:04089957-1c2c-4334-bbf4-30d7e3ebab0d.png)\n"
   ]
  },
  {
   "cell_type": "code",
   "execution_count": null,
   "metadata": {},
   "outputs": [],
   "source": [
    "class PDFx:\n",
    "    \n",
    "    def __init__(self,mu:float, std:float):\n",
    "        self.mu = mu\n",
    "        self.std = std\n",
    "        \n",
    "    def __call__(self,x: Union[np.ndarray, list, float, int]):\n",
    "        x = np.array(x)\n",
    "        denom = np.sqrt(2*np.pi*self.std**2)\n",
    "        quad = -.5*((x-self.mu)/self.std)**2\n",
    "        return np.exp(quad)/denom\n",
    "    \n",
    "    def compute_fy(self,y: Union[np.ndarray, list, float, int]):\n",
    "        return np.exp(-y) * self( np.exp(-y))\n",
    "    \n",
    "    "
   ]
  },
  {
   "cell_type": "code",
   "execution_count": null,
   "metadata": {},
   "outputs": [],
   "source": [
    "mu, std = 0,1\n",
    "fx = PDFx(mu, std)\n",
    "\n",
    "xmin, xmax = -10,10\n",
    "n_samples = 300\n",
    "x = np.linspace(xmin,xmax,n_samples)\n",
    "px = fx(x)\n",
    "py = fx.compute_fy(x)\n",
    "plt.plot(x, px, label='$f_{X}$')\n",
    "plt.plot(x, py, label='$f_{Y}$')\n"
   ]
  },
  {
   "cell_type": "code",
   "execution_count": null,
   "metadata": {},
   "outputs": [],
   "source": []
  }
 ],
 "metadata": {
  "kernelspec": {
   "display_name": "Python [conda env:test]",
   "language": "python",
   "name": "conda-env-test-py"
  },
  "language_info": {
   "codemirror_mode": {
    "name": "ipython",
    "version": 3
   },
   "file_extension": ".py",
   "mimetype": "text/x-python",
   "name": "python",
   "nbconvert_exporter": "python",
   "pygments_lexer": "ipython3",
   "version": "3.8.6"
  }
 },
 "nbformat": 4,
 "nbformat_minor": 4
}
