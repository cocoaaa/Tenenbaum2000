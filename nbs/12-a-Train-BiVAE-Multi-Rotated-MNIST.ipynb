{
 "cells": [
  {
   "cell_type": "markdown",
   "metadata": {},
   "source": [
    "# Train the BiVAE on 3 Rotated MNIST dataset\n",
    "- with style accuracy metric\n",
    "- Jan 22, 2021"
   ]
  },
  {
   "cell_type": "markdown",
   "metadata": {},
   "source": [
    "## Load libraries"
   ]
  },
  {
   "cell_type": "code",
   "execution_count": 1,
   "metadata": {},
   "outputs": [],
   "source": [
    "%reload_ext autoreload\n",
    "%autoreload 2\n",
    "%matplotlib inline"
   ]
  },
  {
   "cell_type": "code",
   "execution_count": 2,
   "metadata": {},
   "outputs": [],
   "source": [
    "import os,sys\n",
    "import re\n",
    "import math\n",
    "from datetime import datetime\n",
    "import time\n",
    "sys.dont_write_bytecode = True"
   ]
  },
  {
   "cell_type": "code",
   "execution_count": 3,
   "metadata": {},
   "outputs": [],
   "source": [
    "import pandas as pd\n",
    "import joblib\n",
    "import numpy as np\n",
    "import matplotlib.pyplot as plt\n",
    "\n",
    "from pathlib import Path\n",
    "from typing import List, Set, Dict, Tuple, Optional, Iterable, Mapping, Union, Callable, TypeVar\n",
    "\n",
    "from pprint import pprint\n",
    "from ipdb import set_trace as brpt"
   ]
  },
  {
   "cell_type": "code",
   "execution_count": 4,
   "metadata": {},
   "outputs": [],
   "source": [
    "import torch \n",
    "import torch.nn as nn\n",
    "import torch.nn.functional as F\n",
    "import torch.optim as optim\n",
    "from  torch.linalg import norm as tnorm\n",
    "from torch.utils.data import Dataset, DataLoader, random_split\n",
    "import torchvision\n",
    "from torchvision import datasets, transforms\n",
    "\n",
    "import pytorch_lightning as pl\n",
    "from pytorch_lightning.core.lightning import LightningModule\n",
    "from pytorch_lightning import loggers as pl_loggers\n",
    "from pytorch_lightning.tuner.tuning import Tuner\n",
    "from pytorch_lightning.callbacks import Callback\n",
    "\n",
    "\n",
    "\n",
    "# Select Visible GPU\n",
    "os.environ[\"CUDA_DEVICE_ORDER\"]=\"PCI_BUS_ID\" \n",
    "os.environ[\"CUDA_VISIBLE_DEVICES\"]=\"2\""
   ]
  },
  {
   "cell_type": "markdown",
   "metadata": {},
   "source": [
    "## Set Path \n",
    "1. Add project root and src folders to `sys.path`\n",
    "2. Set DATA_ROOT to `maptile_v2` folder"
   ]
  },
  {
   "cell_type": "code",
   "execution_count": 5,
   "metadata": {},
   "outputs": [
    {
     "name": "stdout",
     "output_type": "stream",
     "text": [
      "Project root:  /data/hayley-old/Tenanbaum2000\n",
      "Src folder:  /data/hayley-old/Tenanbaum2000/src\n",
      "This nb path:  /data/hayley-old/Tenanbaum2000/nbs\n",
      "\n",
      "/data/hayley-old/Tenanbaum2000 added to the path.\n"
     ]
    }
   ],
   "source": [
    "this_nb_path = Path(os.getcwd())\n",
    "ROOT = this_nb_path.parent\n",
    "SRC = ROOT/'src'\n",
    "DATA_ROOT = Path(\"/data/hayley-old/maptiles_v2/\")\n",
    "paths2add = [this_nb_path, ROOT]\n",
    "\n",
    "print(\"Project root: \", str(ROOT))\n",
    "print('Src folder: ', str(SRC))\n",
    "print(\"This nb path: \", str(this_nb_path))\n",
    "\n",
    "\n",
    "for p in paths2add:\n",
    "    if str(p) not in sys.path:\n",
    "        sys.path.insert(0, str(p))\n",
    "        print(f\"\\n{str(p)} added to the path.\")\n",
    "        \n",
    "# print(sys.path)"
   ]
  },
  {
   "cell_type": "code",
   "execution_count": 6,
   "metadata": {},
   "outputs": [],
   "source": [
    "from src.data.transforms.transforms import Identity, Unnormalizer, LinearRescaler\n",
    "from src.data.transforms.functional import unnormalize\n",
    "\n",
    "from src.visualize.utils import show_timg, show_timgs, show_batch, make_grid_from_tensors\n",
    "from src.utils.misc import info, get_next_version_path, n_iter_per_epoch\n",
    "from src.utils.scheduler import frange_cycle_linear\n",
    "from collections import OrderedDict\n"
   ]
  },
  {
   "cell_type": "markdown",
   "metadata": {},
   "source": [
    "## Start experiment \n",
    "Given a maptile, predict its style as one of OSM, CartoVoyager"
   ]
  },
  {
   "cell_type": "code",
   "execution_count": 7,
   "metadata": {},
   "outputs": [],
   "source": [
    "# # For reproducibility, set seed like following:\n",
    "# seed = 100\n",
    "# pl.seed_everything(seed)\n",
    "# # sets seeds for numpy, torch, python.random and PYTHONHASHSEED.\n",
    "# model = Model()\n",
    "# trainer = pl.Trainer(deterministic=True)"
   ]
  },
  {
   "cell_type": "markdown",
   "metadata": {},
   "source": [
    "## Adversarial model\n",
    "\n",
    "TODO:\n",
    "\n",
    "---\n",
    "### For batch in dataloader:\n",
    "- x: (BS, C, h, w): a mini-batch of (c,h,w) tensor\n",
    "\n",
    "### mu, log_var = model.encoder(x) \n",
    "- mu: (BS, latent_dim)\n",
    "- log_var: (BS, latent_dim)\n",
    "\n",
    "### z = model.rsample(mu, log_var, self.n_samples) \n",
    "- z: (BS, n_samples, latent_dim)\n",
    "-`z[n]` constains `n_samples` number of latent codes, sampled from the same distribution `N(mu[n], logvar[n])`\n",
    " \n",
    "### recon = model.decoder(z) \n",
    "- recon: (BS, n_samples, c, h, w)\n",
    "- `recon[n]` contains `n_samples` number of (c,h,w)-sized $mu_{x}$, corresponding to the center of the factorized Gaussian for the latent code $z^{(n,l)}$ ($l$th z_sample from $N(\\mu[n], logvar[n])$, ie. $\\mu_{x}^{(n,l)}$\n",
    "\n",
    "### out = model.forward(x)\n",
    "- out (dict): keys are \"mu\", \"logvar\", \"recon\"\n",
    "\n",
    "### loss_dict = loss_function(out, x, self.n_samples)\n",
    "- loss_dict (dict): keys are \"loss\", \"kl\", \"recon_loss\"\n",
    "- kl is computed the same way as in the Vanillia_VAE model's `loss_function`\n",
    "- recon_loss is a generalized version with `self.n_samples` (>=1) number of samples to estimated each datapoint's MSE_loss as the average over the loss's from the `n_samples` number of $z_{n,l}$ samples.\n"
   ]
  },
  {
   "cell_type": "code",
   "execution_count": 8,
   "metadata": {},
   "outputs": [],
   "source": [
    "# from src.data.datamodules import MNISTDataModule, MNISTMDataModule, MonoMNISTDataModule\n",
    "# from src.data.datamodules import MultiMonoMNISTDataModule\n",
    "from src.data.datamodules.multisource_rotated_mnist_datamodule import MultiRotatedMNISTDataModule\n",
    "from src.models.plmodules.bilatent_vae import BiVAE"
   ]
  },
  {
   "cell_type": "markdown",
   "metadata": {},
   "source": [
    "## DataModule configs\n"
   ]
  },
  {
   "cell_type": "code",
   "execution_count": 9,
   "metadata": {},
   "outputs": [],
   "source": [
    "# Init MNIST-M DataModule\n",
    "# data_root = ROOT/'data'\n",
    "# in_shape = (3,32,32)\n",
    "# batch_size = 32\n",
    "# dm = MNISTMDataModule(\n",
    "#     data_root=data_root, \n",
    "#     in_shape=in_shape,\n",
    "#     batch_size=batch_size)\n",
    "# dm.setup('fit')\n",
    "# # show_batch(dm, cmap='gray')"
   ]
  },
  {
   "cell_type": "code",
   "execution_count": 10,
   "metadata": {},
   "outputs": [],
   "source": [
    "# # Init Monochrome datamodule\n",
    "# color='green'\n",
    "# n_styles = 1\n",
    "# colorstr_transform = transforms.Lambda(lambda color_name: 0)\n",
    "# dm = MonoMNISTDataModule(\n",
    "#     data_root=Path('/data/hayley-old/Tenanbaum2000/data/Mono-MNIST/'),\n",
    "#     color=color,\n",
    "#     seed=123,\n",
    "#     colorstr_transform=colorstr_transform,\n",
    "#     in_shape=in_shape,\n",
    "#     batch_size=batch_size\n",
    "# )\n",
    "# dm.setup('fit')\n",
    "\n",
    "# # Show a batch\n",
    "# dl = dm.train_dataloader()\n",
    "# sample = next(iter(dl))\n",
    "# x = sample['img']\n",
    "# c_label = sample['digit']\n",
    "# s_label = sample['color']\n",
    "# show_timgs(x)\n",
    "# print(\"Content labels: \", c_label) #digit-id\n",
    "# print(\"Style labels: \", s_label) #color\n",
    "# print(\"===\")\n"
   ]
  },
  {
   "cell_type": "code",
   "execution_count": 11,
   "metadata": {},
   "outputs": [],
   "source": [
    "# # Init Multisource-Monochrome MNIST datamodule\n",
    "# mono_dir = ROOT/'data/Mono-MNIST'\n",
    "# colors = ['red', 'green', 'blue']\n",
    "# seed = 123\n",
    "# in_shape = (3,32,32)\n",
    "# batch_size = 128\n",
    "\n",
    "# # Create a multi-source dataset\n",
    "# dm = MultiMonoMNISTDataModule(\n",
    "#     data_root=mono_dir,\n",
    "#     colors=colors,\n",
    "#     seed=seed,\n",
    "#     in_shape=in_shape,\n",
    "#     batch_size=batch_size,\n",
    "#     shuffle=True,\n",
    "# )\n",
    "# dm.setup('fit')\n",
    "\n",
    "# # Show a batch\n",
    "# # dl = dm.train_dataloader()\n",
    "# # sample = next(iter(dl))\n",
    "# # x = sample['img']\n",
    "# # c_label = sample['digit']\n",
    "# # s_label = sample['color']\n",
    "# # show_timgs(x)\n",
    "# # print(\"Content labels: \", c_label) #digit-id\n",
    "# # print(\"Style labels: \", s_label) #color\n",
    "# # print(\"===\")\n"
   ]
  },
  {
   "cell_type": "code",
   "execution_count": 12,
   "metadata": {},
   "outputs": [
    {
     "name": "stdout",
     "output_type": "stream",
     "text": [
      "angle:  -45  , type:  <class 'int'>\n",
      "angle:  0  , type:  <class 'int'>\n",
      "angle:  45  , type:  <class 'int'>\n",
      "Rotated-MNIST--45-0-45_seed-123\n",
      "tensor([6, 4, 6, 4, 9, 7, 5, 1, 9, 5, 3, 5, 4, 7, 3, 8, 4, 8, 9, 4, 1, 4, 1, 2,\n",
      "        2, 8, 4, 3, 9, 3, 0, 5])\n",
      "tensor([0, 0, 0, 0, 2, 1, 0, 2, 2, 0, 1, 0, 2, 2, 0, 1, 1, 0, 1, 2, 0, 0, 2, 1,\n",
      "        1, 0, 1, 0, 2, 2, 0, 2])\n",
      "===\n"
     ]
    },
    {
     "data": {
      "image/png": "[encoded data removed]",
      "text/plain": [
       "<Figure size 1296x1296 with 32 Axes>"
      ]
     },
     "metadata": {
      "needs_background": "light"
     },
     "output_type": "display_data"
    }
   ],
   "source": [
    "# Init Multisource-Rotated MNIST datamodule\n",
    "# Dataset settings\n",
    "data_dir = Path(\"/data/hayley-old/Tenanbaum2000/data/\")\n",
    "angles = [45, 0, -45] # [-45, 0, 45] # [-60, -15, 15, 60]\n",
    "seed = 123\n",
    "in_shape = (1, 32, 32)\n",
    "batch_size = 32\n",
    "\n",
    "# Create a multisource rotated-mnist datamodule\n",
    "dm = MultiRotatedMNISTDataModule(\n",
    "    data_root=data_dir,\n",
    "    angles=angles,\n",
    "    in_shape=in_shape,\n",
    "    batch_size=batch_size,\n",
    "    shuffle=True,\n",
    "    split_seed=seed,\n",
    ")\n",
    "dm.setup('fit')\n",
    "\n",
    "# Show a batch\n",
    "print(dm.name)\n",
    "dl = dm.train_dataloader()\n",
    "batch = next(iter(dl))\n",
    "x, label_c, label_s = dm.unpack(batch)\n",
    "show_timgs(x, cmap='gray')\n",
    "print(label_c)\n",
    "print(label_s)\n",
    "print(\"===\")"
   ]
  },
  {
   "cell_type": "code",
   "execution_count": 13,
   "metadata": {},
   "outputs": [],
   "source": [
    "# Init plModule\n",
    "latent_dim = 10\n",
    "hidden_dims = [32,64,128,256]#,512]\n",
    "lr = 1e-4\n",
    "act_fn = nn.ReLU()\n",
    "# Specific for BiVAE\n",
    "adversary_dims = [32,32,32] \n",
    "is_contrasive = True # If true, use adv. loss from both content and style codes. Else just style codes\n",
    "kld_weight = 1.0 # vae_loss = recon_loss + kld_weight * kld_weight\n",
    "adv_loss_weight = 15. # loss = vae_loss + adv_loss_weight * adv_loss\n",
    "\n",
    "model = BiVAE(\n",
    "    in_shape=dm.size(), \n",
    "    n_styles=dm.n_styles,\n",
    "    latent_dim=latent_dim,\n",
    "    hidden_dims=hidden_dims,\n",
    "    adversary_dims=adversary_dims,\n",
    "    learning_rate=lr, \n",
    "    act_fn=act_fn,\n",
    "    size_average=False,\n",
    "    is_contrasive=is_contrasive,\n",
    "    kld_weight=kld_weight,\n",
    "    adv_loss_weight=adv_loss_weight,\n",
    ")\n",
    "\n",
    "# model\n",
    "    "
   ]
  },
  {
   "cell_type": "code",
   "execution_count": null,
   "metadata": {},
   "outputs": [
    {
     "name": "stderr",
     "output_type": "stream",
     "text": [
      "GPU available: True, used: True\n",
      "TPU available: None, using: 0 TPU cores\n",
      "LOCAL_RANK: 0 - CUDA_VISIBLE_DEVICES: [2]\n",
      "/home/hayley/miniconda3/envs/test/lib/python3.8/site-packages/pytorch_lightning/utilities/distributed.py:49: RuntimeWarning: Found unsupported keys in the lr scheduler dict: ['name']\n",
      "  warnings.warn(*args, **kwargs)\n",
      "\n",
      "  | Name               | Type       | Params\n",
      "--------------------------------------------------\n",
      "0 | act_fn             | ReLU       | 0     \n",
      "1 | encoder            | Sequential | 388 K \n",
      "2 | fc_flatten2qparams | Linear     | 20.5 K\n",
      "3 | fc_latent2decoder  | Linear     | 11.3 K\n",
      "4 | decoder            | Sequential | 387 K \n",
      "5 | final_layer        | Sequential | 301   \n",
      "6 | adversary          | Sequential | 2.4 K \n",
      "7 | train_style_acc    | Accuracy   | 0     \n",
      "8 | val_style_acc      | Accuracy   | 0     \n",
      "9 | test_style_acc     | Accuracy   | 0     \n",
      "--------------------------------------------------\n",
      "811 K     Trainable params\n",
      "0         Non-trainable params\n",
      "811 K     Total params\n"
     ]
    },
    {
     "name": "stdout",
     "output_type": "stream",
     "text": [
      "Log dir:  /data/hayley-old/Tenanbaum2000/temp-logs/BiVAE-C_Rotated-MNIST--45-0-45_seed-123/version_1\n",
      "Created:  /data/hayley-old/Tenanbaum2000/temp-logs/BiVAE-C_Rotated-MNIST--45-0-45_seed-123/version_1\n",
      "Ep: 0, batch: 0\n",
      "Ep: 0, batch: 0\n"
     ]
    },
    {
     "name": "stderr",
     "output_type": "stream",
     "text": [
      "/home/hayley/miniconda3/envs/test/lib/python3.8/site-packages/torch/nn/_reduction.py:44: UserWarning: size_average and reduce args will be deprecated, please use reduction='sum' instead.\n",
      "  warnings.warn(warning.format(ret))\n"
     ]
    },
    {
     "name": "stdout",
     "output_type": "stream",
     "text": [
      "Ep: 0, batch: 0\n",
      "Ep: 0, batch: 300\n",
      "Ep: 0, batch: 600\n",
      "Ep: 0, batch: 900\n",
      "Ep: 0, batch: 1200\n",
      "Ep: 0, batch: 1500\n",
      "Ep: 0, batch: 1800\n",
      "Ep: 0, batch: 2100\n",
      "Ep: 0, batch: 2400\n",
      "Ep: 0, batch: 2700\n",
      "Ep: 0, batch: 3000\n",
      "Ep: 0, batch: 3300\n",
      "Ep: 0, batch: 3600\n",
      "Ep: 0, batch: 3900\n",
      "Ep: 10, batch: 0\n",
      "Ep: 10, batch: 300\n",
      "Ep: 10, batch: 600\n",
      "Ep: 10, batch: 900\n",
      "Ep: 10, batch: 1200\n",
      "Ep: 10, batch: 1500\n",
      "Ep: 10, batch: 1800\n",
      "Ep: 10, batch: 2100\n",
      "Ep: 10, batch: 2400\n",
      "Ep: 10, batch: 2700\n",
      "Ep: 10, batch: 3000\n",
      "Ep: 10, batch: 3300\n",
      "Ep: 10, batch: 3600\n",
      "Ep: 10, batch: 3900\n",
      "Ep: 20, batch: 0\n",
      "Ep: 20, batch: 300\n",
      "Ep: 20, batch: 600\n",
      "Ep: 20, batch: 900\n",
      "Ep: 20, batch: 1200\n",
      "Ep: 20, batch: 1500\n",
      "Ep: 20, batch: 1800\n",
      "Ep: 20, batch: 2100\n",
      "Ep: 20, batch: 2400\n",
      "Ep: 20, batch: 2700\n",
      "Ep: 20, batch: 3000\n",
      "Ep: 20, batch: 3300\n",
      "Ep: 20, batch: 3600\n",
      "Ep: 20, batch: 3900\n",
      "Ep: 30, batch: 0\n",
      "Ep: 30, batch: 300\n",
      "Ep: 30, batch: 600\n",
      "Ep: 30, batch: 900\n",
      "Ep: 30, batch: 1200\n",
      "Ep: 30, batch: 1500\n",
      "Ep: 30, batch: 1800\n",
      "Ep: 30, batch: 2100\n",
      "Ep: 30, batch: 2400\n",
      "Ep: 30, batch: 2700\n",
      "Ep: 30, batch: 3000\n",
      "Ep: 30, batch: 3300\n",
      "Ep: 30, batch: 3600\n",
      "Ep: 30, batch: 3900\n",
      "Ep: 40, batch: 0\n",
      "Ep: 40, batch: 300\n",
      "Ep: 40, batch: 600\n",
      "Ep: 40, batch: 900\n",
      "Ep: 40, batch: 1200\n",
      "Ep: 40, batch: 1500\n",
      "Ep: 40, batch: 1800\n",
      "Ep: 40, batch: 2100\n",
      "Ep: 40, batch: 2400\n",
      "Ep: 40, batch: 2700\n",
      "Ep: 40, batch: 3000\n",
      "Ep: 40, batch: 3300\n",
      "Ep: 40, batch: 3600\n",
      "Ep: 40, batch: 3900\n",
      "Epoch    41: reducing learning rate of group 0 to 1.0000e-05.\n",
      "Ep: 50, batch: 0\n",
      "Ep: 50, batch: 300\n",
      "Ep: 50, batch: 600\n",
      "Ep: 50, batch: 900\n",
      "Ep: 50, batch: 1200\n",
      "Ep: 50, batch: 1500\n",
      "Ep: 50, batch: 1800\n",
      "Ep: 50, batch: 2100\n",
      "Ep: 50, batch: 2400\n",
      "Ep: 50, batch: 2700\n",
      "Ep: 50, batch: 3000\n",
      "Ep: 50, batch: 3300\n",
      "Ep: 50, batch: 3600\n",
      "Ep: 50, batch: 3900\n",
      "Ep: 60, batch: 0\n",
      "Ep: 60, batch: 300\n",
      "Ep: 60, batch: 600\n",
      "Ep: 60, batch: 900\n",
      "Ep: 60, batch: 1200\n",
      "Ep: 60, batch: 1500\n",
      "Ep: 60, batch: 1800\n",
      "Ep: 60, batch: 2100\n",
      "Ep: 60, batch: 2400\n",
      "Ep: 60, batch: 2700\n",
      "Ep: 60, batch: 3000\n",
      "Ep: 60, batch: 3300\n",
      "Ep: 60, batch: 3600\n",
      "Ep: 60, batch: 3900\n",
      "Ep: 70, batch: 0\n",
      "Ep: 70, batch: 300\n",
      "Ep: 70, batch: 600\n",
      "Ep: 70, batch: 900\n",
      "Ep: 70, batch: 1200\n",
      "Ep: 70, batch: 1500\n",
      "Ep: 70, batch: 1800\n",
      "Ep: 70, batch: 2100\n",
      "Ep: 70, batch: 2400\n",
      "Ep: 70, batch: 2700\n",
      "Ep: 70, batch: 3000\n",
      "Ep: 70, batch: 3300\n",
      "Ep: 70, batch: 3600\n",
      "Ep: 70, batch: 3900\n",
      "Epoch    71: reducing learning rate of group 0 to 1.0000e-06.\n",
      "Ep: 80, batch: 0\n",
      "Ep: 80, batch: 300\n",
      "Ep: 80, batch: 600\n",
      "Ep: 80, batch: 900\n",
      "Ep: 80, batch: 1200\n",
      "Ep: 80, batch: 1500\n",
      "Ep: 80, batch: 1800\n",
      "Ep: 80, batch: 2100\n",
      "Ep: 80, batch: 2400\n",
      "Ep: 80, batch: 2700\n",
      "Ep: 80, batch: 3000\n",
      "Ep: 80, batch: 3300\n",
      "Ep: 80, batch: 3600\n",
      "Ep: 80, batch: 3900\n"
     ]
    }
   ],
   "source": [
    "# Model wrapper from graph viz\n",
    "from src.models.model_wrapper import ModelWrapper\n",
    "# Add Callbacks\n",
    "from pytorch_lightning.callbacks.early_stopping import EarlyStopping\n",
    "from src.callbacks.hist_logger import HistogramLogger\n",
    "from src.callbacks.recon_logger import ReconLogger\n",
    "from src.callbacks.beta_scheduler import BetaScheduler\n",
    "\n",
    "# n_epoch\n",
    "max_epochs = 400\n",
    "max_iters = n_iter_per_epoch(dm.train_dataloader()) * max_epochs\n",
    "callbacks = [\n",
    "    BetaScheduler(max_iters)\n",
    "#         HistogramLogger(hist_epoch_interval=1),\n",
    "#         ReconLogger(recon_epoch_interval=1),\n",
    "#         EarlyStopping('val_loss', patience=10),\n",
    "]\n",
    "\n",
    "# Start the experiment\n",
    "exp_name = f'{model.name}_{dm.name}'\n",
    "tb_logger = pl_loggers.TensorBoardLogger(save_dir=f'{ROOT}/temp-logs', \n",
    "                                         name=exp_name,\n",
    "                                         log_graph=False,\n",
    "                                        default_hp_metric=False)\n",
    "print(\"Log dir: \", tb_logger.log_dir)\n",
    "\n",
    "log_dir = Path(tb_logger.log_dir)\n",
    "if not log_dir.exists():\n",
    "    log_dir.mkdir(parents=True)\n",
    "    print(\"Created: \", log_dir)\n",
    "    \n",
    "\n",
    "# Log computational graph\n",
    "# model_wrapper = ModelWrapper(model)\n",
    "# tb_logger.experiment.add_graph(model_wrapper, model.example_input_array.to(model.device))\n",
    "# tb_logger.log_graph(model)\n",
    "\n",
    "trainer_config = {\n",
    "    'gpus':1,\n",
    "    'max_epochs': max_epochs,\n",
    "    'progress_bar_refresh_rate':0,\n",
    "#     'auto_lr_find': True,\n",
    "    'terminate_on_nan':True,\n",
    "#     'num_sanity_val_steps':0.25,\n",
    "    'check_val_every_n_epoch':10,\n",
    "    'logger':tb_logger,\n",
    "    'callbacks':callbacks,\n",
    "}\n",
    "\n",
    "# \n",
    "# trainer = pl.Trainer(fast_dev_run=3)\n",
    "trainer = pl.Trainer(**trainer_config)\n",
    "# trainer.tune(model=model, datamodule=dm)\n",
    "\n",
    "# Start exp\n",
    "# Fit model\n",
    "trainer.fit(model, dm)\n",
    "print(f\"Finished at ep {trainer.current_epoch, trainer.batch_idx}\")"
   ]
  },
  {
   "cell_type": "code",
   "execution_count": null,
   "metadata": {},
   "outputs": [],
   "source": [
    "model.current_epoch"
   ]
  },
  {
   "cell_type": "markdown",
   "metadata": {},
   "source": [
    "## Log  hparmeters and `best_score` to tensorboard"
   ]
  },
  {
   "cell_type": "code",
   "execution_count": null,
   "metadata": {},
   "outputs": [],
   "source": [
    "hparams = model.hparams.copy()\n",
    "hparams.update(dm.hparams)\n",
    "best_score = trainer.checkpoint_callback.best_model_score.item()\n",
    "metrics = {'hparam/best_score': best_score} #todo: define a metric and use it here\n",
    "pprint(hparams)\n",
    "pprint(metrics)"
   ]
  },
  {
   "cell_type": "code",
   "execution_count": null,
   "metadata": {},
   "outputs": [],
   "source": [
    "# Use pl.Logger's method \"log_hyperparameters\" which handles the \n",
    "# hparams' element's formats to be suitable for Tensorboard logging\n",
    "# See: \n",
    "# https://sourcegraph.com/github.com/PyTorchLightning/pytorch-lightning@be3e8701cebfc59bec97d0c7717bb5e52afc665e/-/blob/pytorch_lightning/loggers/tensorboard.py#explorer:~:text=def%20log_hyperparams\n",
    "best_score = trainer.checkpoint_callback.best_model_score.item()\n",
    "metrics = {'hparam/best_score': best_score} #todo: define a metric and use it here\n",
    "trainer.logger.log_hyperparams(hparams, metrics)"
   ]
  },
  {
   "cell_type": "code",
   "execution_count": null,
   "metadata": {},
   "outputs": [],
   "source": []
  },
  {
   "cell_type": "markdown",
   "metadata": {},
   "source": [
    " TODO:\n",
    " OPTIMIZER\n",
    " def configure_optimizers(self):\n",
    "        #TODO: ADD optimizer for discriminator\n",
    "        return torch.optim.Adam(self.parameters(), lr=self.hparams.get(\"learning_rate\"))"
   ]
  },
  {
   "cell_type": "markdown",
   "metadata": {},
   "source": [
    "## TODO: \n",
    "Showing the changes in the scores based on c and scores based on s will be super intersting to see as the model learns!!!"
   ]
  },
  {
   "cell_type": "markdown",
   "metadata": {
    "toc-hr-collapsed": true
   },
   "source": [
    "# Evaluations"
   ]
  },
  {
   "cell_type": "code",
   "execution_count": null,
   "metadata": {},
   "outputs": [],
   "source": [
    "from src.models.plmodules.utils import get_best_ckpt, load_model, load_best_model\n",
    "from pytorch_lightning.utilities.cloud_io import load as pl_load\n"
   ]
  },
  {
   "cell_type": "markdown",
   "metadata": {},
   "source": [
    "Load best model recorded during the training\n"
   ]
  },
  {
   "cell_type": "code",
   "execution_count": null,
   "metadata": {},
   "outputs": [],
   "source": [
    "ckpt_path = get_best_ckpt(model,verbose=True)\n",
    "ckpt = pl_load(ckpt_path, map_location=lambda storage, loc: storage)  # dict object\n",
    "print(ckpt[''])"
   ]
  },
  {
   "cell_type": "code",
   "execution_count": null,
   "metadata": {},
   "outputs": [],
   "source": [
    "model.load_state_dict(ckpt['state_dict'])\n",
    "# load_best_model(model)"
   ]
  },
  {
   "cell_type": "markdown",
   "metadata": {
    "heading_collapsed": "true"
   },
   "source": [
    "## Reconstruction\n",
    "    \n",
    "    "
   ]
  },
  {
   "cell_type": "code",
   "execution_count": null,
   "metadata": {},
   "outputs": [],
   "source": [
    "from torch.utils.tensorboard import SummaryWriter\n",
    "\n",
    "def show_recon(model: BiVAE, \n",
    "               tb_writer: SummaryWriter=None,\n",
    "               global_step:int=0,\n",
    "               unnorm:bool=True, \n",
    "               to_show:bool=True, \n",
    "               verbose:bool=False):\n",
    "    model.eval()\n",
    "    dm = model.trainer.datamodule\n",
    "    cmap = 'gray' if dm.size()[0] ==1 else None\n",
    "    train_mean, train_std = dm.train_mean, dm.train_std\n",
    "    with torch.no_grad():\n",
    "        for mode in ['train', 'val']:\n",
    "            dl = getattr(model, f\"{mode}_dataloader\")()\n",
    "            batch = next(iter(dl))\n",
    "            \n",
    "            x = batch['img']\n",
    "#             label_c = batch['digit']  # digit/content label (int) -- currently not used\n",
    "#             label_s = batch['color']\n",
    "            x = x.to(model.device)\n",
    "            x_recon = model.generate(x)\n",
    "            \n",
    "            # Move to cpu for visualization\n",
    "            x = x.cpu()\n",
    "            x_recon = x_recon.cpu()\n",
    "            \n",
    "            if verbose: \n",
    "                info(x, f\"{mode}_x\")\n",
    "                info(x_recon, f\"{mode}_x_recon\")\n",
    "                \n",
    "            if unnorm:\n",
    "                x_unnormed = unnormalize(x, train_mean, train_std)\n",
    "                x_recon_unnormed = unnormalize(x_recon, train_mean, train_std)\n",
    "                if verbose:\n",
    "                    print(\"===After unnormalize===\")\n",
    "                    info(x_unnormed, f\"{mode}_x_unnormed\")\n",
    "                    info(x_recon_unnormed, f\"{mode}_x_recon_unnormed\")\n",
    "                    \n",
    "            if to_show:\n",
    "                _x = x_unnormed if unnorm else x\n",
    "                _x_recon = x_recon_unnormed if unnorm else x_recon\n",
    "                show_timgs(_x, title=f\"Input: {mode}\", cmap=cmap)\n",
    "#                 show_timgs(_x_recon, title=f\"Recon: {mode}\", cmap=cmap)\n",
    "                show_timgs(LinearRescaler()(_x_recon), title=f\"Recon(linearized): {mode}\", cmap=cmap)\n",
    "\n",
    "            # Log input-recon grid to TB\n",
    "            if tb_writer is not None:\n",
    "                input_grid = torchvision.utils.make_grid(x_unnormed) # (C, gridh, gridw)\n",
    "                recon_grid = torchvision.utils.make_grid(x_recon_unnormed) # (C, gridh, gridw)\n",
    "                normed_recon_grid = torchvision.utils.make_grid(LinearRescaler()(x_recon_unnormed))\n",
    "                \n",
    "                grid = torch.cat([input_grid, normed_recon_grid], dim=-1) #inputs | recons\n",
    "                tb_writer.add_image(f\"{mode}/recons\", grid, global_step=global_step)\n"
   ]
  },
  {
   "cell_type": "code",
   "execution_count": null,
   "metadata": {},
   "outputs": [],
   "source": [
    "show_recon(model, tb_logger, global_step=1, verbose=True)"
   ]
  },
  {
   "cell_type": "markdown",
   "metadata": {
    "heading_collapsed": "true"
   },
   "source": [
    "## Separation of content vs. style in the latent space"
   ]
  },
  {
   "cell_type": "markdown",
   "metadata": {},
   "source": [
    "- Case 1: Take two inputs of same content (digit id) and very different colorization styles\n",
    "- Case 2: Take two inputs of different contents (eg. digit 0 and digit 5)\n",
    "    - First, pass the first image to encoder -> get c^(1) and s^(1)\n",
    "    - Now pass the second image to encoder -> get c^(2) and s^(2)\n",
    "    - recon1 = decoder(z=[c^(1), s^(1)])\n",
    "    - recon2 = decoder(z=[c^(2), s^(1)])\n",
    "    - ---\n",
    "    - recon3 = decoder(z=[c^(1), s^(2)])\n",
    "    - recon4 = decoder(z=[c^(2), s^(2)])\n",
    "---\n",
    "Do it for a dataset from multiple styles\n",
    "- Create a concatenated dataseta"
   ]
  },
  {
   "cell_type": "markdown",
   "metadata": {},
   "source": [
    "### Collect one image per digit id to create a fixed evaluation image set\n",
    "Save the test image set to compare different models "
   ]
  },
  {
   "cell_type": "code",
   "execution_count": null,
   "metadata": {},
   "outputs": [],
   "source": [
    "from torch.utils.data import Sampler\n",
    "# See https://github.com/pytorch/pytorch/blob/master/torch/utils/data/sampler.py\n",
    "\n",
    "class DeterministicSampler(Sampler):\n",
    "\n",
    "    def __init__(self, dataset, seed:int):\n",
    "        self.dataset = dataset\n",
    "        self.seed = seed\n",
    "        self.generator = torch.Generator()\n",
    "        self.generator.manual_seed(self.seed)\n",
    "        self.indices = torch.randperm(len(self.dataset), generator=self.generator).tolist()\n",
    "\n",
    "    def __iter__(self):\n",
    "        yield from torch.randperm(len(self.dataset), generator=self.generator).tolist()\n",
    "#         return iter(self.indices) #  yield from iter(self.indices)\n",
    "\n",
    "def test_deterministic_sampler():\n",
    "    seeded_sampler = DeterministicSampler(ds, seed=10)\n",
    "    for i in range(10):\n",
    "        ind = next(iter(seeded_sampler))\n",
    "        print(ind)"
   ]
  },
  {
   "cell_type": "code",
   "execution_count": null,
   "metadata": {},
   "outputs": [],
   "source": [
    "def get_class_reps(dl: DataLoader) -> Dict[Union[str,int], torch.Tensor]:\n",
    "    class_reps = {}\n",
    "    for i in range(len(dl.dataset)):\n",
    "        batch = dl.dataset[i]\n",
    "        x = batch['img']\n",
    "        label_c = batch['digit']  # digit/content label (int) -- currently not used\n",
    "        label_s = batch['color']\n",
    "\n",
    "        if len(class_reps) >= 10:\n",
    "            break\n",
    "        if isinstance(label_c, torch.Tensor):\n",
    "            label_c = label_c.item()\n",
    "        label_c = str(label_c)\n",
    "        if label_c in class_reps:\n",
    "            continue\n",
    "        class_reps[label_c] = x\n",
    "    return class_reps\n",
    "\n",
    "def create_mnistm_class_reps(to_save=True) -> Dict[str, torch.Tensor]:\n",
    "    \"\"\"todo: make it compatible with other datamodules\"\"\"\n",
    "    mode = 'train'\n",
    "    dm = MNISTMDataModule(data_root=data_root, in_shape=in_shape, batch_size=36,\n",
    "                         shuffle=True)\n",
    "    dm.setup()\n",
    "    train_mean, train_std = dm.train_mean, dm.train_std\n",
    "\n",
    "    dl = getattr(dm, f\"{mode}_dataloader\")()\n",
    "    class_reps = get_class_reps(dl)\n",
    "\n",
    "    # Show original digit images (one for each class, ie. \"representatives\" of each digit id)\n",
    "    timgs = torch.stack(tuple(class_reps.values()))\n",
    "    unnormed = unnormalize(timgs, dm.train_mean, dm.train_std)\n",
    "    show_timgs(unnormed, nrows=2)\n",
    "    print(class_reps.keys())\n",
    "    \n",
    "    if to_save:\n",
    "        out_dir = ROOT/'data/test-transfers'\n",
    "        out_dir.mkdir(parents=True, exist_ok=True)\n",
    "        out_path = out_dir/f'class_reps_{now2str()}'\n",
    "        print(\"Saved class_reps to: \", out_path)\n",
    "        joblib.dump(class_reps, out_path)\n",
    "    return class_reps"
   ]
  },
  {
   "cell_type": "code",
   "execution_count": null,
   "metadata": {},
   "outputs": [],
   "source": [
    "# class_reps = create_mnistm_class_reps()\n"
   ]
  },
  {
   "cell_type": "code",
   "execution_count": null,
   "metadata": {},
   "outputs": [],
   "source": [
    "mode = 'train'\n",
    "dl = getattr(dm, f\"{mode}_dataloader\")()\n",
    "class_reps = get_class_reps(dl)"
   ]
  },
  {
   "cell_type": "code",
   "execution_count": null,
   "metadata": {},
   "outputs": [],
   "source": []
  },
  {
   "cell_type": "code",
   "execution_count": null,
   "metadata": {},
   "outputs": [],
   "source": []
  },
  {
   "cell_type": "markdown",
   "metadata": {},
   "source": [
    "### Case 1: constant content code $c$, varying style code $s^{(i)} \\in \\{s^{(1)}, \\dots \\}$\n",
    "  - $z = [c, s^{(i)}]$ --> decoder --> $\\mu^{x^{(i)}}_{pred}$ (aka. recon)\n",
    "\n",
    "First, we fix the content code to that of a constant input (eg. an ith datapt in the training set),\n",
    "and use various style codes (eg. any $j \\neq i$th datapt). We combine the (constant) content code with each of the style code and see the output of the decoder (ie. `mu_x_pred`)."
   ]
  },
  {
   "cell_type": "code",
   "execution_count": null,
   "metadata": {},
   "outputs": [],
   "source": [
    "# Reconstruct each digit-representative image by \n",
    "# interlacing a single content code with various style codes\n",
    "linearlize = True\n",
    "model.eval()\n",
    "train_mean, train_std = dm.train_mean, dm.train_std\n",
    "ids = [str(i) for i in range(10)]\n",
    "grids = {} \n",
    "for i, id_a in enumerate(ids):\n",
    "    \n",
    "    grids[id_a] = []\n",
    "    for j, id_b in enumerate(ids):\n",
    "\n",
    "        img_a = class_reps[id_a]\n",
    "        img_b = class_reps[id_b]\n",
    "        img_pair = torch.stack([img_a, img_b], dim=0)\n",
    "        unnormed_img_pair = unnormalize(img_pair, train_mean, train_std)\n",
    "        \n",
    "        with torch.no_grad():\n",
    "            dict_qparams = model.encode(img_pair)\n",
    "            dict_z = model.rsample(dict_qparams)\n",
    "    #         pprint(dict_z)\n",
    "\n",
    "            # Fix content to c[0]\n",
    "            content = dict_z[\"c\"][[0]]\n",
    "            style = dict_z[\"s\"][[1]]\n",
    "            test_dict_z = {\"c\": content, \"s\": style}\n",
    "    #         pprint(test_dict_z)\n",
    "\n",
    "            # Reconstruct\n",
    "            z = model.combine_content_style(test_dict_z)\n",
    "            recons = model.decode(z)\n",
    "\n",
    "            # Optional: for better viz, unnormalize or/and linearlize\n",
    "            unnormed_recons = unnormalize(recons, train_mean, train_std)\n",
    "            if linearlize:\n",
    "                img_pair = LinearRescaler()(img_pair)\n",
    "                unnormed_recons = LinearRescaler()(unnormed_recons)\n",
    "#             info(recons, 'recons')\n",
    "#             info(unnormed_recons, 'unnormed_recons')    \n",
    "            \n",
    "            grid = torchvision.utils.make_grid(\n",
    "                torch.cat([unnormed_img_pair,unnormed_recons], dim=0)\n",
    "            ) # (3, gridh, gridw)\n",
    "            grids[id_a].append(grid)\n",
    "\n",
    "# Concatenate the grids to make a single grid by putting each grid in row dim(ie. dim=1)    #log_dir/content_transfers/version_x\n",
    "# -- Optionally, save the image results    \n",
    "log_dir = Path(model.logger.log_dir)\n",
    "save_dir = get_next_version_path(log_dir, name='content_transfers') \n",
    "save_dir.mkdir()\n",
    "print(\"Created: \", save_dir)\n",
    "\n",
    "for id_a, recons in grids.items():\n",
    "    recons = torch.cat(recons, dim=1)\n",
    "    save_path = save_dir/f\"content_transfers_{id_a}.png\"\n",
    "    show_timg(recons, \n",
    "              title=id_a, \n",
    "              save_path=save_path,\n",
    "             )\n",
    "    plt.axis('off')\n",
    "    plt.show()\n",
    "    "
   ]
  },
  {
   "cell_type": "markdown",
   "metadata": {},
   "source": [
    "### Case 2: fix the style code, and apply the style to various contents.\n",
    "We have a single stlye code provider, and multiple content providers.\n",
    "- We first extract the style code $s$ from the style provider\n",
    "- Then, for each content provider x^{(i)}, extract the content code $c^{(i)}$\n",
    "- Combine the constant style code with each content code and pass into the decoder.\n",
    "\n",
    "Ideal result will show that each reconstructed image preserves the content of each content provider, while stylizing the content in the style of the style provider.\n"
   ]
  },
  {
   "cell_type": "code",
   "execution_count": null,
   "metadata": {},
   "outputs": [],
   "source": [
    "# Viz options\n",
    "linearlize = True\n",
    "\n",
    "# Reconstruct each digit-representative image by \n",
    "# interlacing a single content code with various style codes\n",
    "model.eval()\n",
    "ids = [str(i) for i in range(10)]\n",
    "grids = {} \n",
    "for i, id_a in enumerate(ids):\n",
    "    \n",
    "    grids[id_a] = []\n",
    "    for j, id_b in enumerate(ids):\n",
    "\n",
    "        img_a = class_reps[id_a]\n",
    "        img_b = class_reps[id_b]\n",
    "        img_pair = torch.stack([img_a, img_b], dim=0)\n",
    "        unnormed_img_pair = unnormalize(img_pair, train_mean, train_std)\n",
    "        \n",
    "        with torch.no_grad():\n",
    "            dict_qparams = model.encode(img_pair)\n",
    "            dict_z = model.rsample(dict_qparams)\n",
    "    #         pprint(dict_z)\n",
    "\n",
    "            # Fix style to s[0]\n",
    "            style = dict_z[\"s\"][[0]]\n",
    "            content = dict_z[\"c\"][[1]]\n",
    "            test_dict_z = {\"c\": content, \"s\": style}\n",
    "\n",
    "            # Reconstruct\n",
    "            z = model.combine_content_style(test_dict_z)\n",
    "            recons = model.decode(z)\n",
    "            \n",
    "            # Optional: for better viz, unnormalize or/and linearlize\n",
    "            unnormed_recons = unnormalize(recons, train_mean, train_std)\n",
    "            if linearlize:\n",
    "                img_pair = LinearRescaler()(img_pair)\n",
    "                unnormed_recons = LinearRescaler()(unnormed_recons)\n",
    "#             info(recons, 'recons')\n",
    "#             info(unnormed_recons, 'unnormed_recons')    \n",
    "            \n",
    "            # Make a grid of [input pairs, reconstructed image of the mixed codes]\n",
    "            grid = torchvision.utils.make_grid(\n",
    "                torch.cat([unnormed_img_pair,unnormed_recons], dim=0)\n",
    "            ) # (3, gridh, gridw)\n",
    "            grids[id_a].append(grid)\n",
    "\n",
    "# Concatenate the grids to make a single grid by putting each grid in row dim(ie. dim=1)    #log_dir/content_transfers/version_x\n",
    "# -- Optionally, save the image results    \n",
    "log_dir = Path(model.logger.log_dir)\n",
    "save_dir = get_next_version_path(log_dir, name='style_transfers') \n",
    "save_dir.mkdir()\n",
    "print(\"Created: \", save_dir)\n",
    "\n",
    "for id_a, recons in grids.items():\n",
    "    recons = torch.cat(recons, dim=1)\n",
    "    save_path = save_dir/f\"style_transfers_{id_a}.png\"\n",
    "    show_timg(recons, \n",
    "              title=id_a, \n",
    "              save_path=save_path,\n",
    "             )\n",
    "    plt.axis('off')\n",
    "    plt.show()"
   ]
  },
  {
   "cell_type": "code",
   "execution_count": null,
   "metadata": {},
   "outputs": [],
   "source": []
  },
  {
   "cell_type": "markdown",
   "metadata": {},
   "source": [
    "todo\n",
    "- [x] Get the version code from pl.log\n",
    "- [ ] Make logger for loss_c and loss_s\n",
    "- [ ] Impl. evaluation code\n",
    "\n",
    "\n",
    "Here\n",
    "- [ ] Impl. code for latent space traversal\n",
    "- [ ] Look at the embeddings based on z_c\n",
    "  - any clusters? -- run kmeans\n",
    "    - use digit id as labels in TB Projector\n",
    "- [ ] Look at the embeddings based on z_s\n",
    "  - any clusters? does it match clusters based on style class? \n",
    "    - use style id as labels\n",
    "    \n",
    "---\n",
    "Experiment adv vae model on maptiles\n",
    "- [ ] Train a model with maptiles w/ one style\n",
    "- [ ] Train a model with maptiles w/ two style (eg. tonerbackground, cartolight)"
   ]
  },
  {
   "cell_type": "code",
   "execution_count": null,
   "metadata": {},
   "outputs": [],
   "source": []
  },
  {
   "cell_type": "code",
   "execution_count": null,
   "metadata": {},
   "outputs": [],
   "source": []
  },
  {
   "cell_type": "code",
   "execution_count": null,
   "metadata": {},
   "outputs": [],
   "source": []
  },
  {
   "cell_type": "code",
   "execution_count": null,
   "metadata": {},
   "outputs": [],
   "source": []
  },
  {
   "cell_type": "code",
   "execution_count": null,
   "metadata": {},
   "outputs": [],
   "source": []
  },
  {
   "cell_type": "markdown",
   "metadata": {},
   "source": [
    "### Latent space \n",
    "- Embeddings (cluster, Nearest neighbor)\n",
    "  - Content space: clustering, NNeighbor queries\n",
    "  - Style space: clustering, NNeighbor queries\n",
    "- Distribution of qc's parameters\n",
    "- Distribution of qs's parameters\n"
   ]
  },
  {
   "cell_type": "markdown",
   "metadata": {},
   "source": [
    "#### Visualize embeddings\n",
    "- collect a batch of inputs -> encoder -> [mu, log_var] -> sample -> a batch of z's (embeddings)\n",
    "- use tb logger\n"
   ]
  },
  {
   "cell_type": "code",
   "execution_count": null,
   "metadata": {},
   "outputs": [],
   "source": [
    "ckpt_path = trainer.checkpoint_callback.best_model_path\n",
    "ckpt = pl_load(ckpt_path, map_location=lambda storage, loc: storage) #dict object\n",
    "model.load_state_dict(ckpt['state_dict'])\n",
    "best_global_step = ckpt['global_step']\n",
    "for k,v in ckpt.items():\n",
    "    if 'state' in k:\n",
    "        continue\n",
    "    pprint(f\"{k}:{v}\")"
   ]
  },
  {
   "cell_type": "code",
   "execution_count": null,
   "metadata": {},
   "outputs": [],
   "source": [
    "model.eval()\n",
    "# best_epoch = ckpt[\"epoch\"]\n",
    "\n",
    "ds = model.train_dataloader().dataset\n",
    "dl = DataLoader(ds, batch_size=1028)\n",
    "with torch.no_grad():\n",
    "#     x, y = next(iter(model.train_dataloader()))\n",
    "    x, y = next(iter(dl))\n",
    "    dict_qparams = model.encode(x)\n",
    "    dict_z = model.rsample(dict_qparams)\n",
    "    \n",
    "#     z = out['z']\n",
    "    \n",
    "    # log embedding of z_c to tensorboard \n",
    "    writer = model.logger.experiment\n",
    "    writer.add_embedding(dict_z['c'],\n",
    "                         label_img=LinearRescaler()(x), \n",
    "                         metadata=y.tolist(),\n",
    "                         global_step=best_global_step, #todo\n",
    "                         tag=\"z_c\"\n",
    "                        )\n",
    "    \n",
    "    # log embedding of z_s to tensorboard \n",
    "    writer = model.logger.experiment\n",
    "    writer.add_embedding(dict_z['s'],\n",
    "                         label_img=LinearRescaler()(x), \n",
    "                         metadata=y.tolist(),\n",
    "                         global_step=best_global_step, #todo\n",
    "                         tag=\"z_s\"\n",
    "                        )\n",
    "    \n",
    "    \n",
    "\n"
   ]
  },
  {
   "cell_type": "code",
   "execution_count": null,
   "metadata": {},
   "outputs": [],
   "source": [
    "todo:\n",
    "    project many more (Eg. the whole dataset) to embeddings\n",
    "    "
   ]
  },
  {
   "cell_type": "code",
   "execution_count": null,
   "metadata": {},
   "outputs": [],
   "source": []
  },
  {
   "cell_type": "markdown",
   "metadata": {},
   "source": [
    "### Visualize original images of the close neighbors in the latent space\n",
    "- Compute pairwise distance using cosine similarity\n",
    "- For each row (ie. a latent code), get the index of the smallest values. \n",
    "- Select the images in the batch x and visualize (can do this all in show_timgs)\n",
    "\n"
   ]
  },
  {
   "cell_type": "code",
   "execution_count": null,
   "metadata": {},
   "outputs": [],
   "source": [
    "from sklearn.metrics import pairwise_distances"
   ]
  },
  {
   "cell_type": "code",
   "execution_count": null,
   "metadata": {},
   "outputs": [],
   "source": [
    "model.eval()\n",
    "mode = 'train'\n",
    "query_size = 64 #1024\n",
    "metric = 'cosine' #pairwise distance metric in content space\n",
    "ds = getattr(dm, f\"{mode}_ds\")\n",
    "dl = DataLoader(ds, batch_size=query_size, shuffle=True)\n",
    "with torch.no_grad():\n",
    "    batch = next(iter(dl))\n",
    "    \n",
    "    x = batch['img']\n",
    "    y = batch['digit']  # digit/content label (int) -- currently not used\n",
    "#     label_s = batch['color']\n",
    "    dict_qparams = model.encode(x)\n",
    "    dict_z = model.rsample(dict_qparams)\n",
    "    c = dict_z['c']\n",
    "    s = dict_z['s']\n",
    "    z = model.combine_content_style(dict_z)\n",
    "\n",
    "    for name, embedding in zip([\"c\", \"s\", \"z\"], [c,s,z]):\n",
    "        # Compute pairwise distance of the embeddings\n",
    "        pdists = pairwise_distances(embedding.numpy(), metric=metric)\n",
    "        plt.imshow(pdists, cmap='gray')\n",
    "        plt.title(f\"Pairwise dists of {name}'s\")\n",
    "        plt.axis('off')\n",
    "        plt.show()\n",
    "\n",
    "        # smaller values means closer in distance\n",
    "        n_ngbrs = 10\n",
    "        n_rows = query_size #100\n",
    "\n",
    "        selected_rows = range(len(x)) #np.random.choice(len(x), size=n_rows)\n",
    "        for idx in selected_rows:\n",
    "            args = np.argsort(pdists[idx])[:n_ngbrs]\n",
    "    #         print(args)\n",
    "            show_timgs(LinearRescaler()(x[args]), cmap='gray', factor=2, \n",
    "                       nrows=1, title=f'Nearest of digit {y[idx].item()}: {name}')"
   ]
  },
  {
   "cell_type": "code",
   "execution_count": null,
   "metadata": {},
   "outputs": [],
   "source": []
  },
  {
   "cell_type": "markdown",
   "metadata": {},
   "source": [
    "#### Latent partition via. distribution of q's parameters\n",
    "1. Distribution of qc's parameters per digit_id\n",
    "2. Distribution of qs's parameters per style label\n",
    "\n",
    "Step:\n",
    "- Input a batch of input images of the same content (ie. digit_id), \n",
    "- Get the distribution of its $mu^{(c)}_j$'s at each of its dimensions $j$"
   ]
  },
  {
   "cell_type": "code",
   "execution_count": null,
   "metadata": {},
   "outputs": [],
   "source": [
    "from src.visualize.utils import get_fig"
   ]
  },
  {
   "cell_type": "code",
   "execution_count": null,
   "metadata": {},
   "outputs": [],
   "source": [
    "# # Collect a batch of images of the same content\n",
    "# digit_id = 0\n",
    "# n_samples = 128\n",
    "# xs = []\n",
    "# n_collected = 0\n",
    "# while n_collected <= n_samples:\n",
    "#     (x,y) = next(iter(dl))\n",
    "#     selected = x[y==digit_id]\n",
    "#     xs.append(selected)\n",
    "#     n_collected += len(selected)\n",
    "# xs = torch.cat(xs, dim=0)\n",
    "# print(f\" Digit {digit_id} collected. Input: {xs.shape}\")\n",
    "\n",
    "# # Set output dir\n",
    "# out_dir = model.logger.log_dir/\"dist-qparams\"\n",
    "\n",
    "# # Plot the distributions of qc parameters and qs parameters\n",
    "# model.eval()\n",
    "# with torch.no_grad():\n",
    "#     dict_qparams = model(xs)\n",
    "    \n",
    "#     # Dist. of each content dim's parameters\n",
    "#     mu_qc, var_qc = dict_qparams['mu_qc'], dict_qparams['logvar_qc'].exp() #(BS, content_dim), (BS, style_dim)\n",
    "#     f, ax = plt.subplots(1, model.content_dim, figsize=(20,2))\n",
    "#     title = f\"Digit {digit_id}: \" + r\"Dist. of $mu^{c}_j$\"\n",
    "#     f.suptitle(title)\n",
    "#     for j in range(model.content_dim):\n",
    "#         ax[j].hist(mu_qc[:,j])\n",
    "#         ax[j].set_xlim((-4,4))\n",
    "#         ax[j].set_title(f\"dim {j}\")\n",
    "#     f.tight_layout()\n",
    "#     plt.show()\n",
    "#     f.savefig(out_dir/f\"digit-{digit_id}-mu_qc.png\" \n",
    "    \n",
    "#     # Dist. of each style dim's parameters\n",
    "#     mu_qs, var_qs = dict_qparams['mu_qs'], dict_qparams['logvar_qs'].exp()\n",
    "#     f, ax = plt.subplots(1, model.style_dim, figsize=(20,2))\n",
    "#     title = f\"Digit {digit_id}: \" + r\"Dist. of $mu^{s}_j$\"\n",
    "#     f.suptitle(title)\n",
    "#     for j in range(model.style_dim):\n",
    "#         ax[j].hist(mu_qs[:,j])\n",
    "#         ax[j].set_xlim((0,2))\n",
    "#         ax[j].set_title(f\"dim {j}\")\n",
    "#     f.tight_layout()\n",
    "#     plt.show()"
   ]
  },
  {
   "cell_type": "code",
   "execution_count": null,
   "metadata": {},
   "outputs": [],
   "source": [
    "var_qc.max().item()"
   ]
  },
  {
   "cell_type": "code",
   "execution_count": null,
   "metadata": {},
   "outputs": [],
   "source": [
    "mu_xlim = (-4., 4.)\n",
    "# var_xlim = (0, 0.05)\n",
    "n_samples = 1024\n",
    "# Set output dir\n",
    "out_dir = log_dir/\"dist_qparams\"\n",
    "if not out_dir.exists():\n",
    "    out_dir.mkdir(parents=True)\n",
    "    print(\"Created and saving to: \", out_dir)\n",
    "    \n",
    "for digit_id in range(10):\n",
    "    # Collect a batch of images of the same content\n",
    "    xs = []\n",
    "    n_collected = 0\n",
    "    while n_collected <= n_samples:\n",
    "        batch = next(iter(dl))\n",
    "        x = batch['img']\n",
    "        label_c = batch['digit']\n",
    "        label_s = batch['color']\n",
    "        selected = x[label_c==digit_id]\n",
    "        xs.append(selected)\n",
    "        n_collected += len(selected)\n",
    "    xs = torch.cat(xs, dim=0)\n",
    "    print(f\" Digit {digit_id} collected. Input: {xs.shape}\")\n",
    "\n",
    "\n",
    "    # Plot the distributions of qc parameters and qs parameters\n",
    "    model.eval()\n",
    "    with torch.no_grad():\n",
    "        dict_qparams = model(xs)\n",
    "\n",
    "        # Dist. of each content dim's parameters\n",
    "        mu_qc, var_qc = dict_qparams['mu_qc'], dict_qparams['logvar_qc'].exp() #(BS, content_dim), (BS, style_dim)\n",
    "        # -- mu_qc's\n",
    "#         mu_xlim = (0, max(mu_qc)\n",
    "        f, ax = plt.subplots(1, model.content_dim, figsize=(20,2))\n",
    "        title = f\"Digit {digit_id}: \" + r\"Dist. of $mu^{c}_j$\"\n",
    "        f.suptitle(title)\n",
    "        for j in range(model.content_dim):\n",
    "            ax[j].hist(mu_qc[:,j])\n",
    "            ax[j].set_xlim(mu_xlim)\n",
    "            ax[j].set_title(f\"dim {j}\")\n",
    "        f.tight_layout()\n",
    "        f.savefig(out_dir/f\"digit-{digit_id}-mu_qc.png\")\n",
    "        plt.show()\n",
    "        \n",
    "        # -- var_qc's\n",
    "        var_xlim = (0, var_qc.max().item())\n",
    "        f, ax = plt.subplots(1, model.style_dim, figsize=(20,2))\n",
    "        title = f\"Digit {digit_id}: \" + r\"Dist. of $var^{c}_j$\"\n",
    "        f.suptitle(title)\n",
    "        for j in range(model.content_dim):\n",
    "            ax[j].hist(var_qc[:,j])\n",
    "            ax[j].set_xlim(var_xlim)\n",
    "            ax[j].set_title(f\"dim {j}\")\n",
    "        f.tight_layout()\n",
    "        f.savefig(out_dir/f\"digit-{digit_id}-var_qc.png\")\n",
    "        plt.show()\n",
    "\n",
    "        \n",
    "        # Dist. of each style dim's parameters\n",
    "        mu_qs, var_qs = dict_qparams['mu_qs'], dict_qparams['logvar_qs'].exp()\n",
    "        # -- mu_qs's\n",
    "#         mu_xlim = (0, max(mu_qs))\n",
    "        f, ax = plt.subplots(1, model.style_dim, figsize=(20,2))\n",
    "        title = f\"Digit {digit_id}: \" + r\"Dist. of $mu^{s}_j$\"\n",
    "        f.suptitle(title)\n",
    "        for j in range(model.style_dim):\n",
    "            ax[j].hist(mu_qs[:,j])\n",
    "            ax[j].set_xlim(mu_xlim)\n",
    "            ax[j].set_title(f\"dim {j}\")\n",
    "        f.tight_layout()\n",
    "        f.savefig(out_dir/f\"digit-{digit_id}-mu_qs.png\")\n",
    "        plt.show()\n",
    "        \n",
    "        # -- var_qs's\n",
    "        var_xlim = (0, var_qs.max().item())\n",
    "        f, ax = plt.subplots(1, model.style_dim, figsize=(20,2))\n",
    "        title = f\"Digit {digit_id}: \" + r\"Dist. of $var^{s}_j$\"\n",
    "        f.suptitle(title)\n",
    "        for j in range(model.style_dim):\n",
    "            ax[j].hist(var_qs[:,j])\n",
    "            ax[j].set_xlim(var_xlim)\n",
    "            ax[j].set_title(f\"dim {j}\")\n",
    "        f.tight_layout()\n",
    "        f.savefig(out_dir/f\"digit-{digit_id}-var_qs.png\")\n",
    "        plt.show()"
   ]
  },
  {
   "cell_type": "code",
   "execution_count": null,
   "metadata": {},
   "outputs": [],
   "source": [
    "plt.bar(var_qs)"
   ]
  },
  {
   "cell_type": "code",
   "execution_count": null,
   "metadata": {},
   "outputs": [],
   "source": []
  },
  {
   "cell_type": "code",
   "execution_count": null,
   "metadata": {},
   "outputs": [],
   "source": []
  },
  {
   "cell_type": "code",
   "execution_count": null,
   "metadata": {},
   "outputs": [],
   "source": []
  },
  {
   "cell_type": "code",
   "execution_count": null,
   "metadata": {},
   "outputs": [],
   "source": []
  },
  {
   "cell_type": "code",
   "execution_count": null,
   "metadata": {},
   "outputs": [],
   "source": []
  },
  {
   "cell_type": "code",
   "execution_count": null,
   "metadata": {},
   "outputs": [],
   "source": []
  },
  {
   "cell_type": "code",
   "execution_count": null,
   "metadata": {},
   "outputs": [],
   "source": []
  },
  {
   "cell_type": "markdown",
   "metadata": {},
   "source": [
    "---\n",
    "## Test BiVAE implementation "
   ]
  },
  {
   "cell_type": "markdown",
   "metadata": {},
   "source": [
    "TODO:\n",
    "- [ ] Check output sizes of BiVAE's \n",
    "    - [x] encode\n",
    "    - [x] rsample\n",
    "    - [x] combine_content_and_style\n",
    "    - [x] decode\n",
    "    - [x] forward\n",
    "- [ ] Check losses "
   ]
  },
  {
   "cell_type": "code",
   "execution_count": null,
   "metadata": {},
   "outputs": [],
   "source": [
    "x,y = next(iter(dm.train_dataloader()))\n",
    "info(x), info(y)"
   ]
  },
  {
   "cell_type": "markdown",
   "metadata": {},
   "source": [
    "- check `encode` and `rsample`"
   ]
  },
  {
   "cell_type": "code",
   "execution_count": null,
   "metadata": {},
   "outputs": [],
   "source": [
    "dict_qparams = model.encode(x)\n",
    "for k,v in dict_qparams.items():\n",
    "    print(f\"\\n{k}:  {v.shape}\")\n",
    "    if 'mu' in k:\n",
    "        print(v[0])\n",
    "    else:\n",
    "        print(v[0].exp())"
   ]
  },
  {
   "cell_type": "code",
   "execution_count": null,
   "metadata": {},
   "outputs": [],
   "source": [
    "dict_z = model.rsample(dict_qparams)\n",
    "for k,v in dict_z.items():\n",
    "    print(f\"\\n{k}:  {v.shape}\")\n",
    "    print(v[0])"
   ]
  },
  {
   "cell_type": "markdown",
   "metadata": {},
   "source": [
    "- check `combine_content_style` and `decode`"
   ]
  },
  {
   "cell_type": "code",
   "execution_count": null,
   "metadata": {},
   "outputs": [],
   "source": [
    "z = model.combine_content_style(dict_z)\n",
    "assert z.shape == (batch_size, latent_dim)\n",
    "print(\"z shape: \", z.shape) #(BS, latent_dim)"
   ]
  },
  {
   "cell_type": "code",
   "execution_count": null,
   "metadata": {},
   "outputs": [],
   "source": [
    "mu_x_pred = model.decode(z)\n",
    "assert mu_x_pred.shape == (batch_size, *in_shape)\n",
    "print(\"mu_x_pred shape: \", mu_x_pred.shape)"
   ]
  },
  {
   "cell_type": "markdown",
   "metadata": {},
   "source": [
    "- Check the entire forward pass"
   ]
  },
  {
   "cell_type": "code",
   "execution_count": null,
   "metadata": {},
   "outputs": [],
   "source": [
    "out_dict  = model(x)\n",
    "for k,v in out_dict.items():\n",
    "    print(f\"\\n{k}:  {v.shape}\")\n"
   ]
  },
  {
   "cell_type": "code",
   "execution_count": null,
   "metadata": {},
   "outputs": [],
   "source": []
  },
  {
   "cell_type": "code",
   "execution_count": null,
   "metadata": {},
   "outputs": [],
   "source": []
  },
  {
   "cell_type": "markdown",
   "metadata": {},
   "source": [
    "- Check the component's of the optimization objective (ie. loss)\n",
    "    - [x] partition_z: z -> dict_z (keys are \"c\" and \"s\")\n",
    "    - [ ] predict_y: z_partition -> scores\n",
    "    - [ ]"
   ]
  },
  {
   "cell_type": "code",
   "execution_count": null,
   "metadata": {},
   "outputs": [],
   "source": [
    "dict_z = model.partition_z(z)\n",
    "for k,v in dict_z.items():\n",
    "    print(f\"{k}: {v.shape}\")\n",
    "    assert v.shape == (batch_size, model.content_dim)"
   ]
  },
  {
   "cell_type": "code",
   "execution_count": null,
   "metadata": {},
   "outputs": [],
   "source": [
    "c,s = dict_z[\"c\"], dict_z[\"s\"]\n",
    "c.shape, s.shape"
   ]
  },
  {
   "cell_type": "markdown",
   "metadata": {},
   "source": [
    "TODO: \n",
    "- [ ] Showing the changes in the scores based on c and scores based on s will be super intersting to see as the model learns!!!"
   ]
  },
  {
   "cell_type": "code",
   "execution_count": null,
   "metadata": {},
   "outputs": [],
   "source": [
    "scores_c = model.predict_y(c)\n",
    "scores_s = model.predict_y(s)\n",
    "assert scores_c.shape == (batch_size, model.n_classes)\n",
    "assert scores_s.shape == (batch_size, model.n_classes)\n",
    "\n",
    "print(scores_c[0]) # TODO: Showing the changes in the scores based on c and scores based on s will be super intersting to see as the model learns!!!\n",
    "print(scores_s[0])"
   ]
  },
  {
   "cell_type": "code",
   "execution_count": null,
   "metadata": {},
   "outputs": [],
   "source": [
    "y[0]"
   ]
  },
  {
   "cell_type": "markdown",
   "metadata": {},
   "source": [
    "- check `compute_loss_c` and `compute_loss_s`\n"
   ]
  },
  {
   "cell_type": "code",
   "execution_count": null,
   "metadata": {},
   "outputs": [],
   "source": [
    "loss_c = model.compute_loss_c(c)\n",
    "print(\"loss_c: \", loss_c)"
   ]
  },
  {
   "cell_type": "code",
   "execution_count": null,
   "metadata": {},
   "outputs": [],
   "source": [
    "loss_s = model.compute_loss_s(s, y)\n",
    "print(\"loss_s: \", loss_s)"
   ]
  },
  {
   "cell_type": "markdown",
   "metadata": {},
   "source": [
    "- Full loss workflow"
   ]
  },
  {
   "cell_type": "code",
   "execution_count": null,
   "metadata": {},
   "outputs": [],
   "source": [
    "out_dict = model(x)\n",
    "loss_dict = model.loss_function(out_dict, [x,y], 'train')\n",
    "pprint(loss_dict)"
   ]
  },
  {
   "cell_type": "code",
   "execution_count": null,
   "metadata": {},
   "outputs": [],
   "source": []
  },
  {
   "cell_type": "code",
   "execution_count": null,
   "metadata": {},
   "outputs": [],
   "source": []
  },
  {
   "cell_type": "code",
   "execution_count": null,
   "metadata": {},
   "outputs": [],
   "source": []
  },
  {
   "cell_type": "code",
   "execution_count": null,
   "metadata": {},
   "outputs": [],
   "source": []
  },
  {
   "cell_type": "code",
   "execution_count": null,
   "metadata": {},
   "outputs": [],
   "source": []
  },
  {
   "cell_type": "code",
   "execution_count": null,
   "metadata": {},
   "outputs": [],
   "source": []
  },
  {
   "cell_type": "code",
   "execution_count": null,
   "metadata": {},
   "outputs": [],
   "source": [
    "a = torch.ones((5,2))\n",
    "b = torch.zeros((5,3))"
   ]
  },
  {
   "cell_type": "code",
   "execution_count": null,
   "metadata": {},
   "outputs": [],
   "source": [
    "torch.cat([a,b], dim=1)"
   ]
  },
  {
   "cell_type": "code",
   "execution_count": null,
   "metadata": {},
   "outputs": [],
   "source": [
    "m = nn.LogSoftmax()\n",
    "m(a).exp()"
   ]
  },
  {
   "cell_type": "code",
   "execution_count": null,
   "metadata": {},
   "outputs": [],
   "source": []
  },
  {
   "cell_type": "code",
   "execution_count": null,
   "metadata": {},
   "outputs": [],
   "source": []
  },
  {
   "cell_type": "code",
   "execution_count": null,
   "metadata": {},
   "outputs": [],
   "source": []
  },
  {
   "cell_type": "code",
   "execution_count": null,
   "metadata": {},
   "outputs": [],
   "source": []
  },
  {
   "cell_type": "code",
   "execution_count": null,
   "metadata": {},
   "outputs": [],
   "source": []
  },
  {
   "cell_type": "markdown",
   "metadata": {},
   "source": [
    "---"
   ]
  },
  {
   "cell_type": "markdown",
   "metadata": {
    "heading_collapsed": "true"
   },
   "source": [
    "## Play with MNISTM and USPS datasets"
   ]
  },
  {
   "cell_type": "markdown",
   "metadata": {},
   "source": [
    "- MNISTM\n",
    "    - original size of an image: (1, 16,16)\n",
    "    - labels: {0, ..., 9}\n",
    "- USPS\n",
    "    - original size of an image: (3, 28, 28)\n",
    "    - labels\" {0, ..., 9}\n",
    "    "
   ]
  },
  {
   "cell_type": "code",
   "execution_count": null,
   "metadata": {},
   "outputs": [],
   "source": [
    "from src.data.datasets.mnistm import MNISTM\n",
    "from torchvision.datasets import USPS\n"
   ]
  },
  {
   "cell_type": "code",
   "execution_count": null,
   "metadata": {},
   "outputs": [],
   "source": [
    "# MNISTM Dataset\n",
    "bs = 16\n",
    "num_workers = 16\n",
    "pin_memory = True\n",
    "xforms = transforms.Compose([\n",
    "    transforms.ToTensor(),\n",
    "    ])\n",
    "# target_xforms = \n",
    "ds = MNISTM(ROOT/'data', \n",
    "          transform=xforms,\n",
    "          download=True)\n",
    "\n",
    "dl = DataLoader(ds, batch_size=bs, shuffle=True, \n",
    "               num_workers=num_workers, pin_memory=pin_memory)\n",
    "\n",
    "\n",
    "x,y = next(iter(dl))\n",
    "info(x)\n",
    "info(y)"
   ]
  },
  {
   "cell_type": "code",
   "execution_count": null,
   "metadata": {},
   "outputs": [],
   "source": [
    "show_timgs(x)"
   ]
  },
  {
   "cell_type": "code",
   "execution_count": null,
   "metadata": {},
   "outputs": [],
   "source": [
    "# USPS Dataset\n",
    "bs = 16\n",
    "num_workers = 16\n",
    "pin_memory = True\n",
    "xforms = transforms.Compose([\n",
    "    transforms.ToTensor(),\n",
    "    ])\n",
    "# target_xforms = \n",
    "ds = USPS(ROOT/'data', \n",
    "          transform=xforms,\n",
    "          download=True)\n",
    "\n",
    "dl = DataLoader(ds, batch_size=bs, shuffle=True, \n",
    "               num_workers=num_workers, pin_memory=pin_memory)\n",
    "\n",
    "\n",
    "x,y = next(iter(dl))\n",
    "info(x)\n",
    "info(y)\n",
    "show_timgs(x, cmap='gray')"
   ]
  },
  {
   "cell_type": "code",
   "execution_count": null,
   "metadata": {},
   "outputs": [],
   "source": []
  }
 ],
 "metadata": {
  "kernelspec": {
   "display_name": "Python [conda env:test]",
   "language": "python",
   "name": "conda-env-test-py"
  },
  "language_info": {
   "codemirror_mode": {
    "name": "ipython",
    "version": 3
   },
   "file_extension": ".py",
   "mimetype": "text/x-python",
   "name": "python",
   "nbconvert_exporter": "python",
   "pygments_lexer": "ipython3",
   "version": "3.8.6"
  }
 },
 "nbformat": 4,
 "nbformat_minor": 4
}
